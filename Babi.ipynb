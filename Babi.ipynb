{
 "cells": [
  {
   "cell_type": "markdown",
   "metadata": {},
   "source": [
    "# CASE: Number of Questions and Sentences in the test dataset"
   ]
  },
  {
   "cell_type": "code",
   "execution_count": 1,
   "metadata": {
    "collapsed": true
   },
   "outputs": [],
   "source": [
    "with open(\"MemN2N-tensorflow-master/data/ptb.test.txt\") as f:\n",
    "    lines = f.readlines()"
   ]
  },
  {
   "cell_type": "code",
   "execution_count": 2,
   "metadata": {
    "collapsed": true
   },
   "outputs": [],
   "source": [
    "# load text\n",
    "filename = 'MemN2N-tensorflow-master/data/ptb.test.txt'\n",
    "file = open(filename, 'rt')\n",
    "text = file.read()\n",
    "file.close()"
   ]
  },
  {
   "cell_type": "code",
   "execution_count": 4,
   "metadata": {},
   "outputs": [
    {
     "name": "stdout",
     "output_type": "stream",
     "text": [
      "1 Mary is in the school.\n",
      "2 Bill is in the kitchen.\n",
      "3 Is Bill in the bedroom? \tno\t2\n",
      "4 Bill journeyed to the bedroom.\n",
      "5 Fred travelled to the cinema.\n",
      "6 Is Bill in the bedroom? \tyes\t4\n",
      "7 Fred went back to the park.\n",
      "8 Bill is either in the school or the office.\n",
      "9 Is Bill in the park? \tno\t8\n",
      "10 Mary went to the cinema.\n",
      "11 Julie is either in the school or the office.\n",
      "12 Is Fred in the park? \tyes\t7\n",
      "13 Julie is either in the park or the school.\n",
      "14 Bill went back to the office.\n",
      "15 Is Bill in the office? \tyes\t14\n",
      "1 Fred journeyed to the office.\n",
      "2 Fred went back to the cinema.\n",
      "3 Is Fred in the office? \tno\t2\n",
      "4 Julie is either in the school or the office.\n",
      "5 Julie moved to the cinema.\n",
      "6 Is Julie in the cinema? \tyes\t5\n",
      "7 Julie is either in the kitchen or the bedroom.\n",
      "8 Julie journeyed to the school.\n",
      "9 Is Julie in the school? \tyes\t8\n",
      "10 Bill is either in the bedroom or the school.\n",
      "11 Bill went to the bedroom.\n",
      "12 Is Bill in the office? \tno\t11\n",
      "13 Julie journeyed to the park.\n",
      "14 Mary travelled to the school.\n",
      "15 Is Julie in the park? \tyes\t13\n",
      "1 Bill is in the kitchen.\n",
      "2 Julie is either in the school or the cinema.\n",
      "3 Is Bill in the bedroom? \tno\t1\n",
      "4 Fred is in the bedroom.\n",
      "5 Bill is in the school.\n",
      "6 Is Julie in the bedroom? \tno\t2\n",
      "7 Julie is either in the bedroom or the office.\n",
      "8 Fred is in the park.\n",
      "9 Is Julie in the bedroom? \tmaybe\t7\n",
      "10 Fred is either in the school or the bedroom.\n",
      "11 Mary went to the kitchen.\n",
      "12 Is Bill in the school? \tyes\t5\n",
      "13 Julie is either in the kitchen or the bedroom.\n",
      "14 Julie is in the school.\n",
      "15 Is Julie in the school? \tyes\t14\n",
      "1 Julie journeyed to the bedroom.\n",
      "2 Julie travelled to the park.\n",
      "3 Is Julie in the kitchen? \tno\t2\n",
      "4 Fred is either in the office or the kitchen.\n",
      "5 Julie travelled to the bedroom.\n",
      "6 Is Julie in the bedroom? \tyes\t5\n",
      "7 Julie moved to the office.\n",
      "8 Mary is either in the office or the kitchen.\n",
      "9 Is Julie in the kitchen? \tno\t7\n",
      "10 Bill is in the kitchen.\n",
      "11 Bill is either in the bedroom or the park.\n",
      "12 Is Mary in the kitchen? \tmaybe\t8\n",
      "13 Fred is either in the bedroom or the bedroom.\n",
      "14 Julie went to the bedroom.\n",
      "15 Is Mary in the kitchen? \tmaybe\t8\n",
      "1 Bill went to the kitchen.\n",
      "2 Fred is either in the office or the park.\n",
      "3 Is Fred in the park? \tmaybe\t2\n",
      "4 Fred went to the bedroom.\n",
      "5 Mary is either in the school or the bedroom.\n",
      "6 Is Fred in the school? \tno\t4\n",
      "7 Bill is either in the office or the kitchen.\n",
      "8 Julie is either in the kitchen or the park.\n",
      "9 Is Fred in the bedroom? \tyes\t4\n",
      "10 Mary is in the park.\n",
      "11 Mary went back to the office.\n",
      "12 Is Mary in the kitchen? \tno\t11\n",
      "13 Bill went back to the kitchen.\n",
      "14 Bill journeyed to the bedroom.\n",
      "15 Is Mary in the office? \tyes\t11\n",
      "1 Julie journeyed to the cinema.\n",
      "2 Fred is in the bedroom.\n",
      "3 Is Julie in the school? \tno\t1\n",
      "4 Julie moved to the kitchen.\n",
      "5 Mary travelled to the park.\n",
      "6 Is Julie in the kitchen? \tyes\t4\n",
      "7 Mary is in the bedroom.\n",
      "8 Fred is either in the kitchen or the kitchen.\n",
      "9 Is Mary in the office? \tno\t7\n",
      "10 Julie is either in the cinema or the park.\n",
      "11 Bill is either in the office or the office.\n",
      "12 Is Mary in the office? \tno\t7\n",
      "13 Bill is either in the park or the park.\n",
      "14 Julie is either in the bedroom or the school.\n",
      "15 Is Fred in the cinema? \tno\t8\n",
      "1 Fred is in the kitchen.\n",
      "2 Bill moved to the bedroom.\n",
      "3 Is Fred in the kitchen? \tyes\t1\n",
      "4 Fred is in the school.\n",
      "5 Bill went to the cinema.\n",
      "6 Is Bill in the school? \tno\t5\n",
      "7 Julie travelled to the park.\n",
      "8 Julie is in the office.\n",
      "9 Is Bill in the cinema? \tyes\t5\n",
      "10 Julie journeyed to the kitchen.\n",
      "12 Is Julie in the school? \tno\t8\n",
      "13 Bill is either in the park or the bedroom.\n",
      "14 Bill is in the school.\n",
      "15 Is Mary in the school? \tmaybe\t11\n",
      "\n",
      "1 Julie moved to the cinema.\n",
      "11 Mary journeyed to the school.\n",
      "12 Is Mary in the park? \tno\t11\n",
      "13 Mary is either in the kitchen or the office.\n",
      "14 Bill went to the school.\n",
      "15 Is Fred in the school? \tno\t10\n",
      "1 Fred went to the school.\n",
      "2 Fred travelled to the kitchen.\n",
      "3 Is Fred in the kitchen? \tyes\t2\n",
      "4 Fred went back to the school.\n",
      "5 Fred moved to the bedroom.\n",
      "6 Is Fred in the school? \tno\t5\n",
      "7 Mary is in the office.\n",
      "8 Mary is either in the kitchen or the kitchen.\n",
      "9 Is Mary in the school? \tno\t8\n",
      "10 Julie went to the office.\n",
      "11 Julie moved to the cinema.\n",
      "12 Is Mary in the kitchen? \tmaybe\t8\n",
      "13 Bill went back to the office.\n",
      "14 Fred is in the kitchen.\n",
      "15 Is Mary in the kitchen? \tmaybe\t8\n",
      "1 Julie went back to the cinema.\n",
      "2 Bill travelled to the kitchen.\n",
      "3 Is Julie in the cinema? \tyes\t1\n",
      "4 Fred moved to the bedroom.\n",
      "5 Julie went back to the kitchen.\n",
      "6 Is Julie in the park? \tno\t5\n",
      "7 Mary is in the kitchen.\n",
      "8 Bill went back to the park.\n",
      "9 Is Mary in the kitchen? \tyes\t7\n",
      "10 Mary is in the bedroom.\n",
      "11 Fred is either in the park or the office.\n",
      "12 Is Fred in the office? \tmaybe\t11\n",
      "13 Fred is in the park.\n",
      "14 Mary is either in the cinema or the cinema.\n",
      "15 Is Fred in the park? \tyes\t13\n",
      "1 Fred is in the office.\n",
      "2 Mary is in the park.\n",
      "3 Is Mary in the bedroom? \tno\t2\n",
      "4 Fred went back to the bedroom.\n",
      "5 Mary is either in the office or the school.\n",
      "6 Is Mary in the office? \tmaybe\t5\n",
      "7 Fred went back to the school.\n",
      "8 Fred is either in the bedroom or the bedroom.\n",
      "9 Is Mary in the office? \tmaybe\t5\n",
      "\n",
      "\n",
      "\n"
     ]
    }
   ],
   "source": [
    "print(text)"
   ]
  },
  {
   "cell_type": "code",
   "execution_count": 6,
   "metadata": {},
   "outputs": [
    {
     "name": "stdout",
     "output_type": "stream",
     "text": [
      "[nltk_data] Downloading package punkt to C:\\Users\\Bhanuja\n",
      "[nltk_data]     Chouhan\\AppData\\Roaming\\nltk_data...\n",
      "[nltk_data]   Package punkt is already up-to-date!\n"
     ]
    },
    {
     "data": {
      "text/plain": [
       "True"
      ]
     },
     "execution_count": 6,
     "metadata": {},
     "output_type": "execute_result"
    }
   ],
   "source": [
    "import nltk\n",
    "nltk.download('punkt')"
   ]
  },
  {
   "cell_type": "code",
   "execution_count": 7,
   "metadata": {},
   "outputs": [
    {
     "name": "stdout",
     "output_type": "stream",
     "text": [
      "['1 Mary is in the school.', '2 Bill is in the kitchen.', '3 Is Bill in the bedroom?', 'no\\t2\\n4 Bill journeyed to the bedroom.', '5 Fred travelled to the cinema.', '6 Is Bill in the bedroom?', 'yes\\t4\\n7 Fred went back to the park.', '8 Bill is either in the school or the office.', '9 Is Bill in the park?', 'no\\t8\\n10 Mary went to the cinema.', '11 Julie is either in the school or the office.', '12 Is Fred in the park?', 'yes\\t7\\n13 Julie is either in the park or the school.', '14 Bill went back to the office.', '15 Is Bill in the office?', 'yes\\t14\\n1 Fred journeyed to the office.', '2 Fred went back to the cinema.', '3 Is Fred in the office?', 'no\\t2\\n4 Julie is either in the school or the office.', '5 Julie moved to the cinema.', '6 Is Julie in the cinema?', 'yes\\t5\\n7 Julie is either in the kitchen or the bedroom.', '8 Julie journeyed to the school.', '9 Is Julie in the school?', 'yes\\t8\\n10 Bill is either in the bedroom or the school.', '11 Bill went to the bedroom.', '12 Is Bill in the office?', 'no\\t11\\n13 Julie journeyed to the park.', '14 Mary travelled to the school.', '15 Is Julie in the park?', 'yes\\t13\\n1 Bill is in the kitchen.', '2 Julie is either in the school or the cinema.', '3 Is Bill in the bedroom?', 'no\\t1\\n4 Fred is in the bedroom.', '5 Bill is in the school.', '6 Is Julie in the bedroom?', 'no\\t2\\n7 Julie is either in the bedroom or the office.', '8 Fred is in the park.', '9 Is Julie in the bedroom?', 'maybe\\t7\\n10 Fred is either in the school or the bedroom.', '11 Mary went to the kitchen.', '12 Is Bill in the school?', 'yes\\t5\\n13 Julie is either in the kitchen or the bedroom.', '14 Julie is in the school.', '15 Is Julie in the school?', 'yes\\t14\\n1 Julie journeyed to the bedroom.', '2 Julie travelled to the park.', '3 Is Julie in the kitchen?', 'no\\t2\\n4 Fred is either in the office or the kitchen.', '5 Julie travelled to the bedroom.', '6 Is Julie in the bedroom?', 'yes\\t5\\n7 Julie moved to the office.', '8 Mary is either in the office or the kitchen.', '9 Is Julie in the kitchen?', 'no\\t7\\n10 Bill is in the kitchen.', '11 Bill is either in the bedroom or the park.', '12 Is Mary in the kitchen?', 'maybe\\t8\\n13 Fred is either in the bedroom or the bedroom.', '14 Julie went to the bedroom.', '15 Is Mary in the kitchen?', 'maybe\\t8\\n1 Bill went to the kitchen.', '2 Fred is either in the office or the park.', '3 Is Fred in the park?', 'maybe\\t2\\n4 Fred went to the bedroom.', '5 Mary is either in the school or the bedroom.', '6 Is Fred in the school?', 'no\\t4\\n7 Bill is either in the office or the kitchen.', '8 Julie is either in the kitchen or the park.', '9 Is Fred in the bedroom?', 'yes\\t4\\n10 Mary is in the park.', '11 Mary went back to the office.', '12 Is Mary in the kitchen?', 'no\\t11\\n13 Bill went back to the kitchen.', '14 Bill journeyed to the bedroom.', '15 Is Mary in the office?', 'yes\\t11\\n1 Julie journeyed to the cinema.', '2 Fred is in the bedroom.', '3 Is Julie in the school?', 'no\\t1\\n4 Julie moved to the kitchen.', '5 Mary travelled to the park.', '6 Is Julie in the kitchen?', 'yes\\t4\\n7 Mary is in the bedroom.', '8 Fred is either in the kitchen or the kitchen.', '9 Is Mary in the office?', 'no\\t7\\n10 Julie is either in the cinema or the park.', '11 Bill is either in the office or the office.', '12 Is Mary in the office?', 'no\\t7\\n13 Bill is either in the park or the park.', '14 Julie is either in the bedroom or the school.', '15 Is Fred in the cinema?', 'no\\t8\\n1 Fred is in the kitchen.', '2 Bill moved to the bedroom.', '3 Is Fred in the kitchen?', 'yes\\t1\\n4 Fred is in the school.', '5 Bill went to the cinema.', '6 Is Bill in the school?', 'no\\t5\\n7 Julie travelled to the park.', '8 Julie is in the office.', '9 Is Bill in the cinema?', 'yes\\t5\\n10 Julie journeyed to the kitchen.', '12 Is Julie in the school?', 'no\\t8\\n13 Bill is either in the park or the bedroom.', '14 Bill is in the school.', '15 Is Mary in the school?', 'maybe\\t11\\n\\n1 Julie moved to the cinema.', '11 Mary journeyed to the school.', '12 Is Mary in the park?', 'no\\t11\\n13 Mary is either in the kitchen or the office.', '14 Bill went to the school.', '15 Is Fred in the school?', 'no\\t10\\n1 Fred went to the school.', '2 Fred travelled to the kitchen.', '3 Is Fred in the kitchen?', 'yes\\t2\\n4 Fred went back to the school.', '5 Fred moved to the bedroom.', '6 Is Fred in the school?', 'no\\t5\\n7 Mary is in the office.', '8 Mary is either in the kitchen or the kitchen.', '9 Is Mary in the school?', 'no\\t8\\n10 Julie went to the office.', '11 Julie moved to the cinema.', '12 Is Mary in the kitchen?', 'maybe\\t8\\n13 Bill went back to the office.', '14 Fred is in the kitchen.', '15 Is Mary in the kitchen?', 'maybe\\t8\\n1 Julie went back to the cinema.', '2 Bill travelled to the kitchen.', '3 Is Julie in the cinema?', 'yes\\t1\\n4 Fred moved to the bedroom.', '5 Julie went back to the kitchen.', '6 Is Julie in the park?', 'no\\t5\\n7 Mary is in the kitchen.', '8 Bill went back to the park.', '9 Is Mary in the kitchen?', 'yes\\t7\\n10 Mary is in the bedroom.', '11 Fred is either in the park or the office.', '12 Is Fred in the office?', 'maybe\\t11\\n13 Fred is in the park.', '14 Mary is either in the cinema or the cinema.', '15 Is Fred in the park?', 'yes\\t13\\n1 Fred is in the office.', '2 Mary is in the park.', '3 Is Mary in the bedroom?', 'no\\t2\\n4 Fred went back to the bedroom.', '5 Mary is either in the office or the school.', '6 Is Mary in the office?', 'maybe\\t5\\n7 Fred went back to the school.', '8 Fred is either in the bedroom or the bedroom.', '9 Is Mary in the office?', 'maybe\\t5']\n"
     ]
    }
   ],
   "source": [
    "from nltk.tokenize import sent_tokenize\n",
    "tokens = sent_tokenize(text)\n",
    "print(tokens)"
   ]
  },
  {
   "cell_type": "code",
   "execution_count": 8,
   "metadata": {
    "collapsed": true
   },
   "outputs": [],
   "source": [
    "import re"
   ]
  },
  {
   "cell_type": "code",
   "execution_count": 14,
   "metadata": {},
   "outputs": [
    {
     "name": "stdout",
     "output_type": "stream",
     "text": [
      "['?', '?', '?', '?', '?', '?', '?', '?', '?', '?', '?', '?', '?', '?', '?', '?', '?', '?', '?', '?', '?', '?', '?', '?', '?', '?', '?', '?', '?', '?', '?', '?', '?', '?', '?', '?', '?', '?', '?', '?', '?', '?', '?', '?', '?', '?', '?', '?', '?', '?']\n"
     ]
    }
   ],
   "source": [
    "question = [q for q in text if re.search(r'(\\?)$',q)]\n",
    "print(question)"
   ]
  },
  {
   "cell_type": "code",
   "execution_count": 16,
   "metadata": {},
   "outputs": [
    {
     "name": "stdout",
     "output_type": "stream",
     "text": [
      "Counter({'?': 50})\n"
     ]
    }
   ],
   "source": [
    "from collections import Counter\n",
    "c = Counter(question)\n",
    "print(c)"
   ]
  },
  {
   "cell_type": "code",
   "execution_count": 17,
   "metadata": {},
   "outputs": [
    {
     "name": "stdout",
     "output_type": "stream",
     "text": [
      "['.', '.', '.', '.', '.', '.', '.', '.', '.', '.', '.', '.', '.', '.', '.', '.', '.', '.', '.', '.', '.', '.', '.', '.', '.', '.', '.', '.', '.', '.', '.', '.', '.', '.', '.', '.', '.', '.', '.', '.', '.', '.', '.', '.', '.', '.', '.', '.', '.', '.', '.', '.', '.', '.', '.', '.', '.', '.', '.', '.', '.', '.', '.', '.', '.', '.', '.', '.', '.', '.', '.', '.', '.', '.', '.', '.', '.', '.', '.', '.', '.', '.', '.', '.', '.', '.', '.', '.', '.', '.', '.', '.', '.', '.', '.', '.', '.', '.', '.']\n"
     ]
    }
   ],
   "source": [
    "sentence = [q for q in text if re.search(r'(\\.)$',q)]\n",
    "print(sentence)"
   ]
  },
  {
   "cell_type": "code",
   "execution_count": 18,
   "metadata": {},
   "outputs": [
    {
     "name": "stdout",
     "output_type": "stream",
     "text": [
      "Counter({'.': 99})\n"
     ]
    }
   ],
   "source": [
    "s = Counter(sentence)\n",
    "print(s)"
   ]
  },
  {
   "cell_type": "markdown",
   "metadata": {},
   "source": [
    "# Result: There are 50 questions and 99 sentences in this dataset"
   ]
  },
  {
   "cell_type": "code",
   "execution_count": null,
   "metadata": {
    "collapsed": true
   },
   "outputs": [],
   "source": []
  },
  {
   "cell_type": "markdown",
   "metadata": {},
   "source": [
    "# CASE: Sentiment Analysis"
   ]
  },
  {
   "cell_type": "code",
   "execution_count": 19,
   "metadata": {},
   "outputs": [
    {
     "name": "stderr",
     "output_type": "stream",
     "text": [
      "C:\\ProgramData\\Miniconda3\\lib\\site-packages\\nltk\\twitter\\__init__.py:20: UserWarning: The twython library has not been installed. Some functionality from the twitter package will not be available.\n",
      "  warnings.warn(\"The twython library has not been installed. \"\n"
     ]
    }
   ],
   "source": [
    "import nltk\n",
    "from nltk.sentiment.vader import SentimentIntensityAnalyzer"
   ]
  },
  {
   "cell_type": "code",
   "execution_count": 20,
   "metadata": {},
   "outputs": [
    {
     "name": "stdout",
     "output_type": "stream",
     "text": [
      "1 Mary is in the school.\n",
      "neg: 0.0,\n",
      "neu: 1.0,\n",
      "pos: 0.0,\n",
      "compound: 0.0,\n",
      "2 Bill is in the kitchen.\n",
      "neg: 0.0,\n",
      "neu: 1.0,\n",
      "pos: 0.0,\n",
      "compound: 0.0,\n",
      "3 Is Bill in the bedroom?\n",
      "neg: 0.0,\n",
      "neu: 1.0,\n",
      "pos: 0.0,\n",
      "compound: 0.0,\n",
      "no\t2\n",
      "4 Bill journeyed to the bedroom.\n",
      "neg: 0.306,\n",
      "neu: 0.694,\n",
      "pos: 0.0,\n",
      "compound: -0.296,\n",
      "5 Fred travelled to the cinema.\n",
      "neg: 0.0,\n",
      "neu: 1.0,\n",
      "pos: 0.0,\n",
      "compound: 0.0,\n",
      "6 Is Bill in the bedroom?\n",
      "neg: 0.0,\n",
      "neu: 1.0,\n",
      "pos: 0.0,\n",
      "compound: 0.0,\n",
      "yes\t4\n",
      "7 Fred went back to the park.\n",
      "neg: 0.0,\n",
      "neu: 0.69,\n",
      "pos: 0.31,\n",
      "compound: 0.4019,\n",
      "8 Bill is either in the school or the office.\n",
      "neg: 0.0,\n",
      "neu: 1.0,\n",
      "pos: 0.0,\n",
      "compound: 0.0,\n",
      "9 Is Bill in the park?\n",
      "neg: 0.0,\n",
      "neu: 1.0,\n",
      "pos: 0.0,\n",
      "compound: 0.0,\n",
      "no\t8\n",
      "10 Mary went to the cinema.\n",
      "neg: 0.268,\n",
      "neu: 0.732,\n",
      "pos: 0.0,\n",
      "compound: -0.296,\n",
      "11 Julie is either in the school or the office.\n",
      "neg: 0.0,\n",
      "neu: 1.0,\n",
      "pos: 0.0,\n",
      "compound: 0.0,\n",
      "12 Is Fred in the park?\n",
      "neg: 0.0,\n",
      "neu: 1.0,\n",
      "pos: 0.0,\n",
      "compound: 0.0,\n",
      "yes\t7\n",
      "13 Julie is either in the park or the school.\n",
      "neg: 0.0,\n",
      "neu: 0.787,\n",
      "pos: 0.213,\n",
      "compound: 0.4019,\n",
      "14 Bill went back to the office.\n",
      "neg: 0.0,\n",
      "neu: 1.0,\n",
      "pos: 0.0,\n",
      "compound: 0.0,\n",
      "15 Is Bill in the office?\n",
      "neg: 0.0,\n",
      "neu: 1.0,\n",
      "pos: 0.0,\n",
      "compound: 0.0,\n",
      "yes\t14\n",
      "1 Fred journeyed to the office.\n",
      "neg: 0.0,\n",
      "neu: 0.69,\n",
      "pos: 0.31,\n",
      "compound: 0.4019,\n",
      "2 Fred went back to the cinema.\n",
      "neg: 0.0,\n",
      "neu: 1.0,\n",
      "pos: 0.0,\n",
      "compound: 0.0,\n",
      "3 Is Fred in the office?\n",
      "neg: 0.0,\n",
      "neu: 1.0,\n",
      "pos: 0.0,\n",
      "compound: 0.0,\n",
      "no\t2\n",
      "4 Julie is either in the school or the office.\n",
      "neg: 0.196,\n",
      "neu: 0.804,\n",
      "pos: 0.0,\n",
      "compound: -0.296,\n",
      "5 Julie moved to the cinema.\n",
      "neg: 0.0,\n",
      "neu: 1.0,\n",
      "pos: 0.0,\n",
      "compound: 0.0,\n",
      "6 Is Julie in the cinema?\n",
      "neg: 0.0,\n",
      "neu: 1.0,\n",
      "pos: 0.0,\n",
      "compound: 0.0,\n",
      "yes\t5\n",
      "7 Julie is either in the kitchen or the bedroom.\n",
      "neg: 0.0,\n",
      "neu: 0.769,\n",
      "pos: 0.231,\n",
      "compound: 0.4019,\n",
      "8 Julie journeyed to the school.\n",
      "neg: 0.0,\n",
      "neu: 1.0,\n",
      "pos: 0.0,\n",
      "compound: 0.0,\n",
      "9 Is Julie in the school?\n",
      "neg: 0.0,\n",
      "neu: 1.0,\n",
      "pos: 0.0,\n",
      "compound: 0.0,\n",
      "yes\t8\n",
      "10 Bill is either in the bedroom or the school.\n",
      "neg: 0.0,\n",
      "neu: 0.787,\n",
      "pos: 0.213,\n",
      "compound: 0.4019,\n",
      "11 Bill went to the bedroom.\n",
      "neg: 0.0,\n",
      "neu: 1.0,\n",
      "pos: 0.0,\n",
      "compound: 0.0,\n",
      "12 Is Bill in the office?\n",
      "neg: 0.0,\n",
      "neu: 1.0,\n",
      "pos: 0.0,\n",
      "compound: 0.0,\n",
      "no\t11\n",
      "13 Julie journeyed to the park.\n",
      "neg: 0.239,\n",
      "neu: 0.761,\n",
      "pos: 0.0,\n",
      "compound: -0.296,\n",
      "14 Mary travelled to the school.\n",
      "neg: 0.0,\n",
      "neu: 1.0,\n",
      "pos: 0.0,\n",
      "compound: 0.0,\n",
      "15 Is Julie in the park?\n",
      "neg: 0.0,\n",
      "neu: 1.0,\n",
      "pos: 0.0,\n",
      "compound: 0.0,\n",
      "yes\t13\n",
      "1 Bill is in the kitchen.\n",
      "neg: 0.0,\n",
      "neu: 0.69,\n",
      "pos: 0.31,\n",
      "compound: 0.4019,\n",
      "2 Julie is either in the school or the cinema.\n",
      "neg: 0.0,\n",
      "neu: 1.0,\n",
      "pos: 0.0,\n",
      "compound: 0.0,\n",
      "3 Is Bill in the bedroom?\n",
      "neg: 0.0,\n",
      "neu: 1.0,\n",
      "pos: 0.0,\n",
      "compound: 0.0,\n",
      "no\t1\n",
      "4 Fred is in the bedroom.\n",
      "neg: 0.306,\n",
      "neu: 0.694,\n",
      "pos: 0.0,\n",
      "compound: -0.296,\n",
      "5 Bill is in the school.\n",
      "neg: 0.0,\n",
      "neu: 1.0,\n",
      "pos: 0.0,\n",
      "compound: 0.0,\n",
      "6 Is Julie in the bedroom?\n",
      "neg: 0.0,\n",
      "neu: 1.0,\n",
      "pos: 0.0,\n",
      "compound: 0.0,\n",
      "no\t2\n",
      "7 Julie is either in the bedroom or the office.\n",
      "neg: 0.196,\n",
      "neu: 0.804,\n",
      "pos: 0.0,\n",
      "compound: -0.296,\n",
      "8 Fred is in the park.\n",
      "neg: 0.0,\n",
      "neu: 1.0,\n",
      "pos: 0.0,\n",
      "compound: 0.0,\n",
      "9 Is Julie in the bedroom?\n",
      "neg: 0.0,\n",
      "neu: 1.0,\n",
      "pos: 0.0,\n",
      "compound: 0.0,\n",
      "maybe\t7\n",
      "10 Fred is either in the school or the bedroom.\n",
      "neg: 0.0,\n",
      "neu: 1.0,\n",
      "pos: 0.0,\n",
      "compound: 0.0,\n",
      "11 Mary went to the kitchen.\n",
      "neg: 0.0,\n",
      "neu: 1.0,\n",
      "pos: 0.0,\n",
      "compound: 0.0,\n",
      "12 Is Bill in the school?\n",
      "neg: 0.0,\n",
      "neu: 1.0,\n",
      "pos: 0.0,\n",
      "compound: 0.0,\n",
      "yes\t5\n",
      "13 Julie is either in the kitchen or the bedroom.\n",
      "neg: 0.0,\n",
      "neu: 0.787,\n",
      "pos: 0.213,\n",
      "compound: 0.4019,\n",
      "14 Julie is in the school.\n",
      "neg: 0.0,\n",
      "neu: 1.0,\n",
      "pos: 0.0,\n",
      "compound: 0.0,\n",
      "15 Is Julie in the school?\n",
      "neg: 0.0,\n",
      "neu: 1.0,\n",
      "pos: 0.0,\n",
      "compound: 0.0,\n",
      "yes\t14\n",
      "1 Julie journeyed to the bedroom.\n",
      "neg: 0.0,\n",
      "neu: 0.69,\n",
      "pos: 0.31,\n",
      "compound: 0.4019,\n",
      "2 Julie travelled to the park.\n",
      "neg: 0.0,\n",
      "neu: 1.0,\n",
      "pos: 0.0,\n",
      "compound: 0.0,\n",
      "3 Is Julie in the kitchen?\n",
      "neg: 0.0,\n",
      "neu: 1.0,\n",
      "pos: 0.0,\n",
      "compound: 0.0,\n",
      "no\t2\n",
      "4 Fred is either in the office or the kitchen.\n",
      "neg: 0.196,\n",
      "neu: 0.804,\n",
      "pos: 0.0,\n",
      "compound: -0.296,\n",
      "5 Julie travelled to the bedroom.\n",
      "neg: 0.0,\n",
      "neu: 1.0,\n",
      "pos: 0.0,\n",
      "compound: 0.0,\n",
      "6 Is Julie in the bedroom?\n",
      "neg: 0.0,\n",
      "neu: 1.0,\n",
      "pos: 0.0,\n",
      "compound: 0.0,\n",
      "yes\t5\n",
      "7 Julie moved to the office.\n",
      "neg: 0.0,\n",
      "neu: 0.649,\n",
      "pos: 0.351,\n",
      "compound: 0.4019,\n",
      "8 Mary is either in the office or the kitchen.\n",
      "neg: 0.0,\n",
      "neu: 1.0,\n",
      "pos: 0.0,\n",
      "compound: 0.0,\n",
      "9 Is Julie in the kitchen?\n",
      "neg: 0.0,\n",
      "neu: 1.0,\n",
      "pos: 0.0,\n",
      "compound: 0.0,\n",
      "no\t7\n",
      "10 Bill is in the kitchen.\n",
      "neg: 0.268,\n",
      "neu: 0.732,\n",
      "pos: 0.0,\n",
      "compound: -0.296,\n",
      "11 Bill is either in the bedroom or the park.\n",
      "neg: 0.0,\n",
      "neu: 1.0,\n",
      "pos: 0.0,\n",
      "compound: 0.0,\n",
      "12 Is Mary in the kitchen?\n",
      "neg: 0.0,\n",
      "neu: 1.0,\n",
      "pos: 0.0,\n",
      "compound: 0.0,\n",
      "maybe\t8\n",
      "13 Fred is either in the bedroom or the bedroom.\n",
      "neg: 0.0,\n",
      "neu: 1.0,\n",
      "pos: 0.0,\n",
      "compound: 0.0,\n",
      "14 Julie went to the bedroom.\n",
      "neg: 0.0,\n",
      "neu: 1.0,\n",
      "pos: 0.0,\n",
      "compound: 0.0,\n",
      "15 Is Mary in the kitchen?\n",
      "neg: 0.0,\n",
      "neu: 1.0,\n",
      "pos: 0.0,\n",
      "compound: 0.0,\n",
      "maybe\t8\n",
      "1 Bill went to the kitchen.\n",
      "neg: 0.0,\n",
      "neu: 1.0,\n",
      "pos: 0.0,\n",
      "compound: 0.0,\n",
      "2 Fred is either in the office or the park.\n",
      "neg: 0.0,\n",
      "neu: 1.0,\n",
      "pos: 0.0,\n",
      "compound: 0.0,\n",
      "3 Is Fred in the park?\n",
      "neg: 0.0,\n",
      "neu: 1.0,\n",
      "pos: 0.0,\n",
      "compound: 0.0,\n",
      "maybe\t2\n",
      "4 Fred went to the bedroom.\n",
      "neg: 0.0,\n",
      "neu: 1.0,\n",
      "pos: 0.0,\n",
      "compound: 0.0,\n",
      "5 Mary is either in the school or the bedroom.\n",
      "neg: 0.0,\n",
      "neu: 1.0,\n",
      "pos: 0.0,\n",
      "compound: 0.0,\n",
      "6 Is Fred in the school?\n",
      "neg: 0.0,\n",
      "neu: 1.0,\n",
      "pos: 0.0,\n",
      "compound: 0.0,\n",
      "no\t4\n",
      "7 Bill is either in the office or the kitchen.\n",
      "neg: 0.196,\n",
      "neu: 0.804,\n",
      "pos: 0.0,\n",
      "compound: -0.296,\n",
      "8 Julie is either in the kitchen or the park.\n",
      "neg: 0.0,\n",
      "neu: 1.0,\n",
      "pos: 0.0,\n",
      "compound: 0.0,\n",
      "9 Is Fred in the bedroom?\n",
      "neg: 0.0,\n",
      "neu: 1.0,\n",
      "pos: 0.0,\n",
      "compound: 0.0,\n",
      "yes\t4\n",
      "10 Mary is in the park.\n",
      "neg: 0.0,\n",
      "neu: 0.69,\n",
      "pos: 0.31,\n",
      "compound: 0.4019,\n",
      "11 Mary went back to the office.\n",
      "neg: 0.0,\n",
      "neu: 1.0,\n",
      "pos: 0.0,\n",
      "compound: 0.0,\n",
      "12 Is Mary in the kitchen?\n",
      "neg: 0.0,\n",
      "neu: 1.0,\n",
      "pos: 0.0,\n",
      "compound: 0.0,\n",
      "no\t11\n",
      "13 Bill went back to the kitchen.\n",
      "neg: 0.216,\n",
      "neu: 0.784,\n",
      "pos: 0.0,\n",
      "compound: -0.296,\n",
      "14 Bill journeyed to the bedroom.\n",
      "neg: 0.0,\n",
      "neu: 1.0,\n",
      "pos: 0.0,\n",
      "compound: 0.0,\n",
      "15 Is Mary in the office?\n",
      "neg: 0.0,\n",
      "neu: 1.0,\n",
      "pos: 0.0,\n",
      "compound: 0.0,\n",
      "yes\t11\n",
      "1 Julie journeyed to the cinema.\n",
      "neg: 0.0,\n",
      "neu: 0.69,\n",
      "pos: 0.31,\n",
      "compound: 0.4019,\n",
      "2 Fred is in the bedroom.\n",
      "neg: 0.0,\n",
      "neu: 1.0,\n",
      "pos: 0.0,\n",
      "compound: 0.0,\n",
      "3 Is Julie in the school?\n",
      "neg: 0.0,\n",
      "neu: 1.0,\n",
      "pos: 0.0,\n",
      "compound: 0.0,\n",
      "no\t1\n",
      "4 Julie moved to the kitchen.\n",
      "neg: 0.306,\n",
      "neu: 0.694,\n",
      "pos: 0.0,\n",
      "compound: -0.296,\n",
      "5 Mary travelled to the park.\n",
      "neg: 0.0,\n",
      "neu: 1.0,\n",
      "pos: 0.0,\n",
      "compound: 0.0,\n",
      "6 Is Julie in the kitchen?\n",
      "neg: 0.0,\n",
      "neu: 1.0,\n",
      "pos: 0.0,\n",
      "compound: 0.0,\n",
      "yes\t4\n",
      "7 Mary is in the bedroom.\n",
      "neg: 0.0,\n",
      "neu: 0.649,\n",
      "pos: 0.351,\n",
      "compound: 0.4019,\n",
      "8 Fred is either in the kitchen or the kitchen.\n",
      "neg: 0.0,\n",
      "neu: 1.0,\n",
      "pos: 0.0,\n",
      "compound: 0.0,\n",
      "9 Is Mary in the office?\n",
      "neg: 0.0,\n",
      "neu: 1.0,\n",
      "pos: 0.0,\n",
      "compound: 0.0,\n",
      "no\t7\n",
      "10 Julie is either in the cinema or the park.\n",
      "neg: 0.18,\n",
      "neu: 0.82,\n",
      "pos: 0.0,\n",
      "compound: -0.296,\n",
      "11 Bill is either in the office or the office.\n",
      "neg: 0.0,\n",
      "neu: 1.0,\n",
      "pos: 0.0,\n",
      "compound: 0.0,\n",
      "12 Is Mary in the office?\n",
      "neg: 0.0,\n",
      "neu: 1.0,\n",
      "pos: 0.0,\n",
      "compound: 0.0,\n",
      "no\t7\n",
      "13 Bill is either in the park or the park.\n",
      "neg: 0.18,\n",
      "neu: 0.82,\n",
      "pos: 0.0,\n",
      "compound: -0.296,\n",
      "14 Julie is either in the bedroom or the school.\n",
      "neg: 0.0,\n",
      "neu: 1.0,\n",
      "pos: 0.0,\n",
      "compound: 0.0,\n",
      "15 Is Fred in the cinema?\n",
      "neg: 0.0,\n",
      "neu: 1.0,\n",
      "pos: 0.0,\n",
      "compound: 0.0,\n",
      "no\t8\n",
      "1 Fred is in the kitchen.\n",
      "neg: 0.306,\n",
      "neu: 0.694,\n",
      "pos: 0.0,\n",
      "compound: -0.296,\n",
      "2 Bill moved to the bedroom.\n",
      "neg: 0.0,\n",
      "neu: 1.0,\n",
      "pos: 0.0,\n",
      "compound: 0.0,\n",
      "3 Is Fred in the kitchen?\n",
      "neg: 0.0,\n",
      "neu: 1.0,\n",
      "pos: 0.0,\n",
      "compound: 0.0,\n",
      "yes\t1\n",
      "4 Fred is in the school.\n",
      "neg: 0.0,\n",
      "neu: 0.649,\n",
      "pos: 0.351,\n",
      "compound: 0.4019,\n",
      "5 Bill went to the cinema.\n",
      "neg: 0.0,\n",
      "neu: 1.0,\n",
      "pos: 0.0,\n",
      "compound: 0.0,\n",
      "6 Is Bill in the school?\n",
      "neg: 0.0,\n",
      "neu: 1.0,\n",
      "pos: 0.0,\n",
      "compound: 0.0,\n",
      "no\t5\n",
      "7 Julie travelled to the park.\n",
      "neg: 0.306,\n",
      "neu: 0.694,\n",
      "pos: 0.0,\n",
      "compound: -0.296,\n",
      "8 Julie is in the office.\n",
      "neg: 0.0,\n",
      "neu: 1.0,\n",
      "pos: 0.0,\n",
      "compound: 0.0,\n",
      "9 Is Bill in the cinema?\n",
      "neg: 0.0,\n",
      "neu: 1.0,\n",
      "pos: 0.0,\n",
      "compound: 0.0,\n",
      "yes\t5\n",
      "10 Julie journeyed to the kitchen.\n",
      "neg: 0.0,\n",
      "neu: 0.69,\n",
      "pos: 0.31,\n",
      "compound: 0.4019,\n",
      "12 Is Julie in the school?\n",
      "neg: 0.0,\n",
      "neu: 1.0,\n",
      "pos: 0.0,\n",
      "compound: 0.0,\n",
      "no\t8\n",
      "13 Bill is either in the park or the bedroom.\n",
      "neg: 0.18,\n",
      "neu: 0.82,\n",
      "pos: 0.0,\n",
      "compound: -0.296,\n",
      "14 Bill is in the school.\n",
      "neg: 0.0,\n",
      "neu: 1.0,\n",
      "pos: 0.0,\n",
      "compound: 0.0,\n",
      "15 Is Mary in the school?\n",
      "neg: 0.0,\n",
      "neu: 1.0,\n",
      "pos: 0.0,\n",
      "compound: 0.0,\n",
      "maybe\t11\n",
      "\n",
      "1 Julie moved to the cinema.\n",
      "neg: 0.0,\n",
      "neu: 1.0,\n",
      "pos: 0.0,\n",
      "compound: 0.0,\n",
      "11 Mary journeyed to the school.\n",
      "neg: 0.0,\n",
      "neu: 1.0,\n",
      "pos: 0.0,\n",
      "compound: 0.0,\n",
      "12 Is Mary in the park?\n",
      "neg: 0.0,\n",
      "neu: 1.0,\n",
      "pos: 0.0,\n",
      "compound: 0.0,\n",
      "no\t11\n",
      "13 Mary is either in the kitchen or the office.\n"
     ]
    },
    {
     "name": "stdout",
     "output_type": "stream",
     "text": [
      "neg: 0.167,\n",
      "neu: 0.833,\n",
      "pos: 0.0,\n",
      "compound: -0.296,\n",
      "14 Bill went to the school.\n",
      "neg: 0.0,\n",
      "neu: 1.0,\n",
      "pos: 0.0,\n",
      "compound: 0.0,\n",
      "15 Is Fred in the school?\n",
      "neg: 0.0,\n",
      "neu: 1.0,\n",
      "pos: 0.0,\n",
      "compound: 0.0,\n",
      "no\t10\n",
      "1 Fred went to the school.\n",
      "neg: 0.268,\n",
      "neu: 0.732,\n",
      "pos: 0.0,\n",
      "compound: -0.296,\n",
      "2 Fred travelled to the kitchen.\n",
      "neg: 0.0,\n",
      "neu: 1.0,\n",
      "pos: 0.0,\n",
      "compound: 0.0,\n",
      "3 Is Fred in the kitchen?\n",
      "neg: 0.0,\n",
      "neu: 1.0,\n",
      "pos: 0.0,\n",
      "compound: 0.0,\n",
      "yes\t2\n",
      "4 Fred went back to the school.\n",
      "neg: 0.0,\n",
      "neu: 0.69,\n",
      "pos: 0.31,\n",
      "compound: 0.4019,\n",
      "5 Fred moved to the bedroom.\n",
      "neg: 0.0,\n",
      "neu: 1.0,\n",
      "pos: 0.0,\n",
      "compound: 0.0,\n",
      "6 Is Fred in the school?\n",
      "neg: 0.0,\n",
      "neu: 1.0,\n",
      "pos: 0.0,\n",
      "compound: 0.0,\n",
      "no\t5\n",
      "7 Mary is in the office.\n",
      "neg: 0.306,\n",
      "neu: 0.694,\n",
      "pos: 0.0,\n",
      "compound: -0.296,\n",
      "8 Mary is either in the kitchen or the kitchen.\n",
      "neg: 0.0,\n",
      "neu: 1.0,\n",
      "pos: 0.0,\n",
      "compound: 0.0,\n",
      "9 Is Mary in the school?\n",
      "neg: 0.0,\n",
      "neu: 1.0,\n",
      "pos: 0.0,\n",
      "compound: 0.0,\n",
      "no\t8\n",
      "10 Julie went to the office.\n",
      "neg: 0.268,\n",
      "neu: 0.732,\n",
      "pos: 0.0,\n",
      "compound: -0.296,\n",
      "11 Julie moved to the cinema.\n",
      "neg: 0.0,\n",
      "neu: 1.0,\n",
      "pos: 0.0,\n",
      "compound: 0.0,\n",
      "12 Is Mary in the kitchen?\n",
      "neg: 0.0,\n",
      "neu: 1.0,\n",
      "pos: 0.0,\n",
      "compound: 0.0,\n",
      "maybe\t8\n",
      "13 Bill went back to the office.\n",
      "neg: 0.0,\n",
      "neu: 1.0,\n",
      "pos: 0.0,\n",
      "compound: 0.0,\n",
      "14 Fred is in the kitchen.\n",
      "neg: 0.0,\n",
      "neu: 1.0,\n",
      "pos: 0.0,\n",
      "compound: 0.0,\n",
      "15 Is Mary in the kitchen?\n",
      "neg: 0.0,\n",
      "neu: 1.0,\n",
      "pos: 0.0,\n",
      "compound: 0.0,\n",
      "maybe\t8\n",
      "1 Julie went back to the cinema.\n",
      "neg: 0.0,\n",
      "neu: 1.0,\n",
      "pos: 0.0,\n",
      "compound: 0.0,\n",
      "2 Bill travelled to the kitchen.\n",
      "neg: 0.0,\n",
      "neu: 1.0,\n",
      "pos: 0.0,\n",
      "compound: 0.0,\n",
      "3 Is Julie in the cinema?\n",
      "neg: 0.0,\n",
      "neu: 1.0,\n",
      "pos: 0.0,\n",
      "compound: 0.0,\n",
      "yes\t1\n",
      "4 Fred moved to the bedroom.\n",
      "neg: 0.0,\n",
      "neu: 0.649,\n",
      "pos: 0.351,\n",
      "compound: 0.4019,\n",
      "5 Julie went back to the kitchen.\n",
      "neg: 0.0,\n",
      "neu: 1.0,\n",
      "pos: 0.0,\n",
      "compound: 0.0,\n",
      "6 Is Julie in the park?\n",
      "neg: 0.0,\n",
      "neu: 1.0,\n",
      "pos: 0.0,\n",
      "compound: 0.0,\n",
      "no\t5\n",
      "7 Mary is in the kitchen.\n",
      "neg: 0.306,\n",
      "neu: 0.694,\n",
      "pos: 0.0,\n",
      "compound: -0.296,\n",
      "8 Bill went back to the park.\n",
      "neg: 0.0,\n",
      "neu: 1.0,\n",
      "pos: 0.0,\n",
      "compound: 0.0,\n",
      "9 Is Mary in the kitchen?\n",
      "neg: 0.0,\n",
      "neu: 1.0,\n",
      "pos: 0.0,\n",
      "compound: 0.0,\n",
      "yes\t7\n",
      "10 Mary is in the bedroom.\n",
      "neg: 0.0,\n",
      "neu: 0.69,\n",
      "pos: 0.31,\n",
      "compound: 0.4019,\n",
      "11 Fred is either in the park or the office.\n",
      "neg: 0.0,\n",
      "neu: 1.0,\n",
      "pos: 0.0,\n",
      "compound: 0.0,\n",
      "12 Is Fred in the office?\n",
      "neg: 0.0,\n",
      "neu: 1.0,\n",
      "pos: 0.0,\n",
      "compound: 0.0,\n",
      "maybe\t11\n",
      "13 Fred is in the park.\n",
      "neg: 0.0,\n",
      "neu: 1.0,\n",
      "pos: 0.0,\n",
      "compound: 0.0,\n",
      "14 Mary is either in the cinema or the cinema.\n",
      "neg: 0.0,\n",
      "neu: 1.0,\n",
      "pos: 0.0,\n",
      "compound: 0.0,\n",
      "15 Is Fred in the park?\n",
      "neg: 0.0,\n",
      "neu: 1.0,\n",
      "pos: 0.0,\n",
      "compound: 0.0,\n",
      "yes\t13\n",
      "1 Fred is in the office.\n",
      "neg: 0.0,\n",
      "neu: 0.69,\n",
      "pos: 0.31,\n",
      "compound: 0.4019,\n",
      "2 Mary is in the park.\n",
      "neg: 0.0,\n",
      "neu: 1.0,\n",
      "pos: 0.0,\n",
      "compound: 0.0,\n",
      "3 Is Mary in the bedroom?\n",
      "neg: 0.0,\n",
      "neu: 1.0,\n",
      "pos: 0.0,\n",
      "compound: 0.0,\n",
      "no\t2\n",
      "4 Fred went back to the bedroom.\n",
      "neg: 0.268,\n",
      "neu: 0.732,\n",
      "pos: 0.0,\n",
      "compound: -0.296,\n",
      "5 Mary is either in the office or the school.\n",
      "neg: 0.0,\n",
      "neu: 1.0,\n",
      "pos: 0.0,\n",
      "compound: 0.0,\n",
      "6 Is Mary in the office?\n",
      "neg: 0.0,\n",
      "neu: 1.0,\n",
      "pos: 0.0,\n",
      "compound: 0.0,\n",
      "maybe\t5\n",
      "7 Fred went back to the school.\n",
      "neg: 0.0,\n",
      "neu: 1.0,\n",
      "pos: 0.0,\n",
      "compound: 0.0,\n",
      "8 Fred is either in the bedroom or the bedroom.\n",
      "neg: 0.0,\n",
      "neu: 1.0,\n",
      "pos: 0.0,\n",
      "compound: 0.0,\n",
      "9 Is Mary in the office?\n",
      "neg: 0.0,\n",
      "neu: 1.0,\n",
      "pos: 0.0,\n",
      "compound: 0.0,\n",
      "maybe\t5\n",
      "neg: 0.0,\n",
      "neu: 1.0,\n",
      "pos: 0.0,\n",
      "compound: 0.0,\n"
     ]
    }
   ],
   "source": [
    "sentenceAnalyzer = SentimentIntensityAnalyzer()\n",
    "for sentence in tokens:\n",
    "    print(sentence)\n",
    "    ss = sentenceAnalyzer.polarity_scores(sentence)\n",
    "    for k in ss:\n",
    "        a = '{0}: {1},'.format(k, ss[k])\n",
    "        print(a)"
   ]
  },
  {
   "cell_type": "code",
   "execution_count": 35,
   "metadata": {
    "collapsed": true
   },
   "outputs": [],
   "source": [
    "sentenceAnalyzer = SentimentIntensityAnalyzer()\n",
    "d = {}\n",
    "list_ss_neg = []\n",
    "for sentence in tokens:\n",
    "    #print(sentence)\n",
    "    list_ss_neg.append(sentenceAnalyzer.polarity_scores(sentence)['neg'])"
   ]
  },
  {
   "cell_type": "code",
   "execution_count": 38,
   "metadata": {
    "collapsed": true
   },
   "outputs": [],
   "source": [
    "nonzero_neg_list=[]\n",
    "for a in list_ss_neg:\n",
    "    if a!=0.0:\n",
    "        nonzero_neg_list.append(a)"
   ]
  },
  {
   "cell_type": "code",
   "execution_count": 39,
   "metadata": {},
   "outputs": [
    {
     "name": "stdout",
     "output_type": "stream",
     "text": [
      "[0.306, 0.268, 0.196, 0.239, 0.306, 0.196, 0.196, 0.268, 0.196, 0.216, 0.306, 0.18, 0.18, 0.306, 0.306, 0.18, 0.167, 0.268, 0.306, 0.268, 0.306, 0.268]\n"
     ]
    }
   ],
   "source": [
    "print(nonzero_neg_list)"
   ]
  },
  {
   "cell_type": "code",
   "execution_count": 41,
   "metadata": {},
   "outputs": [
    {
     "name": "stdout",
     "output_type": "stream",
     "text": [
      "Counter({0.306: 7, 0.268: 5, 0.196: 4, 0.18: 3, 0.239: 1, 0.216: 1, 0.167: 1})\n"
     ]
    },
    {
     "data": {
      "text/plain": [
       "22"
      ]
     },
     "execution_count": 41,
     "metadata": {},
     "output_type": "execute_result"
    }
   ],
   "source": [
    "from collections import Counter\n",
    "count_neg = Counter(nonzero_neg_list)\n",
    "print(count_neg)\n",
    "sum(count_neg.values())"
   ]
  },
  {
   "cell_type": "markdown",
   "metadata": {},
   "source": [
    "# There are 22 negative questions/responses in the dataset"
   ]
  },
  {
   "cell_type": "code",
   "execution_count": null,
   "metadata": {
    "collapsed": true
   },
   "outputs": [],
   "source": []
  },
  {
   "cell_type": "code",
   "execution_count": 49,
   "metadata": {
    "collapsed": true
   },
   "outputs": [],
   "source": [
    "sentenceAnalyzer = SentimentIntensityAnalyzer()\n",
    "d = {}\n",
    "list_ss_pos=[]\n",
    "for sentence in tokens:\n",
    "    #print(sentence)\n",
    "    list_ss_pos.append(sentenceAnalyzer.polarity_scores(sentence)['pos'])"
   ]
  },
  {
   "cell_type": "code",
   "execution_count": 51,
   "metadata": {
    "collapsed": true
   },
   "outputs": [],
   "source": [
    "nonzero_pos_list=[]\n",
    "for b in list_ss_pos:\n",
    "    if b!=0.0:\n",
    "        nonzero_pos_list.append(b)"
   ]
  },
  {
   "cell_type": "code",
   "execution_count": 52,
   "metadata": {},
   "outputs": [
    {
     "name": "stdout",
     "output_type": "stream",
     "text": [
      "[0.31, 0.213, 0.31, 0.231, 0.213, 0.31, 0.213, 0.31, 0.351, 0.31, 0.31, 0.351, 0.351, 0.31, 0.31, 0.351, 0.31, 0.31]\n"
     ]
    }
   ],
   "source": [
    "print(nonzero_pos_list)"
   ]
  },
  {
   "cell_type": "code",
   "execution_count": 53,
   "metadata": {},
   "outputs": [
    {
     "name": "stdout",
     "output_type": "stream",
     "text": [
      "Counter({0.31: 10, 0.351: 4, 0.213: 3, 0.231: 1})\n"
     ]
    },
    {
     "data": {
      "text/plain": [
       "18"
      ]
     },
     "execution_count": 53,
     "metadata": {},
     "output_type": "execute_result"
    }
   ],
   "source": [
    "from collections import Counter\n",
    "count_pos = Counter(nonzero_pos_list)\n",
    "print(count_pos)\n",
    "sum(count_pos.values())"
   ]
  },
  {
   "cell_type": "markdown",
   "metadata": {},
   "source": [
    "# There are 18 positive questions/responses in the dataset"
   ]
  },
  {
   "cell_type": "code",
   "execution_count": null,
   "metadata": {
    "collapsed": true
   },
   "outputs": [],
   "source": []
  },
  {
   "cell_type": "code",
   "execution_count": 54,
   "metadata": {
    "collapsed": true
   },
   "outputs": [],
   "source": [
    "sentenceAnalyzer = SentimentIntensityAnalyzer()\n",
    "d = {}\n",
    "list_ss_neu=[]\n",
    "for sentence in tokens:\n",
    "    #print(sentence)\n",
    "    list_ss_neu.append(sentenceAnalyzer.polarity_scores(sentence)['neu'])"
   ]
  },
  {
   "cell_type": "code",
   "execution_count": 55,
   "metadata": {
    "collapsed": true
   },
   "outputs": [],
   "source": [
    "nonzero_neu_list=[]\n",
    "for b in list_ss_neu:\n",
    "    if b!=0.0:\n",
    "        nonzero_neu_list.append(b)"
   ]
  },
  {
   "cell_type": "code",
   "execution_count": 56,
   "metadata": {},
   "outputs": [
    {
     "name": "stdout",
     "output_type": "stream",
     "text": [
      "[1.0, 1.0, 1.0, 0.694, 1.0, 1.0, 0.69, 1.0, 1.0, 0.732, 1.0, 1.0, 0.787, 1.0, 1.0, 0.69, 1.0, 1.0, 0.804, 1.0, 1.0, 0.769, 1.0, 1.0, 0.787, 1.0, 1.0, 0.761, 1.0, 1.0, 0.69, 1.0, 1.0, 0.694, 1.0, 1.0, 0.804, 1.0, 1.0, 1.0, 1.0, 1.0, 0.787, 1.0, 1.0, 0.69, 1.0, 1.0, 0.804, 1.0, 1.0, 0.649, 1.0, 1.0, 0.732, 1.0, 1.0, 1.0, 1.0, 1.0, 1.0, 1.0, 1.0, 1.0, 1.0, 1.0, 0.804, 1.0, 1.0, 0.69, 1.0, 1.0, 0.784, 1.0, 1.0, 0.69, 1.0, 1.0, 0.694, 1.0, 1.0, 0.649, 1.0, 1.0, 0.82, 1.0, 1.0, 0.82, 1.0, 1.0, 0.694, 1.0, 1.0, 0.649, 1.0, 1.0, 0.694, 1.0, 1.0, 0.69, 1.0, 0.82, 1.0, 1.0, 1.0, 1.0, 1.0, 0.833, 1.0, 1.0, 0.732, 1.0, 1.0, 0.69, 1.0, 1.0, 0.694, 1.0, 1.0, 0.732, 1.0, 1.0, 1.0, 1.0, 1.0, 1.0, 1.0, 1.0, 0.649, 1.0, 1.0, 0.694, 1.0, 1.0, 0.69, 1.0, 1.0, 1.0, 1.0, 1.0, 0.69, 1.0, 1.0, 0.732, 1.0, 1.0, 1.0, 1.0, 1.0, 1.0]\n"
     ]
    }
   ],
   "source": [
    "print(nonzero_neu_list)"
   ]
  },
  {
   "cell_type": "code",
   "execution_count": 57,
   "metadata": {},
   "outputs": [
    {
     "name": "stdout",
     "output_type": "stream",
     "text": [
      "Counter({1.0: 110, 0.69: 10, 0.694: 7, 0.732: 5, 0.804: 4, 0.649: 4, 0.787: 3, 0.82: 3, 0.769: 1, 0.761: 1, 0.784: 1, 0.833: 1})\n"
     ]
    },
    {
     "data": {
      "text/plain": [
       "150"
      ]
     },
     "execution_count": 57,
     "metadata": {},
     "output_type": "execute_result"
    }
   ],
   "source": [
    "from collections import Counter\n",
    "count_neu = Counter(nonzero_neu_list)\n",
    "print(count_neu)\n",
    "sum(count_neu.values())"
   ]
  },
  {
   "cell_type": "markdown",
   "metadata": {},
   "source": [
    "# There are 150 positive questions/responses in the dataset"
   ]
  },
  {
   "cell_type": "code",
   "execution_count": null,
   "metadata": {
    "collapsed": true
   },
   "outputs": [],
   "source": []
  },
  {
   "cell_type": "code",
   "execution_count": 58,
   "metadata": {
    "collapsed": true
   },
   "outputs": [],
   "source": [
    "sentenceAnalyzer = SentimentIntensityAnalyzer()\n",
    "d = {}\n",
    "list_ss_compound=[]\n",
    "for sentence in tokens:\n",
    "    #print(sentence)\n",
    "    list_ss_compound.append(sentenceAnalyzer.polarity_scores(sentence)['compound'])"
   ]
  },
  {
   "cell_type": "code",
   "execution_count": 59,
   "metadata": {
    "collapsed": true
   },
   "outputs": [],
   "source": [
    "nonzero_compound_list=[]\n",
    "for b in list_ss_compound:\n",
    "    if b!=0.0:\n",
    "        nonzero_compound_list.append(b)"
   ]
  },
  {
   "cell_type": "code",
   "execution_count": 60,
   "metadata": {},
   "outputs": [
    {
     "name": "stdout",
     "output_type": "stream",
     "text": [
      "[-0.296, 0.4019, -0.296, 0.4019, 0.4019, -0.296, 0.4019, 0.4019, -0.296, 0.4019, -0.296, -0.296, 0.4019, 0.4019, -0.296, 0.4019, -0.296, -0.296, 0.4019, -0.296, 0.4019, -0.296, 0.4019, -0.296, -0.296, -0.296, 0.4019, -0.296, 0.4019, -0.296, -0.296, -0.296, 0.4019, -0.296, -0.296, 0.4019, -0.296, 0.4019, 0.4019, -0.296]\n"
     ]
    }
   ],
   "source": [
    "print(nonzero_compound_list)"
   ]
  },
  {
   "cell_type": "code",
   "execution_count": 63,
   "metadata": {},
   "outputs": [
    {
     "name": "stdout",
     "output_type": "stream",
     "text": [
      "Counter({-0.296: 22, 0.4019: 18})\n"
     ]
    }
   ],
   "source": [
    "from collections import Counter\n",
    "count_compound = Counter(nonzero_compound_list)\n",
    "print(count_compound)\n",
    "#sum(count_neu.values())"
   ]
  },
  {
   "cell_type": "markdown",
   "metadata": {},
   "source": [
    "# According to the result, the dataset has more negative responses than positive. 22 negative responses and 18 negative to be precise."
   ]
  }
 ],
 "metadata": {
  "kernelspec": {
   "display_name": "Python 3",
   "language": "python",
   "name": "python3"
  },
  "language_info": {
   "codemirror_mode": {
    "name": "ipython",
    "version": 2
   },
   "file_extension": ".py",
   "mimetype": "text/x-python",
   "name": "python",
   "nbconvert_exporter": "python",
   "pygments_lexer": "ipython2",
   "version": "2.7.13"
  }
 },
 "nbformat": 4,
 "nbformat_minor": 2
}
