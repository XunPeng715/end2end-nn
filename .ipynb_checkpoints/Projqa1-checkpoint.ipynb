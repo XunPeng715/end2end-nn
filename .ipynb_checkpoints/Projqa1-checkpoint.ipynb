{
 "cells": [
  {
   "cell_type": "markdown",
   "metadata": {},
   "source": [
    "# Document Clustering - To identify the latent structures within the Text"
   ]
  },
  {
   "cell_type": "code",
   "execution_count": null,
   "metadata": {
    "collapsed": true
   },
   "outputs": [],
   "source": [
    "with open(\"MemN2N-tensorflow-master/data/ptb.test.txt\") as f:\n",
    "    lines = f.readlines()"
   ]
  },
  {
   "cell_type": "code",
   "execution_count": 4,
   "metadata": {
    "collapsed": true
   },
   "outputs": [],
   "source": [
    "words = []\n",
    "for line in lines:\n",
    "    words.extend(line.split())"
   ]
  },
  {
   "cell_type": "code",
   "execution_count": 5,
   "metadata": {
    "scrolled": false
   },
   "outputs": [
    {
     "name": "stderr",
     "output_type": "stream",
     "text": [
      "C:\\ProgramData\\Miniconda3\\lib\\site-packages\\gensim\\utils.py:1197: UserWarning: detected Windows; aliasing chunkize to chunkize_serial\n",
      "  warnings.warn(\"detected Windows; aliasing chunkize to chunkize_serial\")\n"
     ]
    }
   ],
   "source": [
    "from gensim.summarization import summarize, keywords"
   ]
  },
  {
   "cell_type": "code",
   "execution_count": null,
   "metadata": {
    "collapsed": true,
    "scrolled": true
   },
   "outputs": [],
   "source": []
  },
  {
   "cell_type": "code",
   "execution_count": 6,
   "metadata": {
    "collapsed": true
   },
   "outputs": [],
   "source": [
    "import nltk"
   ]
  },
  {
   "cell_type": "code",
   "execution_count": 7,
   "metadata": {
    "collapsed": true
   },
   "outputs": [],
   "source": [
    "\n",
    "%matplotlib inline"
   ]
  },
  {
   "cell_type": "code",
   "execution_count": 8,
   "metadata": {
    "collapsed": true
   },
   "outputs": [],
   "source": [
    "import numpy as np\n",
    "import pandas as pd\n",
    "import matplotlib.pyplot as plt\n"
   ]
  },
  {
   "cell_type": "code",
   "execution_count": 9,
   "metadata": {
    "collapsed": true
   },
   "outputs": [],
   "source": [
    "import os\n",
    "import pandas as pd"
   ]
  },
  {
   "cell_type": "code",
   "execution_count": 10,
   "metadata": {
    "collapsed": true
   },
   "outputs": [],
   "source": [
    "import numpy as np\n",
    "import pandas as pd\n",
    "import nltk\n",
    "import re\n",
    "import os\n",
    "import codecs\n",
    "from sklearn import feature_extraction\n",
    "import mpld3"
   ]
  },
  {
   "cell_type": "code",
   "execution_count": 11,
   "metadata": {
    "scrolled": false
   },
   "outputs": [
    {
     "name": "stdout",
     "output_type": "stream",
     "text": [
      "['1', 'Mary', 'is', 'in', 'the', 'school.', '2', 'Bill', 'is', 'in']\n"
     ]
    }
   ],
   "source": [
    "print(words[:10])"
   ]
  },
  {
   "cell_type": "code",
   "execution_count": 12,
   "metadata": {
    "scrolled": true
   },
   "outputs": [
    {
     "name": "stdout",
     "output_type": "stream",
     "text": [
      "1 Mary is in the school.\n",
      "\n"
     ]
    }
   ],
   "source": [
    "print (lines[0][:200]) #first 200 characters in first synopses (for 'The Godfather')"
   ]
  },
  {
   "cell_type": "code",
   "execution_count": 13,
   "metadata": {
    "scrolled": true
   },
   "outputs": [
    {
     "name": "stdout",
     "output_type": "stream",
     "text": [
      "[nltk_data] Downloading package stopwords to C:\\Users\\Bhanuja\n",
      "[nltk_data]     Chouhan\\AppData\\Roaming\\nltk_data...\n",
      "[nltk_data]   Package stopwords is already up-to-date!\n"
     ]
    },
    {
     "data": {
      "text/plain": [
       "True"
      ]
     },
     "execution_count": 13,
     "metadata": {},
     "output_type": "execute_result"
    }
   ],
   "source": [
    "nltk.download('stopwords')"
   ]
  },
  {
   "cell_type": "markdown",
   "metadata": {},
   "source": [
    "Stopwords, stemming, and tokenizing\n",
    "This section is focused on defining some functions to manipulate the text. First, I load NLTK's list of English stop words. Stop words are words like \"a\", \"the\", or \"in\" which don't convey significant meaning. "
   ]
  },
  {
   "cell_type": "code",
   "execution_count": 14,
   "metadata": {
    "collapsed": true
   },
   "outputs": [],
   "source": [
    "# load nltk's English stopwords as variable called 'stopwords'\n",
    "stopwords = nltk.corpus.stopwords.words('english')"
   ]
  },
  {
   "cell_type": "markdown",
   "metadata": {},
   "source": [
    "\n",
    "Next I import the Snowball Stemmer which is actually part of NLTK. Stemming is just the process of breaking a word down into its root."
   ]
  },
  {
   "cell_type": "code",
   "execution_count": 15,
   "metadata": {
    "collapsed": true
   },
   "outputs": [],
   "source": [
    "# load nltk's SnowballStemmer as variabled 'stemmer'\n",
    "from nltk.stem.snowball import SnowballStemmer\n",
    "stemmer = SnowballStemmer(\"english\")"
   ]
  },
  {
   "cell_type": "markdown",
   "metadata": {},
   "source": [
    "Below I define two functions:\n",
    "\n",
    "tokenize_and_stem: tokenizes (splits the text into a list of its respective words (or tokens) and also stems each token\n",
    "tokenize_only: tokenizes the para only\n",
    "I use both these functions to create a dictionary which becomes important in case I want to use stems for an algorithm, but later convert stems back to their full words for presentation purposes. "
   ]
  },
  {
   "cell_type": "code",
   "execution_count": 16,
   "metadata": {
    "collapsed": true
   },
   "outputs": [],
   "source": [
    "\n",
    "# here I define a tokenizer and stemmer which returns the set of stems in the text that it is passed\n",
    "\n",
    "def tokenize_and_stem(text):\n",
    "    # first tokenize by sentence, then by word to ensure that punctuation is caught as it's own token\n",
    "    tokens = [word for sent in nltk.sent_tokenize(text) for word in nltk.word_tokenize(sent)]\n",
    "    filtered_tokens = []\n",
    "    # filter out any tokens not containing letters (e.g., numeric tokens, raw punctuation)\n",
    "    for token in tokens:\n",
    "        if re.search('[a-zA-Z]', token):\n",
    "            filtered_tokens.append(token)\n",
    "    stems = [stemmer.stem(t) for t in filtered_tokens]\n",
    "    return stems\n",
    "\n",
    "\n",
    "def tokenize_only(text):\n",
    "    # first tokenize by sentence, then by word to ensure that punctuation is caught as it's own token\n",
    "    tokens = [word.lower() for sent in nltk.sent_tokenize(text) for word in nltk.word_tokenize(sent)]\n",
    "    filtered_tokens = []\n",
    "    # filter out any tokens not containing letters (e.g., numeric tokens, raw punctuation)\n",
    "    for token in tokens:\n",
    "        if re.search('[a-zA-Z]', token):\n",
    "            filtered_tokens.append(token)\n",
    "    return filtered_tokens"
   ]
  },
  {
   "cell_type": "markdown",
   "metadata": {},
   "source": [
    "Below I use my stemming/tokenizing and tokenizing functions to iterate over the list of text para to create two vocabularies: one stemmed and one only tokenized."
   ]
  },
  {
   "cell_type": "code",
   "execution_count": 17,
   "metadata": {
    "collapsed": true
   },
   "outputs": [],
   "source": [
    "\n",
    "#not super pythonic, no, not at all.\n",
    "#use extend so it's a big flat list of vocab\n",
    "totalvocab_stemmed = []\n",
    "totalvocab_tokenized = []\n",
    "for i in lines:\n",
    "    allwords_stemmed = tokenize_and_stem(i) #for each item in 'synopses', tokenize/stem\n",
    "    totalvocab_stemmed.extend(allwords_stemmed) #extend the 'totalvocab_stemmed' list\n",
    "    \n",
    "    allwords_tokenized = tokenize_only(i)\n",
    "    totalvocab_tokenized.extend(allwords_tokenized)"
   ]
  },
  {
   "cell_type": "markdown",
   "metadata": {},
   "source": [
    "Using these two lists, I create a pandas DataFrame with the stemmed vocabulary as the index and the tokenized words as the column. The benefit of this is it provides an efficient way to look up a stem and return a full token. The downside here is that stems to tokens are one to many: the stem 'run' could be associated with 'ran', 'runs', 'running', etc. "
   ]
  },
  {
   "cell_type": "code",
   "execution_count": 18,
   "metadata": {},
   "outputs": [
    {
     "name": "stdout",
     "output_type": "stream",
     "text": [
      "there are 927 items in vocab_frame\n"
     ]
    }
   ],
   "source": [
    "vocab_frame = pd.DataFrame({'words': totalvocab_tokenized}, index = totalvocab_stemmed)\n",
    "print ('there are ' + str(vocab_frame.shape[0]) + ' items in vocab_frame')"
   ]
  },
  {
   "cell_type": "code",
   "execution_count": 19,
   "metadata": {
    "scrolled": false
   },
   "outputs": [
    {
     "name": "stdout",
     "output_type": "stream",
     "text": [
      "         words\n",
      "mari      mary\n",
      "is          is\n",
      "in          in\n",
      "the        the\n",
      "school  school\n"
     ]
    },
    {
     "data": {
      "text/plain": [
       "<function print>"
      ]
     },
     "execution_count": 19,
     "metadata": {},
     "output_type": "execute_result"
    }
   ],
   "source": [
    "\n",
    "print (vocab_frame.head())\n",
    "print\n",
    "print\n",
    "print\n",
    "print"
   ]
  },
  {
   "cell_type": "markdown",
   "metadata": {},
   "source": [
    "Tf-idf and document similarity\n",
    "\n",
    "\n",
    "Here, I define term frequency-inverse document frequency (tf-idf) vectorizer parameters and then convert the text list into a tf-idf matrix.\n",
    "\n",
    "To get a Tf-idf matrix, first count word occurrences by document. This is transformed into a document-term matrix (dtm). This is also just called a term frequency matrix. \n",
    "\n",
    "Then apply the term frequency-inverse document frequency weighting: words that occur frequently within a document but not frequently within the corpus receive a higher weighting as these words are assumed to contain more meaning in relation to the document.\n",
    "\n",
    "A couple things to note about the parameters I define below:\n",
    "\n",
    "max_df: this is the maximum frequency within the documents a given feature can have to be used in the tfi-idf matrix. If the term is in greater than 80% of the documents it probably cares little meanining \n",
    "min_idf: this could be an integer (e.g. 5) and the term would have to be in at least 5 of the documents to be considered. Here I pass 0.2; the term must be in at least 20% of the document. I found that if I allowed a lower min_df I ended up basing clustering on names--for example \"Michael\" or \"Tom\" are names found in several of the text use these names frequently, but the names carry no real meaning.\n",
    "ngram_range: this just means I'll look at unigrams, bigrams and trigrams. See n-grams"
   ]
  },
  {
   "cell_type": "code",
   "execution_count": 20,
   "metadata": {},
   "outputs": [
    {
     "name": "stdout",
     "output_type": "stream",
     "text": [
      "Wall time: 209 ms\n",
      "(152, 6)\n"
     ]
    }
   ],
   "source": [
    "from sklearn.feature_extraction.text import TfidfVectorizer\n",
    "\n",
    "#define vectorizer parameters\n",
    "tfidf_vectorizer = TfidfVectorizer(max_df=0.8, max_features=200000,\n",
    "                                 min_df=0.2, stop_words='english',\n",
    "                                 use_idf=True, tokenizer=tokenize_and_stem, ngram_range=(1,3))\n",
    "\n",
    "%time tfidf_matrix = tfidf_vectorizer.fit_transform(lines) #fit the vectorizer to synopses\n",
    "\n",
    "print(tfidf_matrix.shape)"
   ]
  },
  {
   "cell_type": "markdown",
   "metadata": {},
   "source": [
    "terms is just a list of the features used in the tf-idf matrix. This is a vocabulary.\n",
    "\n",
    "dist is defined as 1 - the cosine similarity of each document. Cosine similarity is measured against the tf-idf matrix and can be used to generate a measure of similarity between each document and the other documents in the corpus (each synopsis among the synopses). Subtracting it from 1 provides cosine distance which I will use for plotting on a euclidean (2-dimensional) plane.\n",
    "\n",
    "Note that with dist it is possible to evaluate the similarity of any two or more synopses."
   ]
  },
  {
   "cell_type": "code",
   "execution_count": 21,
   "metadata": {
    "collapsed": true
   },
   "outputs": [],
   "source": [
    "terms = tfidf_vectorizer.get_feature_names()"
   ]
  },
  {
   "cell_type": "code",
   "execution_count": 22,
   "metadata": {},
   "outputs": [
    {
     "data": {
      "text/plain": [
       "<function print>"
      ]
     },
     "execution_count": 22,
     "metadata": {},
     "output_type": "execute_result"
    }
   ],
   "source": [
    "from sklearn.metrics.pairwise import cosine_similarity\n",
    "dist = 1 - cosine_similarity(tfidf_matrix)\n",
    "print\n",
    "print"
   ]
  },
  {
   "cell_type": "markdown",
   "metadata": {},
   "source": [
    "K-means clustering\n",
    "Using the tf-idf matrix,  run a slew of clustering algorithms to better understand the hidden structure within the text. I first chose k-means. K-means initializes with a pre-determined number of clusters (I chose 5). Each observation is assigned to a cluster (cluster assignment) so as to minimize the within cluster sum of squares. Next, the mean of the clustered observations is calculated and used as the new cluster centroid. Then, observations are reassigned to clusters and centroids recalculated in an iterative process until the algorithm reaches convergence.\n",
    "\n",
    "I found it took several runs for the algorithm to converge a global optimum as k-means is susceptible to reaching local optima."
   ]
  },
  {
   "cell_type": "code",
   "execution_count": 23,
   "metadata": {},
   "outputs": [
    {
     "name": "stdout",
     "output_type": "stream",
     "text": [
      "Wall time: 169 ms\n"
     ]
    }
   ],
   "source": [
    "from sklearn.cluster import KMeans\n",
    "\n",
    "num_clusters = 5\n",
    "\n",
    "km = KMeans(n_clusters=num_clusters)\n",
    "\n",
    "%time km.fit(tfidf_matrix)\n",
    "\n",
    "clusters = km.labels_.tolist()"
   ]
  },
  {
   "cell_type": "code",
   "execution_count": 24,
   "metadata": {},
   "outputs": [
    {
     "name": "stdout",
     "output_type": "stream",
     "text": [
      "Wall time: 260 ms\n"
     ]
    }
   ],
   "source": [
    "\n",
    "from sklearn.externals import joblib\n",
    "\n",
    "#uncomment the below to save your model \n",
    "#since I've already run my model I am loading from the pickle\n",
    "\n",
    "#joblib.dump(km,  'doc_cluster.pkl')\n",
    "num_clusters = 5\n",
    "\n",
    "km = KMeans(n_clusters=num_clusters)\n",
    "%time km.fit(tfidf_matrix)\n",
    "clusters = km.labels_.tolist()"
   ]
  },
  {
   "cell_type": "code",
   "execution_count": 25,
   "metadata": {
    "collapsed": true,
    "scrolled": false
   },
   "outputs": [],
   "source": [
    "passage = { 'words': words, 'cluster': clusters }\n",
    "\n",
    "frame = pd.DataFrame(passage, index = [clusters] , columns = ['cluster'])"
   ]
  },
  {
   "cell_type": "code",
   "execution_count": 26,
   "metadata": {},
   "outputs": [
    {
     "data": {
      "text/plain": [
       "3    33\n",
       "0    33\n",
       "1    31\n",
       "2    28\n",
       "4    27\n",
       "Name: cluster, dtype: int64"
      ]
     },
     "execution_count": 26,
     "metadata": {},
     "output_type": "execute_result"
    }
   ],
   "source": [
    "\n",
    "frame['cluster'].value_counts() #number of words per cluster (clusters from 0 to 4)"
   ]
  },
  {
   "cell_type": "code",
   "execution_count": 27,
   "metadata": {},
   "outputs": [
    {
     "data": {
      "text/plain": [
       "1.9342105263157894"
      ]
     },
     "execution_count": 27,
     "metadata": {},
     "output_type": "execute_result"
    }
   ],
   "source": [
    "\n",
    "grouped = frame['cluster']\n",
    "\n",
    "grouped.mean() #average rank (1 to 100) per cluster"
   ]
  },
  {
   "cell_type": "markdown",
   "metadata": {},
   "source": [
    "Indexing and sorting on each cluster to identify which are the top n (I chose n=6) words that are nearest to the cluster centroid. This gives a good sense of the main topic of the cluster."
   ]
  },
  {
   "cell_type": "code",
   "execution_count": 28,
   "metadata": {},
   "outputs": [
    {
     "name": "stdout",
     "output_type": "stream",
     "text": [
      "Top terms per cluster:\n",
      "\n",
      "Cluster 0 words: b'julie', b'school', b'bedroom', b'mary', b'kitchen', b'fred',\n",
      "\n",
      "Cluster 1 words: b'kitchen', b'julie', b'bedroom', b'mary', b'fred', b'school',\n",
      "\n",
      "Cluster 2 words: b'fred', b'school', b'kitchen', b'mary', b'julie', b'bedroom',\n",
      "\n",
      "Cluster 3 words: b'mary', b'kitchen', b'school', b'bedroom', b'julie', b'fred',\n",
      "\n",
      "Cluster 4 words: b'bedroom', b'fred', b'julie', b'school', b'mary', b'kitchen',\n",
      "\n"
     ]
    }
   ],
   "source": [
    "from __future__ import print_function\n",
    "\n",
    "print(\"Top terms per cluster:\")\n",
    "print()\n",
    "#sort cluster centers by proximity to centroid\n",
    "order_centroids = km.cluster_centers_.argsort()[:, ::-1] \n",
    "\n",
    "for i in range(num_clusters):\n",
    "    print(\"Cluster %d words:\" % i, end='')\n",
    "    \n",
    "    for ind in order_centroids[i, :8]: #replace 6 with n words per cluster\n",
    "        print(' %s' % vocab_frame.loc[terms[ind].split(' ')].values.tolist()[0][0].encode('utf-8', 'ignore'), end=',')\n",
    "    print() #add whitespace\n",
    "    print() #add whitespace\n",
    "\n"
   ]
  },
  {
   "cell_type": "code",
   "execution_count": 29,
   "metadata": {},
   "outputs": [
    {
     "name": "stdout",
     "output_type": "stream",
     "text": [
      "\n",
      "\n"
     ]
    }
   ],
   "source": [
    "import os  # for os.path.basename\n",
    "\n",
    "import matplotlib.pyplot as plt\n",
    "import matplotlib as mpl\n",
    "\n",
    "from sklearn.manifold import MDS\n",
    "\n",
    "MDS()\n",
    "\n",
    "# convert two components as we're plotting points in a two-dimensional plane\n",
    "# \"precomputed\" because we provide a distance matrix\n",
    "# we will also specify `random_state` so the plot is reproducible.\n",
    "mds = MDS(n_components=2, dissimilarity=\"precomputed\", random_state=1)\n",
    "\n",
    "pos = mds.fit_transform(dist)  # shape (n_components, n_samples)\n",
    "\n",
    "xs, ys = pos[:, 0], pos[:, 1]\n",
    "print()\n",
    "print()"
   ]
  },
  {
   "cell_type": "markdown",
   "metadata": {},
   "source": [
    "# Visualizing document clusters"
   ]
  },
  {
   "cell_type": "code",
   "execution_count": 30,
   "metadata": {
    "collapsed": true
   },
   "outputs": [],
   "source": [
    "#set up colors per clusters using a dict\n",
    "cluster_colors = {0: '#1b9e77', 1: '#d95f02', 2: '#7570b3', 3: '#e7298a', 4: '#66a61e'}\n",
    "\n",
    "#set up cluster names using a dict\n",
    "cluster_names = {0: 'cluster1', \n",
    "                 1: 'cluster2', \n",
    "                 2: 'cluster3', \n",
    "                 3: 'cluster4', \n",
    "                 4: 'cluster5'}"
   ]
  },
  {
   "cell_type": "code",
   "execution_count": 36,
   "metadata": {},
   "outputs": [
    {
     "data": {
      "image/png": "[encoded data removed]",
      "text/plain": [
       "<matplotlib.figure.Figure at 0x1ef4871b160>"
      ]
     },
     "metadata": {},
     "output_type": "display_data"
    },
    {
     "data": {
      "text/plain": [
       "<matplotlib.figure.Figure at 0x1ef4873af28>"
      ]
     },
     "metadata": {},
     "output_type": "display_data"
    }
   ],
   "source": [
    "#some ipython magic to show the matplotlib plots inline\n",
    "%matplotlib inline \n",
    "\n",
    "#create data frame that has the result of the MDS plus the cluster numbers and titles\n",
    "df = pd.DataFrame(dict(x=xs, y=ys, label=clusters, title=lines)) \n",
    "\n",
    "#group by cluster\n",
    "groups = df.groupby('label')\n",
    "\n",
    "\n",
    "# set up plot\n",
    "fig, ax = plt.subplots(figsize=(25, 12)) # set size\n",
    "ax.margins(0.05) # Optional, just adds 5% padding to the autoscaling\n",
    "\n",
    "#iterate through groups to layer the plot\n",
    "#note that I use the cluster_name and cluster_color dicts with the 'name' lookup to return the appropriate color/label\n",
    "for name, group in groups:\n",
    "    ax.plot(group.x, group.y, marker='o', linestyle='', ms=12, \n",
    "            label=cluster_names[name], color=cluster_colors[name], \n",
    "            mec='none')\n",
    "    ax.set_aspect('auto')\n",
    "    ax.tick_params(\\\n",
    "        axis= 'x',          # changes apply to the x-axis\n",
    "        which='both',      # both major and minor ticks are affected\n",
    "        bottom='off',      # ticks along the bottom edge are off\n",
    "        top='off',         # ticks along the top edge are off\n",
    "        labelbottom='off')\n",
    "    ax.tick_params(\\\n",
    "        axis= 'y',         # changes apply to the y-axis\n",
    "        which='both',      # both major and minor ticks are affected\n",
    "        left='off',      # ticks along the bottom edge are off\n",
    "        top='off',         # ticks along the top edge are off\n",
    "        labelleft='off')\n",
    "    \n",
    "ax.legend(numpoints=1)  #show legend with only 1 point\n",
    "\n",
    "#add label in x,y position with the label as the film title\n",
    "for i in range(len(df)):\n",
    "    ax.text(df.iloc[i]['x'], df.iloc[i]['y'], df.iloc[i]['title'], size=8)  \n",
    "\n",
    "    \n",
    "    \n",
    "plt.show() #show the plot\n",
    "\n",
    "plt.savefig('clusters_small_noaxes.png', dpi=200)"
   ]
  },
  {
   "cell_type": "code",
   "execution_count": 37,
   "metadata": {
    "collapsed": true
   },
   "outputs": [],
   "source": [
    "plt.close()"
   ]
  },
  {
   "cell_type": "code",
   "execution_count": 38,
   "metadata": {
    "collapsed": true
   },
   "outputs": [],
   "source": [
    "\n",
    "#define custom toolbar location\n",
    "class TopToolbar(mpld3.plugins.PluginBase):\n",
    "    \"\"\"Plugin for moving toolbar to top of figure\"\"\"\n",
    "\n",
    "    JAVASCRIPT = \"\"\"\n",
    "    mpld3.register_plugin(\"toptoolbar\", TopToolbar);\n",
    "    TopToolbar.prototype = Object.create(mpld3.Plugin.prototype);\n",
    "    TopToolbar.prototype.constructor = TopToolbar;\n",
    "    function TopToolbar(fig, props){\n",
    "        mpld3.Plugin.call(this, fig, props);\n",
    "    };\n",
    "\n",
    "    TopToolbar.prototype.draw = function(){\n",
    "      // the toolbar svg doesn't exist\n",
    "      // yet, so first draw it\n",
    "      this.fig.toolbar.draw();\n",
    "\n",
    "      // then change the y position to be\n",
    "      // at the top of the figure\n",
    "      this.fig.toolbar.toolbar.attr(\"x\", 150);\n",
    "      this.fig.toolbar.toolbar.attr(\"y\", 400);\n",
    "\n",
    "      // then remove the draw function,\n",
    "      // so that it is not called again\n",
    "      this.fig.toolbar.draw = function() {}\n",
    "    }\n",
    "    \"\"\"\n",
    "    def __init__(self):\n",
    "        self.dict_ = {\"type\": \"toptoolbar\"}"
   ]
  },
  {
   "cell_type": "code",
   "execution_count": 39,
   "metadata": {
    "scrolled": true
   },
   "outputs": [
    {
     "data": {
      "text/html": [
       "\n",
       "\n",
       "<style>\n",
       "\n",
       "text.mpld3-text, div.mpld3-tooltip {\n",
       "  font-family:Arial, Helvetica, sans-serif;\n",
       "}\n",
       "\n",
       "g.mpld3-xaxis, g.mpld3-yaxis {\n",
       "display: none; }\n",
       "\n",
       "svg.mpld3-figure {\n",
       "margin-left: -200px;}\n",
       "\n",
       "text.mpld3-text, div.mpld3-tooltip {\n",
       "  font-family:Arial, Helvetica, sans-serif;\n",
       "}\n",
       "\n",
       "g.mpld3-xaxis, g.mpld3-yaxis {\n",
       "display: none; }\n",
       "\n",
       "svg.mpld3-figure {\n",
       "margin-left: -200px;}\n",
       "\n",
       "text.mpld3-text, div.mpld3-tooltip {\n",
       "  font-family:Arial, Helvetica, sans-serif;\n",
       "}\n",
       "\n",
       "g.mpld3-xaxis, g.mpld3-yaxis {\n",
       "display: none; }\n",
       "\n",
       "svg.mpld3-figure {\n",
       "margin-left: -200px;}\n",
       "\n",
       "text.mpld3-text, div.mpld3-tooltip {\n",
       "  font-family:Arial, Helvetica, sans-serif;\n",
       "}\n",
       "\n",
       "g.mpld3-xaxis, g.mpld3-yaxis {\n",
       "display: none; }\n",
       "\n",
       "svg.mpld3-figure {\n",
       "margin-left: -200px;}\n",
       "\n",
       "text.mpld3-text, div.mpld3-tooltip {\n",
       "  font-family:Arial, Helvetica, sans-serif;\n",
       "}\n",
       "\n",
       "g.mpld3-xaxis, g.mpld3-yaxis {\n",
       "display: none; }\n",
       "\n",
       "svg.mpld3-figure {\n",
       "margin-left: -200px;}\n",
       "\n",
       "</style>\n",
       "\n",
       "<div id=\"fig_el202002127224632992810559995\"></div>\n",
       "<script>\n",
       "function mpld3_load_lib(url, callback){\n",
       "  var s = document.createElement('script');\n",
       "  s.src = url;\n",
       "  s.async = true;\n",
       "  s.onreadystatechange = s.onload = callback;\n",
       "  s.onerror = function(){console.warn(\"failed to load library \" + url);};\n",
       "  document.getElementsByTagName(\"head\")[0].appendChild(s);\n",
       "}\n",
       "\n",
       "if(typeof(mpld3) !== \"undefined\" && mpld3._mpld3IsLoaded){\n",
       "   // already loaded: just create the figure\n",
       "   !function(mpld3){\n",
       "       \n",
       "    mpld3.register_plugin(\"htmltooltip\", HtmlTooltipPlugin);\n",
       "    HtmlTooltipPlugin.prototype = Object.create(mpld3.Plugin.prototype);\n",
       "    HtmlTooltipPlugin.prototype.constructor = HtmlTooltipPlugin;\n",
       "    HtmlTooltipPlugin.prototype.requiredProps = [\"id\"];\n",
       "    HtmlTooltipPlugin.prototype.defaultProps = {labels:null,\n",
       "                                                hoffset:0,\n",
       "                                                voffset:10};\n",
       "    function HtmlTooltipPlugin(fig, props){\n",
       "        mpld3.Plugin.call(this, fig, props);\n",
       "    };\n",
       "\n",
       "    HtmlTooltipPlugin.prototype.draw = function(){\n",
       "       var obj = mpld3.get_element(this.props.id);\n",
       "       var labels = this.props.labels;\n",
       "       var tooltip = d3.select(\"body\").append(\"div\")\n",
       "                    .attr(\"class\", \"mpld3-tooltip\")\n",
       "                    .style(\"position\", \"absolute\")\n",
       "                    .style(\"z-index\", \"10\")\n",
       "                    .style(\"visibility\", \"hidden\");\n",
       "\n",
       "       obj.elements()\n",
       "           .on(\"mouseover\", function(d, i){\n",
       "                              tooltip.html(labels[i])\n",
       "                                     .style(\"visibility\", \"visible\");})\n",
       "           .on(\"mousemove\", function(d, i){\n",
       "                  tooltip\n",
       "                    .style(\"top\", d3.event.pageY + this.props.voffset + \"px\")\n",
       "                    .style(\"left\",d3.event.pageX + this.props.hoffset + \"px\");\n",
       "                 }.bind(this))\n",
       "           .on(\"mouseout\",  function(d, i){\n",
       "                           tooltip.style(\"visibility\", \"hidden\");});\n",
       "    };\n",
       "    \n",
       "    mpld3.register_plugin(\"toptoolbar\", TopToolbar);\n",
       "    TopToolbar.prototype = Object.create(mpld3.Plugin.prototype);\n",
       "    TopToolbar.prototype.constructor = TopToolbar;\n",
       "    function TopToolbar(fig, props){\n",
       "        mpld3.Plugin.call(this, fig, props);\n",
       "    };\n",
       "\n",
       "    TopToolbar.prototype.draw = function(){\n",
       "      // the toolbar svg doesn't exist\n",
       "      // yet, so first draw it\n",
       "      this.fig.toolbar.draw();\n",
       "\n",
       "      // then change the y position to be\n",
       "      // at the top of the figure\n",
       "      this.fig.toolbar.toolbar.attr(\"x\", 150);\n",
       "      this.fig.toolbar.toolbar.attr(\"y\", 400);\n",
       "\n",
       "      // then remove the draw function,\n",
       "      // so that it is not called again\n",
       "      this.fig.toolbar.draw = function() {}\n",
       "    }\n",
       "    \n",
       "    mpld3.register_plugin(\"htmltooltip\", HtmlTooltipPlugin);\n",
       "    HtmlTooltipPlugin.prototype = Object.create(mpld3.Plugin.prototype);\n",
       "    HtmlTooltipPlugin.prototype.constructor = HtmlTooltipPlugin;\n",
       "    HtmlTooltipPlugin.prototype.requiredProps = [\"id\"];\n",
       "    HtmlTooltipPlugin.prototype.defaultProps = {labels:null,\n",
       "                                                hoffset:0,\n",
       "                                                voffset:10};\n",
       "    function HtmlTooltipPlugin(fig, props){\n",
       "        mpld3.Plugin.call(this, fig, props);\n",
       "    };\n",
       "\n",
       "    HtmlTooltipPlugin.prototype.draw = function(){\n",
       "       var obj = mpld3.get_element(this.props.id);\n",
       "       var labels = this.props.labels;\n",
       "       var tooltip = d3.select(\"body\").append(\"div\")\n",
       "                    .attr(\"class\", \"mpld3-tooltip\")\n",
       "                    .style(\"position\", \"absolute\")\n",
       "                    .style(\"z-index\", \"10\")\n",
       "                    .style(\"visibility\", \"hidden\");\n",
       "\n",
       "       obj.elements()\n",
       "           .on(\"mouseover\", function(d, i){\n",
       "                              tooltip.html(labels[i])\n",
       "                                     .style(\"visibility\", \"visible\");})\n",
       "           .on(\"mousemove\", function(d, i){\n",
       "                  tooltip\n",
       "                    .style(\"top\", d3.event.pageY + this.props.voffset + \"px\")\n",
       "                    .style(\"left\",d3.event.pageX + this.props.hoffset + \"px\");\n",
       "                 }.bind(this))\n",
       "           .on(\"mouseout\",  function(d, i){\n",
       "                           tooltip.style(\"visibility\", \"hidden\");});\n",
       "    };\n",
       "    \n",
       "    mpld3.register_plugin(\"toptoolbar\", TopToolbar);\n",
       "    TopToolbar.prototype = Object.create(mpld3.Plugin.prototype);\n",
       "    TopToolbar.prototype.constructor = TopToolbar;\n",
       "    function TopToolbar(fig, props){\n",
       "        mpld3.Plugin.call(this, fig, props);\n",
       "    };\n",
       "\n",
       "    TopToolbar.prototype.draw = function(){\n",
       "      // the toolbar svg doesn't exist\n",
       "      // yet, so first draw it\n",
       "      this.fig.toolbar.draw();\n",
       "\n",
       "      // then change the y position to be\n",
       "      // at the top of the figure\n",
       "      this.fig.toolbar.toolbar.attr(\"x\", 150);\n",
       "      this.fig.toolbar.toolbar.attr(\"y\", 400);\n",
       "\n",
       "      // then remove the draw function,\n",
       "      // so that it is not called again\n",
       "      this.fig.toolbar.draw = function() {}\n",
       "    }\n",
       "    \n",
       "    mpld3.register_plugin(\"htmltooltip\", HtmlTooltipPlugin);\n",
       "    HtmlTooltipPlugin.prototype = Object.create(mpld3.Plugin.prototype);\n",
       "    HtmlTooltipPlugin.prototype.constructor = HtmlTooltipPlugin;\n",
       "    HtmlTooltipPlugin.prototype.requiredProps = [\"id\"];\n",
       "    HtmlTooltipPlugin.prototype.defaultProps = {labels:null,\n",
       "                                                hoffset:0,\n",
       "                                                voffset:10};\n",
       "    function HtmlTooltipPlugin(fig, props){\n",
       "        mpld3.Plugin.call(this, fig, props);\n",
       "    };\n",
       "\n",
       "    HtmlTooltipPlugin.prototype.draw = function(){\n",
       "       var obj = mpld3.get_element(this.props.id);\n",
       "       var labels = this.props.labels;\n",
       "       var tooltip = d3.select(\"body\").append(\"div\")\n",
       "                    .attr(\"class\", \"mpld3-tooltip\")\n",
       "                    .style(\"position\", \"absolute\")\n",
       "                    .style(\"z-index\", \"10\")\n",
       "                    .style(\"visibility\", \"hidden\");\n",
       "\n",
       "       obj.elements()\n",
       "           .on(\"mouseover\", function(d, i){\n",
       "                              tooltip.html(labels[i])\n",
       "                                     .style(\"visibility\", \"visible\");})\n",
       "           .on(\"mousemove\", function(d, i){\n",
       "                  tooltip\n",
       "                    .style(\"top\", d3.event.pageY + this.props.voffset + \"px\")\n",
       "                    .style(\"left\",d3.event.pageX + this.props.hoffset + \"px\");\n",
       "                 }.bind(this))\n",
       "           .on(\"mouseout\",  function(d, i){\n",
       "                           tooltip.style(\"visibility\", \"hidden\");});\n",
       "    };\n",
       "    \n",
       "    mpld3.register_plugin(\"toptoolbar\", TopToolbar);\n",
       "    TopToolbar.prototype = Object.create(mpld3.Plugin.prototype);\n",
       "    TopToolbar.prototype.constructor = TopToolbar;\n",
       "    function TopToolbar(fig, props){\n",
       "        mpld3.Plugin.call(this, fig, props);\n",
       "    };\n",
       "\n",
       "    TopToolbar.prototype.draw = function(){\n",
       "      // the toolbar svg doesn't exist\n",
       "      // yet, so first draw it\n",
       "      this.fig.toolbar.draw();\n",
       "\n",
       "      // then change the y position to be\n",
       "      // at the top of the figure\n",
       "      this.fig.toolbar.toolbar.attr(\"x\", 150);\n",
       "      this.fig.toolbar.toolbar.attr(\"y\", 400);\n",
       "\n",
       "      // then remove the draw function,\n",
       "      // so that it is not called again\n",
       "      this.fig.toolbar.draw = function() {}\n",
       "    }\n",
       "    \n",
       "    mpld3.register_plugin(\"htmltooltip\", HtmlTooltipPlugin);\n",
       "    HtmlTooltipPlugin.prototype = Object.create(mpld3.Plugin.prototype);\n",
       "    HtmlTooltipPlugin.prototype.constructor = HtmlTooltipPlugin;\n",
       "    HtmlTooltipPlugin.prototype.requiredProps = [\"id\"];\n",
       "    HtmlTooltipPlugin.prototype.defaultProps = {labels:null,\n",
       "                                                hoffset:0,\n",
       "                                                voffset:10};\n",
       "    function HtmlTooltipPlugin(fig, props){\n",
       "        mpld3.Plugin.call(this, fig, props);\n",
       "    };\n",
       "\n",
       "    HtmlTooltipPlugin.prototype.draw = function(){\n",
       "       var obj = mpld3.get_element(this.props.id);\n",
       "       var labels = this.props.labels;\n",
       "       var tooltip = d3.select(\"body\").append(\"div\")\n",
       "                    .attr(\"class\", \"mpld3-tooltip\")\n",
       "                    .style(\"position\", \"absolute\")\n",
       "                    .style(\"z-index\", \"10\")\n",
       "                    .style(\"visibility\", \"hidden\");\n",
       "\n",
       "       obj.elements()\n",
       "           .on(\"mouseover\", function(d, i){\n",
       "                              tooltip.html(labels[i])\n",
       "                                     .style(\"visibility\", \"visible\");})\n",
       "           .on(\"mousemove\", function(d, i){\n",
       "                  tooltip\n",
       "                    .style(\"top\", d3.event.pageY + this.props.voffset + \"px\")\n",
       "                    .style(\"left\",d3.event.pageX + this.props.hoffset + \"px\");\n",
       "                 }.bind(this))\n",
       "           .on(\"mouseout\",  function(d, i){\n",
       "                           tooltip.style(\"visibility\", \"hidden\");});\n",
       "    };\n",
       "    \n",
       "    mpld3.register_plugin(\"toptoolbar\", TopToolbar);\n",
       "    TopToolbar.prototype = Object.create(mpld3.Plugin.prototype);\n",
       "    TopToolbar.prototype.constructor = TopToolbar;\n",
       "    function TopToolbar(fig, props){\n",
       "        mpld3.Plugin.call(this, fig, props);\n",
       "    };\n",
       "\n",
       "    TopToolbar.prototype.draw = function(){\n",
       "      // the toolbar svg doesn't exist\n",
       "      // yet, so first draw it\n",
       "      this.fig.toolbar.draw();\n",
       "\n",
       "      // then change the y position to be\n",
       "      // at the top of the figure\n",
       "      this.fig.toolbar.toolbar.attr(\"x\", 150);\n",
       "      this.fig.toolbar.toolbar.attr(\"y\", 400);\n",
       "\n",
       "      // then remove the draw function,\n",
       "      // so that it is not called again\n",
       "      this.fig.toolbar.draw = function() {}\n",
       "    }\n",
       "    \n",
       "    mpld3.register_plugin(\"htmltooltip\", HtmlTooltipPlugin);\n",
       "    HtmlTooltipPlugin.prototype = Object.create(mpld3.Plugin.prototype);\n",
       "    HtmlTooltipPlugin.prototype.constructor = HtmlTooltipPlugin;\n",
       "    HtmlTooltipPlugin.prototype.requiredProps = [\"id\"];\n",
       "    HtmlTooltipPlugin.prototype.defaultProps = {labels:null,\n",
       "                                                hoffset:0,\n",
       "                                                voffset:10};\n",
       "    function HtmlTooltipPlugin(fig, props){\n",
       "        mpld3.Plugin.call(this, fig, props);\n",
       "    };\n",
       "\n",
       "    HtmlTooltipPlugin.prototype.draw = function(){\n",
       "       var obj = mpld3.get_element(this.props.id);\n",
       "       var labels = this.props.labels;\n",
       "       var tooltip = d3.select(\"body\").append(\"div\")\n",
       "                    .attr(\"class\", \"mpld3-tooltip\")\n",
       "                    .style(\"position\", \"absolute\")\n",
       "                    .style(\"z-index\", \"10\")\n",
       "                    .style(\"visibility\", \"hidden\");\n",
       "\n",
       "       obj.elements()\n",
       "           .on(\"mouseover\", function(d, i){\n",
       "                              tooltip.html(labels[i])\n",
       "                                     .style(\"visibility\", \"visible\");})\n",
       "           .on(\"mousemove\", function(d, i){\n",
       "                  tooltip\n",
       "                    .style(\"top\", d3.event.pageY + this.props.voffset + \"px\")\n",
       "                    .style(\"left\",d3.event.pageX + this.props.hoffset + \"px\");\n",
       "                 }.bind(this))\n",
       "           .on(\"mouseout\",  function(d, i){\n",
       "                           tooltip.style(\"visibility\", \"hidden\");});\n",
       "    };\n",
       "    \n",
       "    mpld3.register_plugin(\"toptoolbar\", TopToolbar);\n",
       "    TopToolbar.prototype = Object.create(mpld3.Plugin.prototype);\n",
       "    TopToolbar.prototype.constructor = TopToolbar;\n",
       "    function TopToolbar(fig, props){\n",
       "        mpld3.Plugin.call(this, fig, props);\n",
       "    };\n",
       "\n",
       "    TopToolbar.prototype.draw = function(){\n",
       "      // the toolbar svg doesn't exist\n",
       "      // yet, so first draw it\n",
       "      this.fig.toolbar.draw();\n",
       "\n",
       "      // then change the y position to be\n",
       "      // at the top of the figure\n",
       "      this.fig.toolbar.toolbar.attr(\"x\", 150);\n",
       "      this.fig.toolbar.toolbar.attr(\"y\", 400);\n",
       "\n",
       "      // then remove the draw function,\n",
       "      // so that it is not called again\n",
       "      this.fig.toolbar.draw = function() {}\n",
       "    }\n",
       "    \n",
       "       mpld3.draw_figure(\"fig_el202002127224632992810559995\", {\"width\": 1008.0, \"height\": 432.0, \"axes\": [{\"bbox\": [0.125, 0.125, 0.775, 0.755], \"xlim\": [-0.8769733237553741, 0.8446162167132275], \"ylim\": [-0.897625854853919, 0.7029892870376213], \"xdomain\": [-0.8769733237553741, 0.8446162167132275], \"ydomain\": [-0.897625854853919, 0.7029892870376213], \"xscale\": \"linear\", \"yscale\": \"linear\", \"axes\": [{\"position\": \"bottom\", \"nticks\": 0, \"tickvalues\": [], \"tickformat\": \"\", \"scale\": \"linear\", \"fontsize\": null, \"grid\": {\"gridOn\": false}, \"visible\": false}, {\"position\": \"left\", \"nticks\": 0, \"tickvalues\": [], \"tickformat\": \"\", \"scale\": \"linear\", \"fontsize\": null, \"grid\": {\"gridOn\": false}, \"visible\": false}], \"axesbg\": \"#FFFFFF\", \"axesbgalpha\": null, \"zoomable\": true, \"id\": \"el202002127224254928\", \"lines\": [], \"paths\": [{\"data\": \"data07\", \"xindex\": 0, \"yindex\": 1, \"coordinates\": \"axes\", \"pathcodes\": [\"M\", \"L\", \"S\", \"L\", \"S\", \"L\", \"S\", \"L\", \"S\", \"Z\"], \"id\": \"el202002127202434632\", \"dasharray\": \"none\", \"alpha\": 0.8, \"facecolor\": \"#FFFFFF\", \"edgecolor\": \"#CCCCCC\", \"edgewidth\": 1.0, \"zorder\": 1000000.0}], \"markers\": [{\"data\": \"data01\", \"xindex\": 0, \"yindex\": 1, \"coordinates\": \"data\", \"id\": \"el202002127224635176pts\", \"facecolor\": \"#1B9E77\", \"edgecolor\": \"none\", \"edgewidth\": 1.0, \"alpha\": 1, \"zorder\": 2, \"markerpath\": [[[0.0, 9.0], [2.3868279, 9.0], [4.676218837063681, 8.051703224294176], [6.3639610306789285, 6.3639610306789285], [8.051703224294176, 4.676218837063681], [9.0, 2.3868279], [9.0, 0.0], [9.0, -2.3868279], [8.051703224294176, -4.676218837063681], [6.3639610306789285, -6.3639610306789285], [4.676218837063681, -8.051703224294176], [2.3868279, -9.0], [0.0, -9.0], [-2.3868279, -9.0], [-4.676218837063681, -8.051703224294176], [-6.3639610306789285, -6.3639610306789285], [-8.051703224294176, -4.676218837063681], [-9.0, -2.3868279], [-9.0, 0.0], [-9.0, 2.3868279], [-8.051703224294176, 4.676218837063681], [-6.3639610306789285, 6.3639610306789285], [-4.676218837063681, 8.051703224294176], [-2.3868279, 9.0], [0.0, 9.0]], [\"M\", \"C\", \"C\", \"C\", \"C\", \"C\", \"C\", \"C\", \"C\", \"Z\"]]}, {\"data\": \"data02\", \"xindex\": 0, \"yindex\": 1, \"coordinates\": \"data\", \"id\": \"el202002127224674456pts\", \"facecolor\": \"#D95F02\", \"edgecolor\": \"none\", \"edgewidth\": 1.0, \"alpha\": 1, \"zorder\": 2, \"markerpath\": [[[0.0, 9.0], [2.3868279, 9.0], [4.676218837063681, 8.051703224294176], [6.3639610306789285, 6.3639610306789285], [8.051703224294176, 4.676218837063681], [9.0, 2.3868279], [9.0, 0.0], [9.0, -2.3868279], [8.051703224294176, -4.676218837063681], [6.3639610306789285, -6.3639610306789285], [4.676218837063681, -8.051703224294176], [2.3868279, -9.0], [0.0, -9.0], [-2.3868279, -9.0], [-4.676218837063681, -8.051703224294176], [-6.3639610306789285, -6.3639610306789285], [-8.051703224294176, -4.676218837063681], [-9.0, -2.3868279], [-9.0, 0.0], [-9.0, 2.3868279], [-8.051703224294176, 4.676218837063681], [-6.3639610306789285, 6.3639610306789285], [-4.676218837063681, 8.051703224294176], [-2.3868279, 9.0], [0.0, 9.0]], [\"M\", \"C\", \"C\", \"C\", \"C\", \"C\", \"C\", \"C\", \"C\", \"Z\"]]}, {\"data\": \"data03\", \"xindex\": 0, \"yindex\": 1, \"coordinates\": \"data\", \"id\": \"el202002127202434464pts\", \"facecolor\": \"#7570B3\", \"edgecolor\": \"none\", \"edgewidth\": 1.0, \"alpha\": 1, \"zorder\": 2, \"markerpath\": [[[0.0, 9.0], [2.3868279, 9.0], [4.676218837063681, 8.051703224294176], [6.3639610306789285, 6.3639610306789285], [8.051703224294176, 4.676218837063681], [9.0, 2.3868279], [9.0, 0.0], [9.0, -2.3868279], [8.051703224294176, -4.676218837063681], [6.3639610306789285, -6.3639610306789285], [4.676218837063681, -8.051703224294176], [2.3868279, -9.0], [0.0, -9.0], [-2.3868279, -9.0], [-4.676218837063681, -8.051703224294176], [-6.3639610306789285, -6.3639610306789285], [-8.051703224294176, -4.676218837063681], [-9.0, -2.3868279], [-9.0, 0.0], [-9.0, 2.3868279], [-8.051703224294176, 4.676218837063681], [-6.3639610306789285, 6.3639610306789285], [-4.676218837063681, 8.051703224294176], [-2.3868279, 9.0], [0.0, 9.0]], [\"M\", \"C\", \"C\", \"C\", \"C\", \"C\", \"C\", \"C\", \"C\", \"Z\"]]}, {\"data\": \"data04\", \"xindex\": 0, \"yindex\": 1, \"coordinates\": \"data\", \"id\": \"el202002127223120280pts\", \"facecolor\": \"#E7298A\", \"edgecolor\": \"none\", \"edgewidth\": 1.0, \"alpha\": 1, \"zorder\": 2, \"markerpath\": [[[0.0, 9.0], [2.3868279, 9.0], [4.676218837063681, 8.051703224294176], [6.3639610306789285, 6.3639610306789285], [8.051703224294176, 4.676218837063681], [9.0, 2.3868279], [9.0, 0.0], [9.0, -2.3868279], [8.051703224294176, -4.676218837063681], [6.3639610306789285, -6.3639610306789285], [4.676218837063681, -8.051703224294176], [2.3868279, -9.0], [0.0, -9.0], [-2.3868279, -9.0], [-4.676218837063681, -8.051703224294176], [-6.3639610306789285, -6.3639610306789285], [-8.051703224294176, -4.676218837063681], [-9.0, -2.3868279], [-9.0, 0.0], [-9.0, 2.3868279], [-8.051703224294176, 4.676218837063681], [-6.3639610306789285, 6.3639610306789285], [-4.676218837063681, 8.051703224294176], [-2.3868279, 9.0], [0.0, 9.0]], [\"M\", \"C\", \"C\", \"C\", \"C\", \"C\", \"C\", \"C\", \"C\", \"Z\"]]}, {\"data\": \"data05\", \"xindex\": 0, \"yindex\": 1, \"coordinates\": \"data\", \"id\": \"el202002127223256456pts\", \"facecolor\": \"#66A61E\", \"edgecolor\": \"none\", \"edgewidth\": 1.0, \"alpha\": 1, \"zorder\": 2, \"markerpath\": [[[0.0, 9.0], [2.3868279, 9.0], [4.676218837063681, 8.051703224294176], [6.3639610306789285, 6.3639610306789285], [8.051703224294176, 4.676218837063681], [9.0, 2.3868279], [9.0, 0.0], [9.0, -2.3868279], [8.051703224294176, -4.676218837063681], [6.3639610306789285, -6.3639610306789285], [4.676218837063681, -8.051703224294176], [2.3868279, -9.0], [0.0, -9.0], [-2.3868279, -9.0], [-4.676218837063681, -8.051703224294176], [-6.3639610306789285, -6.3639610306789285], [-8.051703224294176, -4.676218837063681], [-9.0, -2.3868279], [-9.0, 0.0], [-9.0, 2.3868279], [-8.051703224294176, 4.676218837063681], [-6.3639610306789285, 6.3639610306789285], [-4.676218837063681, 8.051703224294176], [-2.3868279, 9.0], [0.0, 9.0]], [\"M\", \"C\", \"C\", \"C\", \"C\", \"C\", \"C\", \"C\", \"C\", \"Z\"]]}, {\"data\": \"data06\", \"xindex\": 0, \"yindex\": 1, \"coordinates\": \"axes\", \"id\": \"el202002127222911664pts\", \"facecolor\": \"#1B9E77\", \"edgecolor\": \"none\", \"edgewidth\": 1.0, \"alpha\": 1, \"zorder\": 1000002.0, \"markerpath\": [[[0.0, 9.0], [2.3868279, 9.0], [4.676218837063681, 8.051703224294176], [6.3639610306789285, 6.3639610306789285], [8.051703224294176, 4.676218837063681], [9.0, 2.3868279], [9.0, 0.0], [9.0, -2.3868279], [8.051703224294176, -4.676218837063681], [6.3639610306789285, -6.3639610306789285], [4.676218837063681, -8.051703224294176], [2.3868279, -9.0], [0.0, -9.0], [-2.3868279, -9.0], [-4.676218837063681, -8.051703224294176], [-6.3639610306789285, -6.3639610306789285], [-8.051703224294176, -4.676218837063681], [-9.0, -2.3868279], [-9.0, 0.0], [-9.0, 2.3868279], [-8.051703224294176, 4.676218837063681], [-6.3639610306789285, 6.3639610306789285], [-4.676218837063681, 8.051703224294176], [-2.3868279, 9.0], [0.0, 9.0]], [\"M\", \"C\", \"C\", \"C\", \"C\", \"C\", \"C\", \"C\", \"C\", \"Z\"]]}, {\"data\": \"data06\", \"xindex\": 0, \"yindex\": 2, \"coordinates\": \"axes\", \"id\": \"el202002127222859424pts\", \"facecolor\": \"#D95F02\", \"edgecolor\": \"none\", \"edgewidth\": 1.0, \"alpha\": 1, \"zorder\": 1000002.0, \"markerpath\": [[[0.0, 9.0], [2.3868279, 9.0], [4.676218837063681, 8.051703224294176], [6.3639610306789285, 6.3639610306789285], [8.051703224294176, 4.676218837063681], [9.0, 2.3868279], [9.0, 0.0], [9.0, -2.3868279], [8.051703224294176, -4.676218837063681], [6.3639610306789285, -6.3639610306789285], [4.676218837063681, -8.051703224294176], [2.3868279, -9.0], [0.0, -9.0], [-2.3868279, -9.0], [-4.676218837063681, -8.051703224294176], [-6.3639610306789285, -6.3639610306789285], [-8.051703224294176, -4.676218837063681], [-9.0, -2.3868279], [-9.0, 0.0], [-9.0, 2.3868279], [-8.051703224294176, 4.676218837063681], [-6.3639610306789285, 6.3639610306789285], [-4.676218837063681, 8.051703224294176], [-2.3868279, 9.0], [0.0, 9.0]], [\"M\", \"C\", \"C\", \"C\", \"C\", \"C\", \"C\", \"C\", \"C\", \"Z\"]]}, {\"data\": \"data06\", \"xindex\": 0, \"yindex\": 3, \"coordinates\": \"axes\", \"id\": \"el202002127222859872pts\", \"facecolor\": \"#7570B3\", \"edgecolor\": \"none\", \"edgewidth\": 1.0, \"alpha\": 1, \"zorder\": 1000002.0, \"markerpath\": [[[0.0, 9.0], [2.3868279, 9.0], [4.676218837063681, 8.051703224294176], [6.3639610306789285, 6.3639610306789285], [8.051703224294176, 4.676218837063681], [9.0, 2.3868279], [9.0, 0.0], [9.0, -2.3868279], [8.051703224294176, -4.676218837063681], [6.3639610306789285, -6.3639610306789285], [4.676218837063681, -8.051703224294176], [2.3868279, -9.0], [0.0, -9.0], [-2.3868279, -9.0], [-4.676218837063681, -8.051703224294176], [-6.3639610306789285, -6.3639610306789285], [-8.051703224294176, -4.676218837063681], [-9.0, -2.3868279], [-9.0, 0.0], [-9.0, 2.3868279], [-8.051703224294176, 4.676218837063681], [-6.3639610306789285, 6.3639610306789285], [-4.676218837063681, 8.051703224294176], [-2.3868279, 9.0], [0.0, 9.0]], [\"M\", \"C\", \"C\", \"C\", \"C\", \"C\", \"C\", \"C\", \"C\", \"Z\"]]}, {\"data\": \"data06\", \"xindex\": 0, \"yindex\": 4, \"coordinates\": \"axes\", \"id\": \"el202002127222859480pts\", \"facecolor\": \"#E7298A\", \"edgecolor\": \"none\", \"edgewidth\": 1.0, \"alpha\": 1, \"zorder\": 1000002.0, \"markerpath\": [[[0.0, 9.0], [2.3868279, 9.0], [4.676218837063681, 8.051703224294176], [6.3639610306789285, 6.3639610306789285], [8.051703224294176, 4.676218837063681], [9.0, 2.3868279], [9.0, 0.0], [9.0, -2.3868279], [8.051703224294176, -4.676218837063681], [6.3639610306789285, -6.3639610306789285], [4.676218837063681, -8.051703224294176], [2.3868279, -9.0], [0.0, -9.0], [-2.3868279, -9.0], [-4.676218837063681, -8.051703224294176], [-6.3639610306789285, -6.3639610306789285], [-8.051703224294176, -4.676218837063681], [-9.0, -2.3868279], [-9.0, 0.0], [-9.0, 2.3868279], [-8.051703224294176, 4.676218837063681], [-6.3639610306789285, 6.3639610306789285], [-4.676218837063681, 8.051703224294176], [-2.3868279, 9.0], [0.0, 9.0]], [\"M\", \"C\", \"C\", \"C\", \"C\", \"C\", \"C\", \"C\", \"C\", \"Z\"]]}, {\"data\": \"data06\", \"xindex\": 0, \"yindex\": 5, \"coordinates\": \"axes\", \"id\": \"el202002127186228112pts\", \"facecolor\": \"#66A61E\", \"edgecolor\": \"none\", \"edgewidth\": 1.0, \"alpha\": 1, \"zorder\": 1000002.0, \"markerpath\": [[[0.0, 9.0], [2.3868279, 9.0], [4.676218837063681, 8.051703224294176], [6.3639610306789285, 6.3639610306789285], [8.051703224294176, 4.676218837063681], [9.0, 2.3868279], [9.0, 0.0], [9.0, -2.3868279], [8.051703224294176, -4.676218837063681], [6.3639610306789285, -6.3639610306789285], [4.676218837063681, -8.051703224294176], [2.3868279, -9.0], [0.0, -9.0], [-2.3868279, -9.0], [-4.676218837063681, -8.051703224294176], [-6.3639610306789285, -6.3639610306789285], [-8.051703224294176, -4.676218837063681], [-9.0, -2.3868279], [-9.0, 0.0], [-9.0, 2.3868279], [-8.051703224294176, 4.676218837063681], [-6.3639610306789285, 6.3639610306789285], [-4.676218837063681, 8.051703224294176], [-2.3868279, 9.0], [0.0, 9.0]], [\"M\", \"C\", \"C\", \"C\", \"C\", \"C\", \"C\", \"C\", \"C\", \"Z\"]]}], \"texts\": [{\"text\": \"cluster1\", \"position\": [0.04736303123399899, 0.21768457198920774], \"coordinates\": \"axes\", \"h_anchor\": \"start\", \"v_baseline\": \"auto\", \"rotation\": -0.0, \"fontsize\": 10.0, \"color\": \"#000000\", \"alpha\": 1, \"zorder\": 1000003.0, \"id\": \"el202002127222911384\"}, {\"text\": \"cluster2\", \"position\": [0.04736303123399899, 0.17169487368162864], \"coordinates\": \"axes\", \"h_anchor\": \"start\", \"v_baseline\": \"auto\", \"rotation\": -0.0, \"fontsize\": 10.0, \"color\": \"#000000\", \"alpha\": 1, \"zorder\": 1000003.0, \"id\": \"el202002127222914744\"}, {\"text\": \"cluster3\", \"position\": [0.04736303123399899, 0.12570517537404954], \"coordinates\": \"axes\", \"h_anchor\": \"start\", \"v_baseline\": \"auto\", \"rotation\": -0.0, \"fontsize\": 10.0, \"color\": \"#000000\", \"alpha\": 1, \"zorder\": 1000003.0, \"id\": \"el202002127222860376\"}, {\"text\": \"cluster4\", \"position\": [0.04736303123399899, 0.07971547706647045], \"coordinates\": \"axes\", \"h_anchor\": \"start\", \"v_baseline\": \"auto\", \"rotation\": -0.0, \"fontsize\": 10.0, \"color\": \"#000000\", \"alpha\": 1, \"zorder\": 1000003.0, \"id\": \"el202002127222861216\"}, {\"text\": \"cluster5\", \"position\": [0.04736303123399899, 0.03372577875889135], \"coordinates\": \"axes\", \"h_anchor\": \"start\", \"v_baseline\": \"auto\", \"rotation\": -0.0, \"fontsize\": 10.0, \"color\": \"#000000\", \"alpha\": 1, \"zorder\": 1000003.0, \"id\": \"el202002127186229288\"}], \"collections\": [], \"images\": [], \"sharex\": [], \"sharey\": []}], \"data\": {\"data01\": [[-0.4503663480451138, 0.2891604179709615], [-0.18865166158655028, 0.46223113167937635], [-0.18865166158655028, 0.46223113167937635], [-0.1886516615865502, 0.46223113167937624], [-0.014311793808632317, 0.6176355221999209], [-0.014311793808632282, 0.6176355221999208], [-0.1886516615865502, 0.46223113167937624], [-0.18865166158654983, 0.46223113167937663], [-0.014311793808632324, 0.6176355221999211], [-0.014311793808632324, 0.6176355221999211], [-0.18865166158654983, 0.4622311316793765], [-0.450366348045114, 0.2891604179709615], [-0.44947173730719986, 0.2894037760896513], [-0.18865166158654992, 0.46223113167937646], [-0.1886516615865502, 0.4622311316793762], [-0.014311793808632279, 0.6176355221999208], [-0.014311793808632317, 0.6176355221999212], [-0.01431179380863232, 0.6176355221999212], [-0.18865166158654992, 0.46223113167937635], [-0.014311793808632279, 0.6176355221999209], [0.11801416501244671, 0.3779168017116807], [-0.450366348045114, 0.2891604179709618], [-0.014311793808632286, 0.6176355221999209], [-0.014311793808632298, 0.6176355221999211], [-0.1886516615865501, 0.46223113167937663], [-0.450366348045114, 0.2891604179709616], [-0.01431179380863232, 0.6176355221999211], [-0.449471737307595, 0.28940377608966883], [-0.014311793808632286, 0.6176355221999211], [-0.014311793808632277, 0.6176355221999211], [-0.014311793808632286, 0.6176355221999212], [-0.014311793808632286, 0.6176355221999212], [-0.014311793808632286, 0.6176355221999211]], \"data02\": [[-0.11179909734119428, -0.5683513492590087], [-0.7034777702290625, 0.4571321935700938], [-0.7432998571912363, 0.3769344678772638], [-0.7942727502233394, 0.2284333005518299], [0.14806597702319574, 0.22928613188575125], [0.7958919844358142, 0.35514075750787116], [-0.11179909734119454, -0.5683513492590085], [0.14806597702319574, 0.22928613188575153], [-0.07210408877484664, 0.20677791233204684], [-0.07210408877484667, 0.20677791233204684], [-0.11179909734119459, -0.5683513492590084], [-0.11179909734119421, -0.5683513492590085], [-0.11179909734119421, -0.5683513492590083], [-0.07210408877484667, 0.20677791233204684], [-0.11179909734119424, -0.5683513492590087], [-0.07210408877484653, 0.2067779123320467], [-0.07210408877484654, 0.2067779123320468], [0.08335848475324716, -0.4999454660119626], [0.1804747540573458, -0.8285458491585581], [-0.8123790008219149, 0.1573749131167425], [0.07964814275084313, -0.8439365932215578], [-0.03785057178080281, -0.8523254263098188], [-0.07210408877484656, 0.20677791233204673], [-0.8282490914779608, 0.0836323813146997], [-0.26046362781400323, -0.4776312552550925], [-0.7723279716981885, 0.30079586207805453], [-0.11179909734119421, -0.5683513492590081], [-0.07210408877484659, 0.20677791233204687], [0.549755634382782, 0.6576888584935211], [-0.6507392802242289, 0.5393143263146514], [0.6419977736513661, 0.5689111225742763]], \"data03\": [[0.5178288265620347, -0.39017855187624895], [0.5178288265620347, -0.39017855187624895], [0.5178288265620344, -0.39017855187624956], [0.5178288265620344, -0.3901785518762496], [0.5178288265620347, -0.39017855187624895], [0.5178288265620344, -0.3901785518762495], [0.5178288265620344, -0.3901785518762496], [0.2154911658673927, -0.4684466171483016], [0.5178288265620344, -0.39017855187624945], [0.5178288265620347, -0.39017855187624906], [0.29688901816961505, -0.21732388625685722], [0.5178288265620347, -0.3901785518762495], [0.21549116586739256, -0.4684466171483017], [0.21549116586739256, -0.4684466171483017], [0.29688901816961494, -0.21732388625685736], [0.2968890181696149, -0.21732388625685756], [0.29688901816961494, -0.21732388625685736], [0.21549116586739261, -0.4684466171483017], [0.21549116586739236, -0.4684466171483015], [0.2968890181696148, -0.21732388625685747], [0.2968890181696148, -0.21732388625685747], [0.21549116586739256, -0.4684466171483017], [0.5178288265620351, -0.3901785518762496], [0.517828826562035, -0.3901785518762496], [0.5178288265620351, -0.3901785518762496], [0.517828826562035, -0.39017855187624945], [0.517828826562035, -0.3901785518762496], [0.29688901816961477, -0.21732388625685747]], \"data04\": [[-0.4942619857921802, -0.08159236887460217], [-0.5704078902574724, -0.33475691560383153], [-0.49426198579218017, -0.08159236887460222], [-0.3505565542264379, -0.4297396277879645], [-0.35055655422643794, -0.4297396277879644], [-0.350556554226438, -0.4297396277879644], [-0.3505565542264379, -0.42973962778796465], [-0.24420368420499552, -0.04047156618155197], [-0.570407890257473, -0.33475691560383175], [-0.5704078902574736, -0.3347569156038316], [-0.3505565542264379, -0.4297396277879646], [-0.5704078902574735, -0.3347569156038316], [-0.5704078902574728, -0.33475691560383175], [-0.2182729701879877, -0.16847461664708974], [-0.570407890257473, -0.3347569156038318], [-0.5704078902574735, -0.33475691560383153], [-0.49426198579218006, -0.08159236887460214], [-0.49426198579218017, -0.08159236887460218], [-0.5704078902574732, -0.33475691560383164], [-0.35055655422643783, -0.4297396277879644], [-0.5704078902574732, -0.33475691560383164], [-0.49426198579217995, -0.08159236887460218], [-0.35055655422643783, -0.4297396277879645], [-0.3505565542264378, -0.4297396277879644], [-0.3505565542264379, -0.4297396277879646], [-0.35055655422643783, -0.4297396277879643], [-0.21827297018798925, -0.16847461664708954], [-0.5704078902574735, -0.33475691560383153], [-0.5704078902574737, -0.33475691560383153], [-0.21827297018798925, -0.16847461664708957], [-0.49426198579217995, -0.08159236887460217], [-0.5704078902574736, -0.33475691560383153], [-0.5704078902574737, -0.33475691560383153]], \"data05\": [[0.5654575019332616, 0.2509517764631414], [0.5654575019332866, 0.2509517764630974], [0.5654575019332647, 0.25095177646313505], [0.31981822116717934, 0.21451894653902828], [0.5654575019332618, 0.25095177646314093], [0.5654575019332615, 0.25095177646314126], [0.5529052709758581, -0.0777216672767098], [0.26115600235523073, 0.44268448235308333], [0.2611560023552308, 0.4426844823530836], [0.2611560023552308, 0.4426844823530836], [0.37906171462367283, -0.030917175359891035], [0.26115600235523084, 0.44268448235308316], [0.2611560023552308, 0.4426844823530833], [0.26115600235523073, 0.4426844823530837], [0.5654575019332854, 0.2509517764630984], [0.5607286262926203, 0.05201301677869673], [0.26115600235523084, 0.4426844823530836], [0.5529052709758583, -0.0777216672767098], [0.5529052709758585, -0.07772166727670987], [0.5654575019332646, 0.25095177646313527], [0.5529052709758585, -0.07772166727670987], [0.5654575019332614, 0.2509517764631411], [0.5654575019332614, 0.2509517764631411], [0.5529052709758584, -0.07772166727670984], [0.5529052709758585, -0.07772166727670983], [0.5529052709758587, -0.07772166727670984], [0.5607286262926199, 0.05201301677869673]], \"data06\": [[0.024321556579621102, 0.22841550159430954, 0.18242580328673044, 0.13643610497915135, 0.09044640667157224, 0.04445670836399314]], \"data07\": [[0.00896057347670251, 0.015329899435859717], [0.10176651305683562, 0.015329899435859717], [0.10432667690732209, 0.015329899435859717], [0.10432667690732209, 0.021461859210203577], [0.10432667690732209, 0.24834437086092717], [0.10432667690732209, 0.254476330635271], [0.10176651305683562, 0.254476330635271], [0.00896057347670251, 0.254476330635271], [0.006400409626216075, 0.254476330635271], [0.006400409626216075, 0.24834437086092717], [0.006400409626216075, 0.021461859210203577], [0.006400409626216075, 0.015329899435859717], [0.00896057347670251, 0.015329899435859717]]}, \"id\": \"el202002127224632992\", \"plugins\": [{\"type\": \"reset\"}, {\"type\": \"zoom\", \"button\": true, \"enabled\": false}, {\"type\": \"boxzoom\", \"button\": true, \"enabled\": false}, {\"type\": \"htmltooltip\", \"id\": \"el202002127224635176pts\", \"labels\": [\"8 Bill is either in the school or the office.\\n\", \"11 Julie is either in the school or the office.\\n\", \"13 Julie is either in the park or the school.\\n\", \"4 Julie is either in the school or the office.\\n\", \"5 Julie moved to the cinema.\\n\", \"6 Is Julie in the cinema? \\tyes\\t5\\n\", \"8 Julie journeyed to the school.\\n\", \"9 Is Julie in the school? \\tyes\\t8\\n\", \"13 Julie journeyed to the park.\\n\", \"15 Is Julie in the park? \\tyes\\t13\\n\", \"2 Julie is either in the school or the cinema.\\n\", \"5 Bill is in the school.\\n\", \"12 Is Bill in the school? \\tyes\\t5\\n\", \"14 Julie is in the school.\\n\", \"15 Is Julie in the school? \\tyes\\t14\\n\", \"2 Julie travelled to the park.\\n\", \"7 Julie moved to the office.\\n\", \"1 Julie journeyed to the cinema.\\n\", \"3 Is Julie in the school? \\tno\\t1\\n\", \"10 Julie is either in the cinema or the park.\\n\", \"14 Julie is either in the bedroom or the school.\\n\", \"6 Is Bill in the school? \\tno\\t5\\n\", \"7 Julie travelled to the park.\\n\", \"8 Julie is in the office.\\n\", \"12 Is Julie in the school? \\tno\\t8\\n\", \"14 Bill is in the school.\\n\", \"1 Julie moved to the cinema.\\n\", \"14 Bill went to the school.\\n\", \"10 Julie went to the office.\\n\", \"11 Julie moved to the cinema.\\n\", \"1 Julie went back to the cinema.\\n\", \"3 Is Julie in the cinema? \\tyes\\t1\\n\", \"6 Is Julie in the park? \\tno\\t5\\n\"], \"hoffset\": 10, \"voffset\": 10}, {\"type\": \"toptoolbar\"}, {\"type\": \"htmltooltip\", \"id\": \"el202002127224674456pts\", \"labels\": [\"2 Bill is in the kitchen.\\n\", \"9 Is Bill in the park? \\tno\\t8\\n\", \"14 Bill went back to the office.\\n\", \"15 Is Bill in the office? \\tyes\\t14\\n\", \"7 Julie is either in the kitchen or the bedroom.\\n\", \"12 Is Bill in the office? \\tno\\t11\\n\", \"1 Bill is in the kitchen.\\n\", \"13 Julie is either in the kitchen or the bedroom.\\n\", \"3 Is Julie in the kitchen? \\tno\\t2\\n\", \"9 Is Julie in the kitchen? \\tno\\t7\\n\", \"10 Bill is in the kitchen.\\n\", \"1 Bill went to the kitchen.\\n\", \"7 Bill is either in the office or the kitchen.\\n\", \"8 Julie is either in the kitchen or the park.\\n\", \"13 Bill went back to the kitchen.\\n\", \"4 Julie moved to the kitchen.\\n\", \"6 Is Julie in the kitchen? \\tyes\\t4\\n\", \"8 Fred is either in the kitchen or the kitchen.\\n\", \"11 Bill is either in the office or the office.\\n\", \"13 Bill is either in the park or the park.\\n\", \"5 Bill went to the cinema.\\n\", \"9 Is Bill in the cinema? \\tyes\\t5\\n\", \"10 Julie journeyed to the kitchen.\\n\", \"\\n\", \"8 Mary is either in the kitchen or the kitchen.\\n\", \"13 Bill went back to the office.\\n\", \"2 Bill travelled to the kitchen.\\n\", \"5 Julie went back to the kitchen.\\n\", \"8 Bill went back to the park.\\n\", \"\\n\", \"\\n\"], \"hoffset\": 10, \"voffset\": 10}, {\"type\": \"toptoolbar\"}, {\"type\": \"htmltooltip\", \"id\": \"el202002127202434464pts\", \"labels\": [\"5 Fred travelled to the cinema.\\n\", \"7 Fred went back to the park.\\n\", \"12 Is Fred in the park? \\tyes\\t7\\n\", \"1 Fred journeyed to the office.\\n\", \"2 Fred went back to the cinema.\\n\", \"3 Is Fred in the office? \\tno\\t2\\n\", \"8 Fred is in the park.\\n\", \"4 Fred is either in the office or the kitchen.\\n\", \"2 Fred is either in the office or the park.\\n\", \"3 Is Fred in the park? \\tmaybe\\t2\\n\", \"6 Is Fred in the school? \\tno\\t4\\n\", \"15 Is Fred in the cinema? \\tno\\t8\\n\", \"1 Fred is in the kitchen.\\n\", \"3 Is Fred in the kitchen? \\tyes\\t1\\n\", \"4 Fred is in the school.\\n\", \"15 Is Fred in the school? \\tno\\t10\\n\", \"1 Fred went to the school.\\n\", \"2 Fred travelled to the kitchen.\\n\", \"3 Is Fred in the kitchen? \\tyes\\t2\\n\", \"4 Fred went back to the school.\\n\", \"6 Is Fred in the school? \\tno\\t5\\n\", \"14 Fred is in the kitchen.\\n\", \"11 Fred is either in the park or the office.\\n\", \"12 Is Fred in the office? \\tmaybe\\t11\\n\", \"13 Fred is in the park.\\n\", \"15 Is Fred in the park? \\tyes\\t13\\n\", \"1 Fred is in the office.\\n\", \"7 Fred went back to the school.\\n\"], \"hoffset\": 10, \"voffset\": 10}, {\"type\": \"toptoolbar\"}, {\"type\": \"htmltooltip\", \"id\": \"el202002127223120280pts\", \"labels\": [\"1 Mary is in the school.\\n\", \"10 Mary went to the cinema.\\n\", \"14 Mary travelled to the school.\\n\", \"11 Mary went to the kitchen.\\n\", \"8 Mary is either in the office or the kitchen.\\n\", \"12 Is Mary in the kitchen? \\tmaybe\\t8\\n\", \"15 Is Mary in the kitchen? \\tmaybe\\t8\\n\", \"5 Mary is either in the school or the bedroom.\\n\", \"10 Mary is in the park.\\n\", \"11 Mary went back to the office.\\n\", \"12 Is Mary in the kitchen? \\tno\\t11\\n\", \"15 Is Mary in the office? \\tyes\\t11\\n\", \"5 Mary travelled to the park.\\n\", \"7 Mary is in the bedroom.\\n\", \"9 Is Mary in the office? \\tno\\t7\\n\", \"12 Is Mary in the office? \\tno\\t7\\n\", \"15 Is Mary in the school? \\tmaybe\\t11\\n\", \"11 Mary journeyed to the school.\\n\", \"12 Is Mary in the park? \\tno\\t11\\n\", \"13 Mary is either in the kitchen or the office.\\n\", \"7 Mary is in the office.\\n\", \"9 Is Mary in the school? \\tno\\t8\\n\", \"12 Is Mary in the kitchen? \\tmaybe\\t8\\n\", \"15 Is Mary in the kitchen? \\tmaybe\\t8\\n\", \"7 Mary is in the kitchen.\\n\", \"9 Is Mary in the kitchen? \\tyes\\t7\\n\", \"10 Mary is in the bedroom.\\n\", \"14 Mary is either in the cinema or the cinema.\\n\", \"2 Mary is in the park.\\n\", \"3 Is Mary in the bedroom? \\tno\\t2\\n\", \"5 Mary is either in the office or the school.\\n\", \"6 Is Mary in the office? \\tmaybe\\t5\\n\", \"9 Is Mary in the office? \\tmaybe\\t5\\n\"], \"hoffset\": 10, \"voffset\": 10}, {\"type\": \"toptoolbar\"}, {\"type\": \"htmltooltip\", \"id\": \"el202002127223256456pts\", \"labels\": [\"3 Is Bill in the bedroom? \\tno\\t2\\n\", \"4 Bill journeyed to the bedroom.\\n\", \"6 Is Bill in the bedroom? \\tyes\\t4\\n\", \"10 Bill is either in the bedroom or the school.\\n\", \"11 Bill went to the bedroom.\\n\", \"3 Is Bill in the bedroom? \\tno\\t1\\n\", \"4 Fred is in the bedroom.\\n\", \"6 Is Julie in the bedroom? \\tno\\t2\\n\", \"7 Julie is either in the bedroom or the office.\\n\", \"9 Is Julie in the bedroom? \\tmaybe\\t7\\n\", \"10 Fred is either in the school or the bedroom.\\n\", \"1 Julie journeyed to the bedroom.\\n\", \"5 Julie travelled to the bedroom.\\n\", \"6 Is Julie in the bedroom? \\tyes\\t5\\n\", \"11 Bill is either in the bedroom or the park.\\n\", \"13 Fred is either in the bedroom or the bedroom.\\n\", \"14 Julie went to the bedroom.\\n\", \"4 Fred went to the bedroom.\\n\", \"9 Is Fred in the bedroom? \\tyes\\t4\\n\", \"14 Bill journeyed to the bedroom.\\n\", \"2 Fred is in the bedroom.\\n\", \"2 Bill moved to the bedroom.\\n\", \"13 Bill is either in the park or the bedroom.\\n\", \"5 Fred moved to the bedroom.\\n\", \"4 Fred moved to the bedroom.\\n\", \"4 Fred went back to the bedroom.\\n\", \"8 Fred is either in the bedroom or the bedroom.\\n\"], \"hoffset\": 10, \"voffset\": 10}, {\"type\": \"toptoolbar\"}]});\n",
       "   }(mpld3);\n",
       "}else if(typeof define === \"function\" && define.amd){\n",
       "   // require.js is available: use it to load d3/mpld3\n",
       "   require.config({paths: {d3: \"https://mpld3.github.io/js/d3.v3.min\"}});\n",
       "   require([\"d3\"], function(d3){\n",
       "      window.d3 = d3;\n",
       "      mpld3_load_lib(\"https://mpld3.github.io/js/mpld3.v0.3.js\", function(){\n",
       "         \n",
       "    mpld3.register_plugin(\"htmltooltip\", HtmlTooltipPlugin);\n",
       "    HtmlTooltipPlugin.prototype = Object.create(mpld3.Plugin.prototype);\n",
       "    HtmlTooltipPlugin.prototype.constructor = HtmlTooltipPlugin;\n",
       "    HtmlTooltipPlugin.prototype.requiredProps = [\"id\"];\n",
       "    HtmlTooltipPlugin.prototype.defaultProps = {labels:null,\n",
       "                                                hoffset:0,\n",
       "                                                voffset:10};\n",
       "    function HtmlTooltipPlugin(fig, props){\n",
       "        mpld3.Plugin.call(this, fig, props);\n",
       "    };\n",
       "\n",
       "    HtmlTooltipPlugin.prototype.draw = function(){\n",
       "       var obj = mpld3.get_element(this.props.id);\n",
       "       var labels = this.props.labels;\n",
       "       var tooltip = d3.select(\"body\").append(\"div\")\n",
       "                    .attr(\"class\", \"mpld3-tooltip\")\n",
       "                    .style(\"position\", \"absolute\")\n",
       "                    .style(\"z-index\", \"10\")\n",
       "                    .style(\"visibility\", \"hidden\");\n",
       "\n",
       "       obj.elements()\n",
       "           .on(\"mouseover\", function(d, i){\n",
       "                              tooltip.html(labels[i])\n",
       "                                     .style(\"visibility\", \"visible\");})\n",
       "           .on(\"mousemove\", function(d, i){\n",
       "                  tooltip\n",
       "                    .style(\"top\", d3.event.pageY + this.props.voffset + \"px\")\n",
       "                    .style(\"left\",d3.event.pageX + this.props.hoffset + \"px\");\n",
       "                 }.bind(this))\n",
       "           .on(\"mouseout\",  function(d, i){\n",
       "                           tooltip.style(\"visibility\", \"hidden\");});\n",
       "    };\n",
       "    \n",
       "    mpld3.register_plugin(\"toptoolbar\", TopToolbar);\n",
       "    TopToolbar.prototype = Object.create(mpld3.Plugin.prototype);\n",
       "    TopToolbar.prototype.constructor = TopToolbar;\n",
       "    function TopToolbar(fig, props){\n",
       "        mpld3.Plugin.call(this, fig, props);\n",
       "    };\n",
       "\n",
       "    TopToolbar.prototype.draw = function(){\n",
       "      // the toolbar svg doesn't exist\n",
       "      // yet, so first draw it\n",
       "      this.fig.toolbar.draw();\n",
       "\n",
       "      // then change the y position to be\n",
       "      // at the top of the figure\n",
       "      this.fig.toolbar.toolbar.attr(\"x\", 150);\n",
       "      this.fig.toolbar.toolbar.attr(\"y\", 400);\n",
       "\n",
       "      // then remove the draw function,\n",
       "      // so that it is not called again\n",
       "      this.fig.toolbar.draw = function() {}\n",
       "    }\n",
       "    \n",
       "    mpld3.register_plugin(\"htmltooltip\", HtmlTooltipPlugin);\n",
       "    HtmlTooltipPlugin.prototype = Object.create(mpld3.Plugin.prototype);\n",
       "    HtmlTooltipPlugin.prototype.constructor = HtmlTooltipPlugin;\n",
       "    HtmlTooltipPlugin.prototype.requiredProps = [\"id\"];\n",
       "    HtmlTooltipPlugin.prototype.defaultProps = {labels:null,\n",
       "                                                hoffset:0,\n",
       "                                                voffset:10};\n",
       "    function HtmlTooltipPlugin(fig, props){\n",
       "        mpld3.Plugin.call(this, fig, props);\n",
       "    };\n",
       "\n",
       "    HtmlTooltipPlugin.prototype.draw = function(){\n",
       "       var obj = mpld3.get_element(this.props.id);\n",
       "       var labels = this.props.labels;\n",
       "       var tooltip = d3.select(\"body\").append(\"div\")\n",
       "                    .attr(\"class\", \"mpld3-tooltip\")\n",
       "                    .style(\"position\", \"absolute\")\n",
       "                    .style(\"z-index\", \"10\")\n",
       "                    .style(\"visibility\", \"hidden\");\n",
       "\n",
       "       obj.elements()\n",
       "           .on(\"mouseover\", function(d, i){\n",
       "                              tooltip.html(labels[i])\n",
       "                                     .style(\"visibility\", \"visible\");})\n",
       "           .on(\"mousemove\", function(d, i){\n",
       "                  tooltip\n",
       "                    .style(\"top\", d3.event.pageY + this.props.voffset + \"px\")\n",
       "                    .style(\"left\",d3.event.pageX + this.props.hoffset + \"px\");\n",
       "                 }.bind(this))\n",
       "           .on(\"mouseout\",  function(d, i){\n",
       "                           tooltip.style(\"visibility\", \"hidden\");});\n",
       "    };\n",
       "    \n",
       "    mpld3.register_plugin(\"toptoolbar\", TopToolbar);\n",
       "    TopToolbar.prototype = Object.create(mpld3.Plugin.prototype);\n",
       "    TopToolbar.prototype.constructor = TopToolbar;\n",
       "    function TopToolbar(fig, props){\n",
       "        mpld3.Plugin.call(this, fig, props);\n",
       "    };\n",
       "\n",
       "    TopToolbar.prototype.draw = function(){\n",
       "      // the toolbar svg doesn't exist\n",
       "      // yet, so first draw it\n",
       "      this.fig.toolbar.draw();\n",
       "\n",
       "      // then change the y position to be\n",
       "      // at the top of the figure\n",
       "      this.fig.toolbar.toolbar.attr(\"x\", 150);\n",
       "      this.fig.toolbar.toolbar.attr(\"y\", 400);\n",
       "\n",
       "      // then remove the draw function,\n",
       "      // so that it is not called again\n",
       "      this.fig.toolbar.draw = function() {}\n",
       "    }\n",
       "    \n",
       "    mpld3.register_plugin(\"htmltooltip\", HtmlTooltipPlugin);\n",
       "    HtmlTooltipPlugin.prototype = Object.create(mpld3.Plugin.prototype);\n",
       "    HtmlTooltipPlugin.prototype.constructor = HtmlTooltipPlugin;\n",
       "    HtmlTooltipPlugin.prototype.requiredProps = [\"id\"];\n",
       "    HtmlTooltipPlugin.prototype.defaultProps = {labels:null,\n",
       "                                                hoffset:0,\n",
       "                                                voffset:10};\n",
       "    function HtmlTooltipPlugin(fig, props){\n",
       "        mpld3.Plugin.call(this, fig, props);\n",
       "    };\n",
       "\n",
       "    HtmlTooltipPlugin.prototype.draw = function(){\n",
       "       var obj = mpld3.get_element(this.props.id);\n",
       "       var labels = this.props.labels;\n",
       "       var tooltip = d3.select(\"body\").append(\"div\")\n",
       "                    .attr(\"class\", \"mpld3-tooltip\")\n",
       "                    .style(\"position\", \"absolute\")\n",
       "                    .style(\"z-index\", \"10\")\n",
       "                    .style(\"visibility\", \"hidden\");\n",
       "\n",
       "       obj.elements()\n",
       "           .on(\"mouseover\", function(d, i){\n",
       "                              tooltip.html(labels[i])\n",
       "                                     .style(\"visibility\", \"visible\");})\n",
       "           .on(\"mousemove\", function(d, i){\n",
       "                  tooltip\n",
       "                    .style(\"top\", d3.event.pageY + this.props.voffset + \"px\")\n",
       "                    .style(\"left\",d3.event.pageX + this.props.hoffset + \"px\");\n",
       "                 }.bind(this))\n",
       "           .on(\"mouseout\",  function(d, i){\n",
       "                           tooltip.style(\"visibility\", \"hidden\");});\n",
       "    };\n",
       "    \n",
       "    mpld3.register_plugin(\"toptoolbar\", TopToolbar);\n",
       "    TopToolbar.prototype = Object.create(mpld3.Plugin.prototype);\n",
       "    TopToolbar.prototype.constructor = TopToolbar;\n",
       "    function TopToolbar(fig, props){\n",
       "        mpld3.Plugin.call(this, fig, props);\n",
       "    };\n",
       "\n",
       "    TopToolbar.prototype.draw = function(){\n",
       "      // the toolbar svg doesn't exist\n",
       "      // yet, so first draw it\n",
       "      this.fig.toolbar.draw();\n",
       "\n",
       "      // then change the y position to be\n",
       "      // at the top of the figure\n",
       "      this.fig.toolbar.toolbar.attr(\"x\", 150);\n",
       "      this.fig.toolbar.toolbar.attr(\"y\", 400);\n",
       "\n",
       "      // then remove the draw function,\n",
       "      // so that it is not called again\n",
       "      this.fig.toolbar.draw = function() {}\n",
       "    }\n",
       "    \n",
       "    mpld3.register_plugin(\"htmltooltip\", HtmlTooltipPlugin);\n",
       "    HtmlTooltipPlugin.prototype = Object.create(mpld3.Plugin.prototype);\n",
       "    HtmlTooltipPlugin.prototype.constructor = HtmlTooltipPlugin;\n",
       "    HtmlTooltipPlugin.prototype.requiredProps = [\"id\"];\n",
       "    HtmlTooltipPlugin.prototype.defaultProps = {labels:null,\n",
       "                                                hoffset:0,\n",
       "                                                voffset:10};\n",
       "    function HtmlTooltipPlugin(fig, props){\n",
       "        mpld3.Plugin.call(this, fig, props);\n",
       "    };\n",
       "\n",
       "    HtmlTooltipPlugin.prototype.draw = function(){\n",
       "       var obj = mpld3.get_element(this.props.id);\n",
       "       var labels = this.props.labels;\n",
       "       var tooltip = d3.select(\"body\").append(\"div\")\n",
       "                    .attr(\"class\", \"mpld3-tooltip\")\n",
       "                    .style(\"position\", \"absolute\")\n",
       "                    .style(\"z-index\", \"10\")\n",
       "                    .style(\"visibility\", \"hidden\");\n",
       "\n",
       "       obj.elements()\n",
       "           .on(\"mouseover\", function(d, i){\n",
       "                              tooltip.html(labels[i])\n",
       "                                     .style(\"visibility\", \"visible\");})\n",
       "           .on(\"mousemove\", function(d, i){\n",
       "                  tooltip\n",
       "                    .style(\"top\", d3.event.pageY + this.props.voffset + \"px\")\n",
       "                    .style(\"left\",d3.event.pageX + this.props.hoffset + \"px\");\n",
       "                 }.bind(this))\n",
       "           .on(\"mouseout\",  function(d, i){\n",
       "                           tooltip.style(\"visibility\", \"hidden\");});\n",
       "    };\n",
       "    \n",
       "    mpld3.register_plugin(\"toptoolbar\", TopToolbar);\n",
       "    TopToolbar.prototype = Object.create(mpld3.Plugin.prototype);\n",
       "    TopToolbar.prototype.constructor = TopToolbar;\n",
       "    function TopToolbar(fig, props){\n",
       "        mpld3.Plugin.call(this, fig, props);\n",
       "    };\n",
       "\n",
       "    TopToolbar.prototype.draw = function(){\n",
       "      // the toolbar svg doesn't exist\n",
       "      // yet, so first draw it\n",
       "      this.fig.toolbar.draw();\n",
       "\n",
       "      // then change the y position to be\n",
       "      // at the top of the figure\n",
       "      this.fig.toolbar.toolbar.attr(\"x\", 150);\n",
       "      this.fig.toolbar.toolbar.attr(\"y\", 400);\n",
       "\n",
       "      // then remove the draw function,\n",
       "      // so that it is not called again\n",
       "      this.fig.toolbar.draw = function() {}\n",
       "    }\n",
       "    \n",
       "    mpld3.register_plugin(\"htmltooltip\", HtmlTooltipPlugin);\n",
       "    HtmlTooltipPlugin.prototype = Object.create(mpld3.Plugin.prototype);\n",
       "    HtmlTooltipPlugin.prototype.constructor = HtmlTooltipPlugin;\n",
       "    HtmlTooltipPlugin.prototype.requiredProps = [\"id\"];\n",
       "    HtmlTooltipPlugin.prototype.defaultProps = {labels:null,\n",
       "                                                hoffset:0,\n",
       "                                                voffset:10};\n",
       "    function HtmlTooltipPlugin(fig, props){\n",
       "        mpld3.Plugin.call(this, fig, props);\n",
       "    };\n",
       "\n",
       "    HtmlTooltipPlugin.prototype.draw = function(){\n",
       "       var obj = mpld3.get_element(this.props.id);\n",
       "       var labels = this.props.labels;\n",
       "       var tooltip = d3.select(\"body\").append(\"div\")\n",
       "                    .attr(\"class\", \"mpld3-tooltip\")\n",
       "                    .style(\"position\", \"absolute\")\n",
       "                    .style(\"z-index\", \"10\")\n",
       "                    .style(\"visibility\", \"hidden\");\n",
       "\n",
       "       obj.elements()\n",
       "           .on(\"mouseover\", function(d, i){\n",
       "                              tooltip.html(labels[i])\n",
       "                                     .style(\"visibility\", \"visible\");})\n",
       "           .on(\"mousemove\", function(d, i){\n",
       "                  tooltip\n",
       "                    .style(\"top\", d3.event.pageY + this.props.voffset + \"px\")\n",
       "                    .style(\"left\",d3.event.pageX + this.props.hoffset + \"px\");\n",
       "                 }.bind(this))\n",
       "           .on(\"mouseout\",  function(d, i){\n",
       "                           tooltip.style(\"visibility\", \"hidden\");});\n",
       "    };\n",
       "    \n",
       "    mpld3.register_plugin(\"toptoolbar\", TopToolbar);\n",
       "    TopToolbar.prototype = Object.create(mpld3.Plugin.prototype);\n",
       "    TopToolbar.prototype.constructor = TopToolbar;\n",
       "    function TopToolbar(fig, props){\n",
       "        mpld3.Plugin.call(this, fig, props);\n",
       "    };\n",
       "\n",
       "    TopToolbar.prototype.draw = function(){\n",
       "      // the toolbar svg doesn't exist\n",
       "      // yet, so first draw it\n",
       "      this.fig.toolbar.draw();\n",
       "\n",
       "      // then change the y position to be\n",
       "      // at the top of the figure\n",
       "      this.fig.toolbar.toolbar.attr(\"x\", 150);\n",
       "      this.fig.toolbar.toolbar.attr(\"y\", 400);\n",
       "\n",
       "      // then remove the draw function,\n",
       "      // so that it is not called again\n",
       "      this.fig.toolbar.draw = function() {}\n",
       "    }\n",
       "    \n",
       "         mpld3.draw_figure(\"fig_el202002127224632992810559995\", {\"width\": 1008.0, \"height\": 432.0, \"axes\": [{\"bbox\": [0.125, 0.125, 0.775, 0.755], \"xlim\": [-0.8769733237553741, 0.8446162167132275], \"ylim\": [-0.897625854853919, 0.7029892870376213], \"xdomain\": [-0.8769733237553741, 0.8446162167132275], \"ydomain\": [-0.897625854853919, 0.7029892870376213], \"xscale\": \"linear\", \"yscale\": \"linear\", \"axes\": [{\"position\": \"bottom\", \"nticks\": 0, \"tickvalues\": [], \"tickformat\": \"\", \"scale\": \"linear\", \"fontsize\": null, \"grid\": {\"gridOn\": false}, \"visible\": false}, {\"position\": \"left\", \"nticks\": 0, \"tickvalues\": [], \"tickformat\": \"\", \"scale\": \"linear\", \"fontsize\": null, \"grid\": {\"gridOn\": false}, \"visible\": false}], \"axesbg\": \"#FFFFFF\", \"axesbgalpha\": null, \"zoomable\": true, \"id\": \"el202002127224254928\", \"lines\": [], \"paths\": [{\"data\": \"data07\", \"xindex\": 0, \"yindex\": 1, \"coordinates\": \"axes\", \"pathcodes\": [\"M\", \"L\", \"S\", \"L\", \"S\", \"L\", \"S\", \"L\", \"S\", \"Z\"], \"id\": \"el202002127202434632\", \"dasharray\": \"none\", \"alpha\": 0.8, \"facecolor\": \"#FFFFFF\", \"edgecolor\": \"#CCCCCC\", \"edgewidth\": 1.0, \"zorder\": 1000000.0}], \"markers\": [{\"data\": \"data01\", \"xindex\": 0, \"yindex\": 1, \"coordinates\": \"data\", \"id\": \"el202002127224635176pts\", \"facecolor\": \"#1B9E77\", \"edgecolor\": \"none\", \"edgewidth\": 1.0, \"alpha\": 1, \"zorder\": 2, \"markerpath\": [[[0.0, 9.0], [2.3868279, 9.0], [4.676218837063681, 8.051703224294176], [6.3639610306789285, 6.3639610306789285], [8.051703224294176, 4.676218837063681], [9.0, 2.3868279], [9.0, 0.0], [9.0, -2.3868279], [8.051703224294176, -4.676218837063681], [6.3639610306789285, -6.3639610306789285], [4.676218837063681, -8.051703224294176], [2.3868279, -9.0], [0.0, -9.0], [-2.3868279, -9.0], [-4.676218837063681, -8.051703224294176], [-6.3639610306789285, -6.3639610306789285], [-8.051703224294176, -4.676218837063681], [-9.0, -2.3868279], [-9.0, 0.0], [-9.0, 2.3868279], [-8.051703224294176, 4.676218837063681], [-6.3639610306789285, 6.3639610306789285], [-4.676218837063681, 8.051703224294176], [-2.3868279, 9.0], [0.0, 9.0]], [\"M\", \"C\", \"C\", \"C\", \"C\", \"C\", \"C\", \"C\", \"C\", \"Z\"]]}, {\"data\": \"data02\", \"xindex\": 0, \"yindex\": 1, \"coordinates\": \"data\", \"id\": \"el202002127224674456pts\", \"facecolor\": \"#D95F02\", \"edgecolor\": \"none\", \"edgewidth\": 1.0, \"alpha\": 1, \"zorder\": 2, \"markerpath\": [[[0.0, 9.0], [2.3868279, 9.0], [4.676218837063681, 8.051703224294176], [6.3639610306789285, 6.3639610306789285], [8.051703224294176, 4.676218837063681], [9.0, 2.3868279], [9.0, 0.0], [9.0, -2.3868279], [8.051703224294176, -4.676218837063681], [6.3639610306789285, -6.3639610306789285], [4.676218837063681, -8.051703224294176], [2.3868279, -9.0], [0.0, -9.0], [-2.3868279, -9.0], [-4.676218837063681, -8.051703224294176], [-6.3639610306789285, -6.3639610306789285], [-8.051703224294176, -4.676218837063681], [-9.0, -2.3868279], [-9.0, 0.0], [-9.0, 2.3868279], [-8.051703224294176, 4.676218837063681], [-6.3639610306789285, 6.3639610306789285], [-4.676218837063681, 8.051703224294176], [-2.3868279, 9.0], [0.0, 9.0]], [\"M\", \"C\", \"C\", \"C\", \"C\", \"C\", \"C\", \"C\", \"C\", \"Z\"]]}, {\"data\": \"data03\", \"xindex\": 0, \"yindex\": 1, \"coordinates\": \"data\", \"id\": \"el202002127202434464pts\", \"facecolor\": \"#7570B3\", \"edgecolor\": \"none\", \"edgewidth\": 1.0, \"alpha\": 1, \"zorder\": 2, \"markerpath\": [[[0.0, 9.0], [2.3868279, 9.0], [4.676218837063681, 8.051703224294176], [6.3639610306789285, 6.3639610306789285], [8.051703224294176, 4.676218837063681], [9.0, 2.3868279], [9.0, 0.0], [9.0, -2.3868279], [8.051703224294176, -4.676218837063681], [6.3639610306789285, -6.3639610306789285], [4.676218837063681, -8.051703224294176], [2.3868279, -9.0], [0.0, -9.0], [-2.3868279, -9.0], [-4.676218837063681, -8.051703224294176], [-6.3639610306789285, -6.3639610306789285], [-8.051703224294176, -4.676218837063681], [-9.0, -2.3868279], [-9.0, 0.0], [-9.0, 2.3868279], [-8.051703224294176, 4.676218837063681], [-6.3639610306789285, 6.3639610306789285], [-4.676218837063681, 8.051703224294176], [-2.3868279, 9.0], [0.0, 9.0]], [\"M\", \"C\", \"C\", \"C\", \"C\", \"C\", \"C\", \"C\", \"C\", \"Z\"]]}, {\"data\": \"data04\", \"xindex\": 0, \"yindex\": 1, \"coordinates\": \"data\", \"id\": \"el202002127223120280pts\", \"facecolor\": \"#E7298A\", \"edgecolor\": \"none\", \"edgewidth\": 1.0, \"alpha\": 1, \"zorder\": 2, \"markerpath\": [[[0.0, 9.0], [2.3868279, 9.0], [4.676218837063681, 8.051703224294176], [6.3639610306789285, 6.3639610306789285], [8.051703224294176, 4.676218837063681], [9.0, 2.3868279], [9.0, 0.0], [9.0, -2.3868279], [8.051703224294176, -4.676218837063681], [6.3639610306789285, -6.3639610306789285], [4.676218837063681, -8.051703224294176], [2.3868279, -9.0], [0.0, -9.0], [-2.3868279, -9.0], [-4.676218837063681, -8.051703224294176], [-6.3639610306789285, -6.3639610306789285], [-8.051703224294176, -4.676218837063681], [-9.0, -2.3868279], [-9.0, 0.0], [-9.0, 2.3868279], [-8.051703224294176, 4.676218837063681], [-6.3639610306789285, 6.3639610306789285], [-4.676218837063681, 8.051703224294176], [-2.3868279, 9.0], [0.0, 9.0]], [\"M\", \"C\", \"C\", \"C\", \"C\", \"C\", \"C\", \"C\", \"C\", \"Z\"]]}, {\"data\": \"data05\", \"xindex\": 0, \"yindex\": 1, \"coordinates\": \"data\", \"id\": \"el202002127223256456pts\", \"facecolor\": \"#66A61E\", \"edgecolor\": \"none\", \"edgewidth\": 1.0, \"alpha\": 1, \"zorder\": 2, \"markerpath\": [[[0.0, 9.0], [2.3868279, 9.0], [4.676218837063681, 8.051703224294176], [6.3639610306789285, 6.3639610306789285], [8.051703224294176, 4.676218837063681], [9.0, 2.3868279], [9.0, 0.0], [9.0, -2.3868279], [8.051703224294176, -4.676218837063681], [6.3639610306789285, -6.3639610306789285], [4.676218837063681, -8.051703224294176], [2.3868279, -9.0], [0.0, -9.0], [-2.3868279, -9.0], [-4.676218837063681, -8.051703224294176], [-6.3639610306789285, -6.3639610306789285], [-8.051703224294176, -4.676218837063681], [-9.0, -2.3868279], [-9.0, 0.0], [-9.0, 2.3868279], [-8.051703224294176, 4.676218837063681], [-6.3639610306789285, 6.3639610306789285], [-4.676218837063681, 8.051703224294176], [-2.3868279, 9.0], [0.0, 9.0]], [\"M\", \"C\", \"C\", \"C\", \"C\", \"C\", \"C\", \"C\", \"C\", \"Z\"]]}, {\"data\": \"data06\", \"xindex\": 0, \"yindex\": 1, \"coordinates\": \"axes\", \"id\": \"el202002127222911664pts\", \"facecolor\": \"#1B9E77\", \"edgecolor\": \"none\", \"edgewidth\": 1.0, \"alpha\": 1, \"zorder\": 1000002.0, \"markerpath\": [[[0.0, 9.0], [2.3868279, 9.0], [4.676218837063681, 8.051703224294176], [6.3639610306789285, 6.3639610306789285], [8.051703224294176, 4.676218837063681], [9.0, 2.3868279], [9.0, 0.0], [9.0, -2.3868279], [8.051703224294176, -4.676218837063681], [6.3639610306789285, -6.3639610306789285], [4.676218837063681, -8.051703224294176], [2.3868279, -9.0], [0.0, -9.0], [-2.3868279, -9.0], [-4.676218837063681, -8.051703224294176], [-6.3639610306789285, -6.3639610306789285], [-8.051703224294176, -4.676218837063681], [-9.0, -2.3868279], [-9.0, 0.0], [-9.0, 2.3868279], [-8.051703224294176, 4.676218837063681], [-6.3639610306789285, 6.3639610306789285], [-4.676218837063681, 8.051703224294176], [-2.3868279, 9.0], [0.0, 9.0]], [\"M\", \"C\", \"C\", \"C\", \"C\", \"C\", \"C\", \"C\", \"C\", \"Z\"]]}, {\"data\": \"data06\", \"xindex\": 0, \"yindex\": 2, \"coordinates\": \"axes\", \"id\": \"el202002127222859424pts\", \"facecolor\": \"#D95F02\", \"edgecolor\": \"none\", \"edgewidth\": 1.0, \"alpha\": 1, \"zorder\": 1000002.0, \"markerpath\": [[[0.0, 9.0], [2.3868279, 9.0], [4.676218837063681, 8.051703224294176], [6.3639610306789285, 6.3639610306789285], [8.051703224294176, 4.676218837063681], [9.0, 2.3868279], [9.0, 0.0], [9.0, -2.3868279], [8.051703224294176, -4.676218837063681], [6.3639610306789285, -6.3639610306789285], [4.676218837063681, -8.051703224294176], [2.3868279, -9.0], [0.0, -9.0], [-2.3868279, -9.0], [-4.676218837063681, -8.051703224294176], [-6.3639610306789285, -6.3639610306789285], [-8.051703224294176, -4.676218837063681], [-9.0, -2.3868279], [-9.0, 0.0], [-9.0, 2.3868279], [-8.051703224294176, 4.676218837063681], [-6.3639610306789285, 6.3639610306789285], [-4.676218837063681, 8.051703224294176], [-2.3868279, 9.0], [0.0, 9.0]], [\"M\", \"C\", \"C\", \"C\", \"C\", \"C\", \"C\", \"C\", \"C\", \"Z\"]]}, {\"data\": \"data06\", \"xindex\": 0, \"yindex\": 3, \"coordinates\": \"axes\", \"id\": \"el202002127222859872pts\", \"facecolor\": \"#7570B3\", \"edgecolor\": \"none\", \"edgewidth\": 1.0, \"alpha\": 1, \"zorder\": 1000002.0, \"markerpath\": [[[0.0, 9.0], [2.3868279, 9.0], [4.676218837063681, 8.051703224294176], [6.3639610306789285, 6.3639610306789285], [8.051703224294176, 4.676218837063681], [9.0, 2.3868279], [9.0, 0.0], [9.0, -2.3868279], [8.051703224294176, -4.676218837063681], [6.3639610306789285, -6.3639610306789285], [4.676218837063681, -8.051703224294176], [2.3868279, -9.0], [0.0, -9.0], [-2.3868279, -9.0], [-4.676218837063681, -8.051703224294176], [-6.3639610306789285, -6.3639610306789285], [-8.051703224294176, -4.676218837063681], [-9.0, -2.3868279], [-9.0, 0.0], [-9.0, 2.3868279], [-8.051703224294176, 4.676218837063681], [-6.3639610306789285, 6.3639610306789285], [-4.676218837063681, 8.051703224294176], [-2.3868279, 9.0], [0.0, 9.0]], [\"M\", \"C\", \"C\", \"C\", \"C\", \"C\", \"C\", \"C\", \"C\", \"Z\"]]}, {\"data\": \"data06\", \"xindex\": 0, \"yindex\": 4, \"coordinates\": \"axes\", \"id\": \"el202002127222859480pts\", \"facecolor\": \"#E7298A\", \"edgecolor\": \"none\", \"edgewidth\": 1.0, \"alpha\": 1, \"zorder\": 1000002.0, \"markerpath\": [[[0.0, 9.0], [2.3868279, 9.0], [4.676218837063681, 8.051703224294176], [6.3639610306789285, 6.3639610306789285], [8.051703224294176, 4.676218837063681], [9.0, 2.3868279], [9.0, 0.0], [9.0, -2.3868279], [8.051703224294176, -4.676218837063681], [6.3639610306789285, -6.3639610306789285], [4.676218837063681, -8.051703224294176], [2.3868279, -9.0], [0.0, -9.0], [-2.3868279, -9.0], [-4.676218837063681, -8.051703224294176], [-6.3639610306789285, -6.3639610306789285], [-8.051703224294176, -4.676218837063681], [-9.0, -2.3868279], [-9.0, 0.0], [-9.0, 2.3868279], [-8.051703224294176, 4.676218837063681], [-6.3639610306789285, 6.3639610306789285], [-4.676218837063681, 8.051703224294176], [-2.3868279, 9.0], [0.0, 9.0]], [\"M\", \"C\", \"C\", \"C\", \"C\", \"C\", \"C\", \"C\", \"C\", \"Z\"]]}, {\"data\": \"data06\", \"xindex\": 0, \"yindex\": 5, \"coordinates\": \"axes\", \"id\": \"el202002127186228112pts\", \"facecolor\": \"#66A61E\", \"edgecolor\": \"none\", \"edgewidth\": 1.0, \"alpha\": 1, \"zorder\": 1000002.0, \"markerpath\": [[[0.0, 9.0], [2.3868279, 9.0], [4.676218837063681, 8.051703224294176], [6.3639610306789285, 6.3639610306789285], [8.051703224294176, 4.676218837063681], [9.0, 2.3868279], [9.0, 0.0], [9.0, -2.3868279], [8.051703224294176, -4.676218837063681], [6.3639610306789285, -6.3639610306789285], [4.676218837063681, -8.051703224294176], [2.3868279, -9.0], [0.0, -9.0], [-2.3868279, -9.0], [-4.676218837063681, -8.051703224294176], [-6.3639610306789285, -6.3639610306789285], [-8.051703224294176, -4.676218837063681], [-9.0, -2.3868279], [-9.0, 0.0], [-9.0, 2.3868279], [-8.051703224294176, 4.676218837063681], [-6.3639610306789285, 6.3639610306789285], [-4.676218837063681, 8.051703224294176], [-2.3868279, 9.0], [0.0, 9.0]], [\"M\", \"C\", \"C\", \"C\", \"C\", \"C\", \"C\", \"C\", \"C\", \"Z\"]]}], \"texts\": [{\"text\": \"cluster1\", \"position\": [0.04736303123399899, 0.21768457198920774], \"coordinates\": \"axes\", \"h_anchor\": \"start\", \"v_baseline\": \"auto\", \"rotation\": -0.0, \"fontsize\": 10.0, \"color\": \"#000000\", \"alpha\": 1, \"zorder\": 1000003.0, \"id\": \"el202002127222911384\"}, {\"text\": \"cluster2\", \"position\": [0.04736303123399899, 0.17169487368162864], \"coordinates\": \"axes\", \"h_anchor\": \"start\", \"v_baseline\": \"auto\", \"rotation\": -0.0, \"fontsize\": 10.0, \"color\": \"#000000\", \"alpha\": 1, \"zorder\": 1000003.0, \"id\": \"el202002127222914744\"}, {\"text\": \"cluster3\", \"position\": [0.04736303123399899, 0.12570517537404954], \"coordinates\": \"axes\", \"h_anchor\": \"start\", \"v_baseline\": \"auto\", \"rotation\": -0.0, \"fontsize\": 10.0, \"color\": \"#000000\", \"alpha\": 1, \"zorder\": 1000003.0, \"id\": \"el202002127222860376\"}, {\"text\": \"cluster4\", \"position\": [0.04736303123399899, 0.07971547706647045], \"coordinates\": \"axes\", \"h_anchor\": \"start\", \"v_baseline\": \"auto\", \"rotation\": -0.0, \"fontsize\": 10.0, \"color\": \"#000000\", \"alpha\": 1, \"zorder\": 1000003.0, \"id\": \"el202002127222861216\"}, {\"text\": \"cluster5\", \"position\": [0.04736303123399899, 0.03372577875889135], \"coordinates\": \"axes\", \"h_anchor\": \"start\", \"v_baseline\": \"auto\", \"rotation\": -0.0, \"fontsize\": 10.0, \"color\": \"#000000\", \"alpha\": 1, \"zorder\": 1000003.0, \"id\": \"el202002127186229288\"}], \"collections\": [], \"images\": [], \"sharex\": [], \"sharey\": []}], \"data\": {\"data01\": [[-0.4503663480451138, 0.2891604179709615], [-0.18865166158655028, 0.46223113167937635], [-0.18865166158655028, 0.46223113167937635], [-0.1886516615865502, 0.46223113167937624], [-0.014311793808632317, 0.6176355221999209], [-0.014311793808632282, 0.6176355221999208], [-0.1886516615865502, 0.46223113167937624], [-0.18865166158654983, 0.46223113167937663], [-0.014311793808632324, 0.6176355221999211], [-0.014311793808632324, 0.6176355221999211], [-0.18865166158654983, 0.4622311316793765], [-0.450366348045114, 0.2891604179709615], [-0.44947173730719986, 0.2894037760896513], [-0.18865166158654992, 0.46223113167937646], [-0.1886516615865502, 0.4622311316793762], [-0.014311793808632279, 0.6176355221999208], [-0.014311793808632317, 0.6176355221999212], [-0.01431179380863232, 0.6176355221999212], [-0.18865166158654992, 0.46223113167937635], [-0.014311793808632279, 0.6176355221999209], [0.11801416501244671, 0.3779168017116807], [-0.450366348045114, 0.2891604179709618], [-0.014311793808632286, 0.6176355221999209], [-0.014311793808632298, 0.6176355221999211], [-0.1886516615865501, 0.46223113167937663], [-0.450366348045114, 0.2891604179709616], [-0.01431179380863232, 0.6176355221999211], [-0.449471737307595, 0.28940377608966883], [-0.014311793808632286, 0.6176355221999211], [-0.014311793808632277, 0.6176355221999211], [-0.014311793808632286, 0.6176355221999212], [-0.014311793808632286, 0.6176355221999212], [-0.014311793808632286, 0.6176355221999211]], \"data02\": [[-0.11179909734119428, -0.5683513492590087], [-0.7034777702290625, 0.4571321935700938], [-0.7432998571912363, 0.3769344678772638], [-0.7942727502233394, 0.2284333005518299], [0.14806597702319574, 0.22928613188575125], [0.7958919844358142, 0.35514075750787116], [-0.11179909734119454, -0.5683513492590085], [0.14806597702319574, 0.22928613188575153], [-0.07210408877484664, 0.20677791233204684], [-0.07210408877484667, 0.20677791233204684], [-0.11179909734119459, -0.5683513492590084], [-0.11179909734119421, -0.5683513492590085], [-0.11179909734119421, -0.5683513492590083], [-0.07210408877484667, 0.20677791233204684], [-0.11179909734119424, -0.5683513492590087], [-0.07210408877484653, 0.2067779123320467], [-0.07210408877484654, 0.2067779123320468], [0.08335848475324716, -0.4999454660119626], [0.1804747540573458, -0.8285458491585581], [-0.8123790008219149, 0.1573749131167425], [0.07964814275084313, -0.8439365932215578], [-0.03785057178080281, -0.8523254263098188], [-0.07210408877484656, 0.20677791233204673], [-0.8282490914779608, 0.0836323813146997], [-0.26046362781400323, -0.4776312552550925], [-0.7723279716981885, 0.30079586207805453], [-0.11179909734119421, -0.5683513492590081], [-0.07210408877484659, 0.20677791233204687], [0.549755634382782, 0.6576888584935211], [-0.6507392802242289, 0.5393143263146514], [0.6419977736513661, 0.5689111225742763]], \"data03\": [[0.5178288265620347, -0.39017855187624895], [0.5178288265620347, -0.39017855187624895], [0.5178288265620344, -0.39017855187624956], [0.5178288265620344, -0.3901785518762496], [0.5178288265620347, -0.39017855187624895], [0.5178288265620344, -0.3901785518762495], [0.5178288265620344, -0.3901785518762496], [0.2154911658673927, -0.4684466171483016], [0.5178288265620344, -0.39017855187624945], [0.5178288265620347, -0.39017855187624906], [0.29688901816961505, -0.21732388625685722], [0.5178288265620347, -0.3901785518762495], [0.21549116586739256, -0.4684466171483017], [0.21549116586739256, -0.4684466171483017], [0.29688901816961494, -0.21732388625685736], [0.2968890181696149, -0.21732388625685756], [0.29688901816961494, -0.21732388625685736], [0.21549116586739261, -0.4684466171483017], [0.21549116586739236, -0.4684466171483015], [0.2968890181696148, -0.21732388625685747], [0.2968890181696148, -0.21732388625685747], [0.21549116586739256, -0.4684466171483017], [0.5178288265620351, -0.3901785518762496], [0.517828826562035, -0.3901785518762496], [0.5178288265620351, -0.3901785518762496], [0.517828826562035, -0.39017855187624945], [0.517828826562035, -0.3901785518762496], [0.29688901816961477, -0.21732388625685747]], \"data04\": [[-0.4942619857921802, -0.08159236887460217], [-0.5704078902574724, -0.33475691560383153], [-0.49426198579218017, -0.08159236887460222], [-0.3505565542264379, -0.4297396277879645], [-0.35055655422643794, -0.4297396277879644], [-0.350556554226438, -0.4297396277879644], [-0.3505565542264379, -0.42973962778796465], [-0.24420368420499552, -0.04047156618155197], [-0.570407890257473, -0.33475691560383175], [-0.5704078902574736, -0.3347569156038316], [-0.3505565542264379, -0.4297396277879646], [-0.5704078902574735, -0.3347569156038316], [-0.5704078902574728, -0.33475691560383175], [-0.2182729701879877, -0.16847461664708974], [-0.570407890257473, -0.3347569156038318], [-0.5704078902574735, -0.33475691560383153], [-0.49426198579218006, -0.08159236887460214], [-0.49426198579218017, -0.08159236887460218], [-0.5704078902574732, -0.33475691560383164], [-0.35055655422643783, -0.4297396277879644], [-0.5704078902574732, -0.33475691560383164], [-0.49426198579217995, -0.08159236887460218], [-0.35055655422643783, -0.4297396277879645], [-0.3505565542264378, -0.4297396277879644], [-0.3505565542264379, -0.4297396277879646], [-0.35055655422643783, -0.4297396277879643], [-0.21827297018798925, -0.16847461664708954], [-0.5704078902574735, -0.33475691560383153], [-0.5704078902574737, -0.33475691560383153], [-0.21827297018798925, -0.16847461664708957], [-0.49426198579217995, -0.08159236887460217], [-0.5704078902574736, -0.33475691560383153], [-0.5704078902574737, -0.33475691560383153]], \"data05\": [[0.5654575019332616, 0.2509517764631414], [0.5654575019332866, 0.2509517764630974], [0.5654575019332647, 0.25095177646313505], [0.31981822116717934, 0.21451894653902828], [0.5654575019332618, 0.25095177646314093], [0.5654575019332615, 0.25095177646314126], [0.5529052709758581, -0.0777216672767098], [0.26115600235523073, 0.44268448235308333], [0.2611560023552308, 0.4426844823530836], [0.2611560023552308, 0.4426844823530836], [0.37906171462367283, -0.030917175359891035], [0.26115600235523084, 0.44268448235308316], [0.2611560023552308, 0.4426844823530833], [0.26115600235523073, 0.4426844823530837], [0.5654575019332854, 0.2509517764630984], [0.5607286262926203, 0.05201301677869673], [0.26115600235523084, 0.4426844823530836], [0.5529052709758583, -0.0777216672767098], [0.5529052709758585, -0.07772166727670987], [0.5654575019332646, 0.25095177646313527], [0.5529052709758585, -0.07772166727670987], [0.5654575019332614, 0.2509517764631411], [0.5654575019332614, 0.2509517764631411], [0.5529052709758584, -0.07772166727670984], [0.5529052709758585, -0.07772166727670983], [0.5529052709758587, -0.07772166727670984], [0.5607286262926199, 0.05201301677869673]], \"data06\": [[0.024321556579621102, 0.22841550159430954, 0.18242580328673044, 0.13643610497915135, 0.09044640667157224, 0.04445670836399314]], \"data07\": [[0.00896057347670251, 0.015329899435859717], [0.10176651305683562, 0.015329899435859717], [0.10432667690732209, 0.015329899435859717], [0.10432667690732209, 0.021461859210203577], [0.10432667690732209, 0.24834437086092717], [0.10432667690732209, 0.254476330635271], [0.10176651305683562, 0.254476330635271], [0.00896057347670251, 0.254476330635271], [0.006400409626216075, 0.254476330635271], [0.006400409626216075, 0.24834437086092717], [0.006400409626216075, 0.021461859210203577], [0.006400409626216075, 0.015329899435859717], [0.00896057347670251, 0.015329899435859717]]}, \"id\": \"el202002127224632992\", \"plugins\": [{\"type\": \"reset\"}, {\"type\": \"zoom\", \"button\": true, \"enabled\": false}, {\"type\": \"boxzoom\", \"button\": true, \"enabled\": false}, {\"type\": \"htmltooltip\", \"id\": \"el202002127224635176pts\", \"labels\": [\"8 Bill is either in the school or the office.\\n\", \"11 Julie is either in the school or the office.\\n\", \"13 Julie is either in the park or the school.\\n\", \"4 Julie is either in the school or the office.\\n\", \"5 Julie moved to the cinema.\\n\", \"6 Is Julie in the cinema? \\tyes\\t5\\n\", \"8 Julie journeyed to the school.\\n\", \"9 Is Julie in the school? \\tyes\\t8\\n\", \"13 Julie journeyed to the park.\\n\", \"15 Is Julie in the park? \\tyes\\t13\\n\", \"2 Julie is either in the school or the cinema.\\n\", \"5 Bill is in the school.\\n\", \"12 Is Bill in the school? \\tyes\\t5\\n\", \"14 Julie is in the school.\\n\", \"15 Is Julie in the school? \\tyes\\t14\\n\", \"2 Julie travelled to the park.\\n\", \"7 Julie moved to the office.\\n\", \"1 Julie journeyed to the cinema.\\n\", \"3 Is Julie in the school? \\tno\\t1\\n\", \"10 Julie is either in the cinema or the park.\\n\", \"14 Julie is either in the bedroom or the school.\\n\", \"6 Is Bill in the school? \\tno\\t5\\n\", \"7 Julie travelled to the park.\\n\", \"8 Julie is in the office.\\n\", \"12 Is Julie in the school? \\tno\\t8\\n\", \"14 Bill is in the school.\\n\", \"1 Julie moved to the cinema.\\n\", \"14 Bill went to the school.\\n\", \"10 Julie went to the office.\\n\", \"11 Julie moved to the cinema.\\n\", \"1 Julie went back to the cinema.\\n\", \"3 Is Julie in the cinema? \\tyes\\t1\\n\", \"6 Is Julie in the park? \\tno\\t5\\n\"], \"hoffset\": 10, \"voffset\": 10}, {\"type\": \"toptoolbar\"}, {\"type\": \"htmltooltip\", \"id\": \"el202002127224674456pts\", \"labels\": [\"2 Bill is in the kitchen.\\n\", \"9 Is Bill in the park? \\tno\\t8\\n\", \"14 Bill went back to the office.\\n\", \"15 Is Bill in the office? \\tyes\\t14\\n\", \"7 Julie is either in the kitchen or the bedroom.\\n\", \"12 Is Bill in the office? \\tno\\t11\\n\", \"1 Bill is in the kitchen.\\n\", \"13 Julie is either in the kitchen or the bedroom.\\n\", \"3 Is Julie in the kitchen? \\tno\\t2\\n\", \"9 Is Julie in the kitchen? \\tno\\t7\\n\", \"10 Bill is in the kitchen.\\n\", \"1 Bill went to the kitchen.\\n\", \"7 Bill is either in the office or the kitchen.\\n\", \"8 Julie is either in the kitchen or the park.\\n\", \"13 Bill went back to the kitchen.\\n\", \"4 Julie moved to the kitchen.\\n\", \"6 Is Julie in the kitchen? \\tyes\\t4\\n\", \"8 Fred is either in the kitchen or the kitchen.\\n\", \"11 Bill is either in the office or the office.\\n\", \"13 Bill is either in the park or the park.\\n\", \"5 Bill went to the cinema.\\n\", \"9 Is Bill in the cinema? \\tyes\\t5\\n\", \"10 Julie journeyed to the kitchen.\\n\", \"\\n\", \"8 Mary is either in the kitchen or the kitchen.\\n\", \"13 Bill went back to the office.\\n\", \"2 Bill travelled to the kitchen.\\n\", \"5 Julie went back to the kitchen.\\n\", \"8 Bill went back to the park.\\n\", \"\\n\", \"\\n\"], \"hoffset\": 10, \"voffset\": 10}, {\"type\": \"toptoolbar\"}, {\"type\": \"htmltooltip\", \"id\": \"el202002127202434464pts\", \"labels\": [\"5 Fred travelled to the cinema.\\n\", \"7 Fred went back to the park.\\n\", \"12 Is Fred in the park? \\tyes\\t7\\n\", \"1 Fred journeyed to the office.\\n\", \"2 Fred went back to the cinema.\\n\", \"3 Is Fred in the office? \\tno\\t2\\n\", \"8 Fred is in the park.\\n\", \"4 Fred is either in the office or the kitchen.\\n\", \"2 Fred is either in the office or the park.\\n\", \"3 Is Fred in the park? \\tmaybe\\t2\\n\", \"6 Is Fred in the school? \\tno\\t4\\n\", \"15 Is Fred in the cinema? \\tno\\t8\\n\", \"1 Fred is in the kitchen.\\n\", \"3 Is Fred in the kitchen? \\tyes\\t1\\n\", \"4 Fred is in the school.\\n\", \"15 Is Fred in the school? \\tno\\t10\\n\", \"1 Fred went to the school.\\n\", \"2 Fred travelled to the kitchen.\\n\", \"3 Is Fred in the kitchen? \\tyes\\t2\\n\", \"4 Fred went back to the school.\\n\", \"6 Is Fred in the school? \\tno\\t5\\n\", \"14 Fred is in the kitchen.\\n\", \"11 Fred is either in the park or the office.\\n\", \"12 Is Fred in the office? \\tmaybe\\t11\\n\", \"13 Fred is in the park.\\n\", \"15 Is Fred in the park? \\tyes\\t13\\n\", \"1 Fred is in the office.\\n\", \"7 Fred went back to the school.\\n\"], \"hoffset\": 10, \"voffset\": 10}, {\"type\": \"toptoolbar\"}, {\"type\": \"htmltooltip\", \"id\": \"el202002127223120280pts\", \"labels\": [\"1 Mary is in the school.\\n\", \"10 Mary went to the cinema.\\n\", \"14 Mary travelled to the school.\\n\", \"11 Mary went to the kitchen.\\n\", \"8 Mary is either in the office or the kitchen.\\n\", \"12 Is Mary in the kitchen? \\tmaybe\\t8\\n\", \"15 Is Mary in the kitchen? \\tmaybe\\t8\\n\", \"5 Mary is either in the school or the bedroom.\\n\", \"10 Mary is in the park.\\n\", \"11 Mary went back to the office.\\n\", \"12 Is Mary in the kitchen? \\tno\\t11\\n\", \"15 Is Mary in the office? \\tyes\\t11\\n\", \"5 Mary travelled to the park.\\n\", \"7 Mary is in the bedroom.\\n\", \"9 Is Mary in the office? \\tno\\t7\\n\", \"12 Is Mary in the office? \\tno\\t7\\n\", \"15 Is Mary in the school? \\tmaybe\\t11\\n\", \"11 Mary journeyed to the school.\\n\", \"12 Is Mary in the park? \\tno\\t11\\n\", \"13 Mary is either in the kitchen or the office.\\n\", \"7 Mary is in the office.\\n\", \"9 Is Mary in the school? \\tno\\t8\\n\", \"12 Is Mary in the kitchen? \\tmaybe\\t8\\n\", \"15 Is Mary in the kitchen? \\tmaybe\\t8\\n\", \"7 Mary is in the kitchen.\\n\", \"9 Is Mary in the kitchen? \\tyes\\t7\\n\", \"10 Mary is in the bedroom.\\n\", \"14 Mary is either in the cinema or the cinema.\\n\", \"2 Mary is in the park.\\n\", \"3 Is Mary in the bedroom? \\tno\\t2\\n\", \"5 Mary is either in the office or the school.\\n\", \"6 Is Mary in the office? \\tmaybe\\t5\\n\", \"9 Is Mary in the office? \\tmaybe\\t5\\n\"], \"hoffset\": 10, \"voffset\": 10}, {\"type\": \"toptoolbar\"}, {\"type\": \"htmltooltip\", \"id\": \"el202002127223256456pts\", \"labels\": [\"3 Is Bill in the bedroom? \\tno\\t2\\n\", \"4 Bill journeyed to the bedroom.\\n\", \"6 Is Bill in the bedroom? \\tyes\\t4\\n\", \"10 Bill is either in the bedroom or the school.\\n\", \"11 Bill went to the bedroom.\\n\", \"3 Is Bill in the bedroom? \\tno\\t1\\n\", \"4 Fred is in the bedroom.\\n\", \"6 Is Julie in the bedroom? \\tno\\t2\\n\", \"7 Julie is either in the bedroom or the office.\\n\", \"9 Is Julie in the bedroom? \\tmaybe\\t7\\n\", \"10 Fred is either in the school or the bedroom.\\n\", \"1 Julie journeyed to the bedroom.\\n\", \"5 Julie travelled to the bedroom.\\n\", \"6 Is Julie in the bedroom? \\tyes\\t5\\n\", \"11 Bill is either in the bedroom or the park.\\n\", \"13 Fred is either in the bedroom or the bedroom.\\n\", \"14 Julie went to the bedroom.\\n\", \"4 Fred went to the bedroom.\\n\", \"9 Is Fred in the bedroom? \\tyes\\t4\\n\", \"14 Bill journeyed to the bedroom.\\n\", \"2 Fred is in the bedroom.\\n\", \"2 Bill moved to the bedroom.\\n\", \"13 Bill is either in the park or the bedroom.\\n\", \"5 Fred moved to the bedroom.\\n\", \"4 Fred moved to the bedroom.\\n\", \"4 Fred went back to the bedroom.\\n\", \"8 Fred is either in the bedroom or the bedroom.\\n\"], \"hoffset\": 10, \"voffset\": 10}, {\"type\": \"toptoolbar\"}]});\n",
       "      });\n",
       "    });\n",
       "}else{\n",
       "    // require.js not available: dynamically load d3 & mpld3\n",
       "    mpld3_load_lib(\"https://mpld3.github.io/js/d3.v3.min.js\", function(){\n",
       "         mpld3_load_lib(\"https://mpld3.github.io/js/mpld3.v0.3.js\", function(){\n",
       "                 \n",
       "    mpld3.register_plugin(\"htmltooltip\", HtmlTooltipPlugin);\n",
       "    HtmlTooltipPlugin.prototype = Object.create(mpld3.Plugin.prototype);\n",
       "    HtmlTooltipPlugin.prototype.constructor = HtmlTooltipPlugin;\n",
       "    HtmlTooltipPlugin.prototype.requiredProps = [\"id\"];\n",
       "    HtmlTooltipPlugin.prototype.defaultProps = {labels:null,\n",
       "                                                hoffset:0,\n",
       "                                                voffset:10};\n",
       "    function HtmlTooltipPlugin(fig, props){\n",
       "        mpld3.Plugin.call(this, fig, props);\n",
       "    };\n",
       "\n",
       "    HtmlTooltipPlugin.prototype.draw = function(){\n",
       "       var obj = mpld3.get_element(this.props.id);\n",
       "       var labels = this.props.labels;\n",
       "       var tooltip = d3.select(\"body\").append(\"div\")\n",
       "                    .attr(\"class\", \"mpld3-tooltip\")\n",
       "                    .style(\"position\", \"absolute\")\n",
       "                    .style(\"z-index\", \"10\")\n",
       "                    .style(\"visibility\", \"hidden\");\n",
       "\n",
       "       obj.elements()\n",
       "           .on(\"mouseover\", function(d, i){\n",
       "                              tooltip.html(labels[i])\n",
       "                                     .style(\"visibility\", \"visible\");})\n",
       "           .on(\"mousemove\", function(d, i){\n",
       "                  tooltip\n",
       "                    .style(\"top\", d3.event.pageY + this.props.voffset + \"px\")\n",
       "                    .style(\"left\",d3.event.pageX + this.props.hoffset + \"px\");\n",
       "                 }.bind(this))\n",
       "           .on(\"mouseout\",  function(d, i){\n",
       "                           tooltip.style(\"visibility\", \"hidden\");});\n",
       "    };\n",
       "    \n",
       "    mpld3.register_plugin(\"toptoolbar\", TopToolbar);\n",
       "    TopToolbar.prototype = Object.create(mpld3.Plugin.prototype);\n",
       "    TopToolbar.prototype.constructor = TopToolbar;\n",
       "    function TopToolbar(fig, props){\n",
       "        mpld3.Plugin.call(this, fig, props);\n",
       "    };\n",
       "\n",
       "    TopToolbar.prototype.draw = function(){\n",
       "      // the toolbar svg doesn't exist\n",
       "      // yet, so first draw it\n",
       "      this.fig.toolbar.draw();\n",
       "\n",
       "      // then change the y position to be\n",
       "      // at the top of the figure\n",
       "      this.fig.toolbar.toolbar.attr(\"x\", 150);\n",
       "      this.fig.toolbar.toolbar.attr(\"y\", 400);\n",
       "\n",
       "      // then remove the draw function,\n",
       "      // so that it is not called again\n",
       "      this.fig.toolbar.draw = function() {}\n",
       "    }\n",
       "    \n",
       "    mpld3.register_plugin(\"htmltooltip\", HtmlTooltipPlugin);\n",
       "    HtmlTooltipPlugin.prototype = Object.create(mpld3.Plugin.prototype);\n",
       "    HtmlTooltipPlugin.prototype.constructor = HtmlTooltipPlugin;\n",
       "    HtmlTooltipPlugin.prototype.requiredProps = [\"id\"];\n",
       "    HtmlTooltipPlugin.prototype.defaultProps = {labels:null,\n",
       "                                                hoffset:0,\n",
       "                                                voffset:10};\n",
       "    function HtmlTooltipPlugin(fig, props){\n",
       "        mpld3.Plugin.call(this, fig, props);\n",
       "    };\n",
       "\n",
       "    HtmlTooltipPlugin.prototype.draw = function(){\n",
       "       var obj = mpld3.get_element(this.props.id);\n",
       "       var labels = this.props.labels;\n",
       "       var tooltip = d3.select(\"body\").append(\"div\")\n",
       "                    .attr(\"class\", \"mpld3-tooltip\")\n",
       "                    .style(\"position\", \"absolute\")\n",
       "                    .style(\"z-index\", \"10\")\n",
       "                    .style(\"visibility\", \"hidden\");\n",
       "\n",
       "       obj.elements()\n",
       "           .on(\"mouseover\", function(d, i){\n",
       "                              tooltip.html(labels[i])\n",
       "                                     .style(\"visibility\", \"visible\");})\n",
       "           .on(\"mousemove\", function(d, i){\n",
       "                  tooltip\n",
       "                    .style(\"top\", d3.event.pageY + this.props.voffset + \"px\")\n",
       "                    .style(\"left\",d3.event.pageX + this.props.hoffset + \"px\");\n",
       "                 }.bind(this))\n",
       "           .on(\"mouseout\",  function(d, i){\n",
       "                           tooltip.style(\"visibility\", \"hidden\");});\n",
       "    };\n",
       "    \n",
       "    mpld3.register_plugin(\"toptoolbar\", TopToolbar);\n",
       "    TopToolbar.prototype = Object.create(mpld3.Plugin.prototype);\n",
       "    TopToolbar.prototype.constructor = TopToolbar;\n",
       "    function TopToolbar(fig, props){\n",
       "        mpld3.Plugin.call(this, fig, props);\n",
       "    };\n",
       "\n",
       "    TopToolbar.prototype.draw = function(){\n",
       "      // the toolbar svg doesn't exist\n",
       "      // yet, so first draw it\n",
       "      this.fig.toolbar.draw();\n",
       "\n",
       "      // then change the y position to be\n",
       "      // at the top of the figure\n",
       "      this.fig.toolbar.toolbar.attr(\"x\", 150);\n",
       "      this.fig.toolbar.toolbar.attr(\"y\", 400);\n",
       "\n",
       "      // then remove the draw function,\n",
       "      // so that it is not called again\n",
       "      this.fig.toolbar.draw = function() {}\n",
       "    }\n",
       "    \n",
       "    mpld3.register_plugin(\"htmltooltip\", HtmlTooltipPlugin);\n",
       "    HtmlTooltipPlugin.prototype = Object.create(mpld3.Plugin.prototype);\n",
       "    HtmlTooltipPlugin.prototype.constructor = HtmlTooltipPlugin;\n",
       "    HtmlTooltipPlugin.prototype.requiredProps = [\"id\"];\n",
       "    HtmlTooltipPlugin.prototype.defaultProps = {labels:null,\n",
       "                                                hoffset:0,\n",
       "                                                voffset:10};\n",
       "    function HtmlTooltipPlugin(fig, props){\n",
       "        mpld3.Plugin.call(this, fig, props);\n",
       "    };\n",
       "\n",
       "    HtmlTooltipPlugin.prototype.draw = function(){\n",
       "       var obj = mpld3.get_element(this.props.id);\n",
       "       var labels = this.props.labels;\n",
       "       var tooltip = d3.select(\"body\").append(\"div\")\n",
       "                    .attr(\"class\", \"mpld3-tooltip\")\n",
       "                    .style(\"position\", \"absolute\")\n",
       "                    .style(\"z-index\", \"10\")\n",
       "                    .style(\"visibility\", \"hidden\");\n",
       "\n",
       "       obj.elements()\n",
       "           .on(\"mouseover\", function(d, i){\n",
       "                              tooltip.html(labels[i])\n",
       "                                     .style(\"visibility\", \"visible\");})\n",
       "           .on(\"mousemove\", function(d, i){\n",
       "                  tooltip\n",
       "                    .style(\"top\", d3.event.pageY + this.props.voffset + \"px\")\n",
       "                    .style(\"left\",d3.event.pageX + this.props.hoffset + \"px\");\n",
       "                 }.bind(this))\n",
       "           .on(\"mouseout\",  function(d, i){\n",
       "                           tooltip.style(\"visibility\", \"hidden\");});\n",
       "    };\n",
       "    \n",
       "    mpld3.register_plugin(\"toptoolbar\", TopToolbar);\n",
       "    TopToolbar.prototype = Object.create(mpld3.Plugin.prototype);\n",
       "    TopToolbar.prototype.constructor = TopToolbar;\n",
       "    function TopToolbar(fig, props){\n",
       "        mpld3.Plugin.call(this, fig, props);\n",
       "    };\n",
       "\n",
       "    TopToolbar.prototype.draw = function(){\n",
       "      // the toolbar svg doesn't exist\n",
       "      // yet, so first draw it\n",
       "      this.fig.toolbar.draw();\n",
       "\n",
       "      // then change the y position to be\n",
       "      // at the top of the figure\n",
       "      this.fig.toolbar.toolbar.attr(\"x\", 150);\n",
       "      this.fig.toolbar.toolbar.attr(\"y\", 400);\n",
       "\n",
       "      // then remove the draw function,\n",
       "      // so that it is not called again\n",
       "      this.fig.toolbar.draw = function() {}\n",
       "    }\n",
       "    \n",
       "    mpld3.register_plugin(\"htmltooltip\", HtmlTooltipPlugin);\n",
       "    HtmlTooltipPlugin.prototype = Object.create(mpld3.Plugin.prototype);\n",
       "    HtmlTooltipPlugin.prototype.constructor = HtmlTooltipPlugin;\n",
       "    HtmlTooltipPlugin.prototype.requiredProps = [\"id\"];\n",
       "    HtmlTooltipPlugin.prototype.defaultProps = {labels:null,\n",
       "                                                hoffset:0,\n",
       "                                                voffset:10};\n",
       "    function HtmlTooltipPlugin(fig, props){\n",
       "        mpld3.Plugin.call(this, fig, props);\n",
       "    };\n",
       "\n",
       "    HtmlTooltipPlugin.prototype.draw = function(){\n",
       "       var obj = mpld3.get_element(this.props.id);\n",
       "       var labels = this.props.labels;\n",
       "       var tooltip = d3.select(\"body\").append(\"div\")\n",
       "                    .attr(\"class\", \"mpld3-tooltip\")\n",
       "                    .style(\"position\", \"absolute\")\n",
       "                    .style(\"z-index\", \"10\")\n",
       "                    .style(\"visibility\", \"hidden\");\n",
       "\n",
       "       obj.elements()\n",
       "           .on(\"mouseover\", function(d, i){\n",
       "                              tooltip.html(labels[i])\n",
       "                                     .style(\"visibility\", \"visible\");})\n",
       "           .on(\"mousemove\", function(d, i){\n",
       "                  tooltip\n",
       "                    .style(\"top\", d3.event.pageY + this.props.voffset + \"px\")\n",
       "                    .style(\"left\",d3.event.pageX + this.props.hoffset + \"px\");\n",
       "                 }.bind(this))\n",
       "           .on(\"mouseout\",  function(d, i){\n",
       "                           tooltip.style(\"visibility\", \"hidden\");});\n",
       "    };\n",
       "    \n",
       "    mpld3.register_plugin(\"toptoolbar\", TopToolbar);\n",
       "    TopToolbar.prototype = Object.create(mpld3.Plugin.prototype);\n",
       "    TopToolbar.prototype.constructor = TopToolbar;\n",
       "    function TopToolbar(fig, props){\n",
       "        mpld3.Plugin.call(this, fig, props);\n",
       "    };\n",
       "\n",
       "    TopToolbar.prototype.draw = function(){\n",
       "      // the toolbar svg doesn't exist\n",
       "      // yet, so first draw it\n",
       "      this.fig.toolbar.draw();\n",
       "\n",
       "      // then change the y position to be\n",
       "      // at the top of the figure\n",
       "      this.fig.toolbar.toolbar.attr(\"x\", 150);\n",
       "      this.fig.toolbar.toolbar.attr(\"y\", 400);\n",
       "\n",
       "      // then remove the draw function,\n",
       "      // so that it is not called again\n",
       "      this.fig.toolbar.draw = function() {}\n",
       "    }\n",
       "    \n",
       "    mpld3.register_plugin(\"htmltooltip\", HtmlTooltipPlugin);\n",
       "    HtmlTooltipPlugin.prototype = Object.create(mpld3.Plugin.prototype);\n",
       "    HtmlTooltipPlugin.prototype.constructor = HtmlTooltipPlugin;\n",
       "    HtmlTooltipPlugin.prototype.requiredProps = [\"id\"];\n",
       "    HtmlTooltipPlugin.prototype.defaultProps = {labels:null,\n",
       "                                                hoffset:0,\n",
       "                                                voffset:10};\n",
       "    function HtmlTooltipPlugin(fig, props){\n",
       "        mpld3.Plugin.call(this, fig, props);\n",
       "    };\n",
       "\n",
       "    HtmlTooltipPlugin.prototype.draw = function(){\n",
       "       var obj = mpld3.get_element(this.props.id);\n",
       "       var labels = this.props.labels;\n",
       "       var tooltip = d3.select(\"body\").append(\"div\")\n",
       "                    .attr(\"class\", \"mpld3-tooltip\")\n",
       "                    .style(\"position\", \"absolute\")\n",
       "                    .style(\"z-index\", \"10\")\n",
       "                    .style(\"visibility\", \"hidden\");\n",
       "\n",
       "       obj.elements()\n",
       "           .on(\"mouseover\", function(d, i){\n",
       "                              tooltip.html(labels[i])\n",
       "                                     .style(\"visibility\", \"visible\");})\n",
       "           .on(\"mousemove\", function(d, i){\n",
       "                  tooltip\n",
       "                    .style(\"top\", d3.event.pageY + this.props.voffset + \"px\")\n",
       "                    .style(\"left\",d3.event.pageX + this.props.hoffset + \"px\");\n",
       "                 }.bind(this))\n",
       "           .on(\"mouseout\",  function(d, i){\n",
       "                           tooltip.style(\"visibility\", \"hidden\");});\n",
       "    };\n",
       "    \n",
       "    mpld3.register_plugin(\"toptoolbar\", TopToolbar);\n",
       "    TopToolbar.prototype = Object.create(mpld3.Plugin.prototype);\n",
       "    TopToolbar.prototype.constructor = TopToolbar;\n",
       "    function TopToolbar(fig, props){\n",
       "        mpld3.Plugin.call(this, fig, props);\n",
       "    };\n",
       "\n",
       "    TopToolbar.prototype.draw = function(){\n",
       "      // the toolbar svg doesn't exist\n",
       "      // yet, so first draw it\n",
       "      this.fig.toolbar.draw();\n",
       "\n",
       "      // then change the y position to be\n",
       "      // at the top of the figure\n",
       "      this.fig.toolbar.toolbar.attr(\"x\", 150);\n",
       "      this.fig.toolbar.toolbar.attr(\"y\", 400);\n",
       "\n",
       "      // then remove the draw function,\n",
       "      // so that it is not called again\n",
       "      this.fig.toolbar.draw = function() {}\n",
       "    }\n",
       "    \n",
       "                 mpld3.draw_figure(\"fig_el202002127224632992810559995\", {\"width\": 1008.0, \"height\": 432.0, \"axes\": [{\"bbox\": [0.125, 0.125, 0.775, 0.755], \"xlim\": [-0.8769733237553741, 0.8446162167132275], \"ylim\": [-0.897625854853919, 0.7029892870376213], \"xdomain\": [-0.8769733237553741, 0.8446162167132275], \"ydomain\": [-0.897625854853919, 0.7029892870376213], \"xscale\": \"linear\", \"yscale\": \"linear\", \"axes\": [{\"position\": \"bottom\", \"nticks\": 0, \"tickvalues\": [], \"tickformat\": \"\", \"scale\": \"linear\", \"fontsize\": null, \"grid\": {\"gridOn\": false}, \"visible\": false}, {\"position\": \"left\", \"nticks\": 0, \"tickvalues\": [], \"tickformat\": \"\", \"scale\": \"linear\", \"fontsize\": null, \"grid\": {\"gridOn\": false}, \"visible\": false}], \"axesbg\": \"#FFFFFF\", \"axesbgalpha\": null, \"zoomable\": true, \"id\": \"el202002127224254928\", \"lines\": [], \"paths\": [{\"data\": \"data07\", \"xindex\": 0, \"yindex\": 1, \"coordinates\": \"axes\", \"pathcodes\": [\"M\", \"L\", \"S\", \"L\", \"S\", \"L\", \"S\", \"L\", \"S\", \"Z\"], \"id\": \"el202002127202434632\", \"dasharray\": \"none\", \"alpha\": 0.8, \"facecolor\": \"#FFFFFF\", \"edgecolor\": \"#CCCCCC\", \"edgewidth\": 1.0, \"zorder\": 1000000.0}], \"markers\": [{\"data\": \"data01\", \"xindex\": 0, \"yindex\": 1, \"coordinates\": \"data\", \"id\": \"el202002127224635176pts\", \"facecolor\": \"#1B9E77\", \"edgecolor\": \"none\", \"edgewidth\": 1.0, \"alpha\": 1, \"zorder\": 2, \"markerpath\": [[[0.0, 9.0], [2.3868279, 9.0], [4.676218837063681, 8.051703224294176], [6.3639610306789285, 6.3639610306789285], [8.051703224294176, 4.676218837063681], [9.0, 2.3868279], [9.0, 0.0], [9.0, -2.3868279], [8.051703224294176, -4.676218837063681], [6.3639610306789285, -6.3639610306789285], [4.676218837063681, -8.051703224294176], [2.3868279, -9.0], [0.0, -9.0], [-2.3868279, -9.0], [-4.676218837063681, -8.051703224294176], [-6.3639610306789285, -6.3639610306789285], [-8.051703224294176, -4.676218837063681], [-9.0, -2.3868279], [-9.0, 0.0], [-9.0, 2.3868279], [-8.051703224294176, 4.676218837063681], [-6.3639610306789285, 6.3639610306789285], [-4.676218837063681, 8.051703224294176], [-2.3868279, 9.0], [0.0, 9.0]], [\"M\", \"C\", \"C\", \"C\", \"C\", \"C\", \"C\", \"C\", \"C\", \"Z\"]]}, {\"data\": \"data02\", \"xindex\": 0, \"yindex\": 1, \"coordinates\": \"data\", \"id\": \"el202002127224674456pts\", \"facecolor\": \"#D95F02\", \"edgecolor\": \"none\", \"edgewidth\": 1.0, \"alpha\": 1, \"zorder\": 2, \"markerpath\": [[[0.0, 9.0], [2.3868279, 9.0], [4.676218837063681, 8.051703224294176], [6.3639610306789285, 6.3639610306789285], [8.051703224294176, 4.676218837063681], [9.0, 2.3868279], [9.0, 0.0], [9.0, -2.3868279], [8.051703224294176, -4.676218837063681], [6.3639610306789285, -6.3639610306789285], [4.676218837063681, -8.051703224294176], [2.3868279, -9.0], [0.0, -9.0], [-2.3868279, -9.0], [-4.676218837063681, -8.051703224294176], [-6.3639610306789285, -6.3639610306789285], [-8.051703224294176, -4.676218837063681], [-9.0, -2.3868279], [-9.0, 0.0], [-9.0, 2.3868279], [-8.051703224294176, 4.676218837063681], [-6.3639610306789285, 6.3639610306789285], [-4.676218837063681, 8.051703224294176], [-2.3868279, 9.0], [0.0, 9.0]], [\"M\", \"C\", \"C\", \"C\", \"C\", \"C\", \"C\", \"C\", \"C\", \"Z\"]]}, {\"data\": \"data03\", \"xindex\": 0, \"yindex\": 1, \"coordinates\": \"data\", \"id\": \"el202002127202434464pts\", \"facecolor\": \"#7570B3\", \"edgecolor\": \"none\", \"edgewidth\": 1.0, \"alpha\": 1, \"zorder\": 2, \"markerpath\": [[[0.0, 9.0], [2.3868279, 9.0], [4.676218837063681, 8.051703224294176], [6.3639610306789285, 6.3639610306789285], [8.051703224294176, 4.676218837063681], [9.0, 2.3868279], [9.0, 0.0], [9.0, -2.3868279], [8.051703224294176, -4.676218837063681], [6.3639610306789285, -6.3639610306789285], [4.676218837063681, -8.051703224294176], [2.3868279, -9.0], [0.0, -9.0], [-2.3868279, -9.0], [-4.676218837063681, -8.051703224294176], [-6.3639610306789285, -6.3639610306789285], [-8.051703224294176, -4.676218837063681], [-9.0, -2.3868279], [-9.0, 0.0], [-9.0, 2.3868279], [-8.051703224294176, 4.676218837063681], [-6.3639610306789285, 6.3639610306789285], [-4.676218837063681, 8.051703224294176], [-2.3868279, 9.0], [0.0, 9.0]], [\"M\", \"C\", \"C\", \"C\", \"C\", \"C\", \"C\", \"C\", \"C\", \"Z\"]]}, {\"data\": \"data04\", \"xindex\": 0, \"yindex\": 1, \"coordinates\": \"data\", \"id\": \"el202002127223120280pts\", \"facecolor\": \"#E7298A\", \"edgecolor\": \"none\", \"edgewidth\": 1.0, \"alpha\": 1, \"zorder\": 2, \"markerpath\": [[[0.0, 9.0], [2.3868279, 9.0], [4.676218837063681, 8.051703224294176], [6.3639610306789285, 6.3639610306789285], [8.051703224294176, 4.676218837063681], [9.0, 2.3868279], [9.0, 0.0], [9.0, -2.3868279], [8.051703224294176, -4.676218837063681], [6.3639610306789285, -6.3639610306789285], [4.676218837063681, -8.051703224294176], [2.3868279, -9.0], [0.0, -9.0], [-2.3868279, -9.0], [-4.676218837063681, -8.051703224294176], [-6.3639610306789285, -6.3639610306789285], [-8.051703224294176, -4.676218837063681], [-9.0, -2.3868279], [-9.0, 0.0], [-9.0, 2.3868279], [-8.051703224294176, 4.676218837063681], [-6.3639610306789285, 6.3639610306789285], [-4.676218837063681, 8.051703224294176], [-2.3868279, 9.0], [0.0, 9.0]], [\"M\", \"C\", \"C\", \"C\", \"C\", \"C\", \"C\", \"C\", \"C\", \"Z\"]]}, {\"data\": \"data05\", \"xindex\": 0, \"yindex\": 1, \"coordinates\": \"data\", \"id\": \"el202002127223256456pts\", \"facecolor\": \"#66A61E\", \"edgecolor\": \"none\", \"edgewidth\": 1.0, \"alpha\": 1, \"zorder\": 2, \"markerpath\": [[[0.0, 9.0], [2.3868279, 9.0], [4.676218837063681, 8.051703224294176], [6.3639610306789285, 6.3639610306789285], [8.051703224294176, 4.676218837063681], [9.0, 2.3868279], [9.0, 0.0], [9.0, -2.3868279], [8.051703224294176, -4.676218837063681], [6.3639610306789285, -6.3639610306789285], [4.676218837063681, -8.051703224294176], [2.3868279, -9.0], [0.0, -9.0], [-2.3868279, -9.0], [-4.676218837063681, -8.051703224294176], [-6.3639610306789285, -6.3639610306789285], [-8.051703224294176, -4.676218837063681], [-9.0, -2.3868279], [-9.0, 0.0], [-9.0, 2.3868279], [-8.051703224294176, 4.676218837063681], [-6.3639610306789285, 6.3639610306789285], [-4.676218837063681, 8.051703224294176], [-2.3868279, 9.0], [0.0, 9.0]], [\"M\", \"C\", \"C\", \"C\", \"C\", \"C\", \"C\", \"C\", \"C\", \"Z\"]]}, {\"data\": \"data06\", \"xindex\": 0, \"yindex\": 1, \"coordinates\": \"axes\", \"id\": \"el202002127222911664pts\", \"facecolor\": \"#1B9E77\", \"edgecolor\": \"none\", \"edgewidth\": 1.0, \"alpha\": 1, \"zorder\": 1000002.0, \"markerpath\": [[[0.0, 9.0], [2.3868279, 9.0], [4.676218837063681, 8.051703224294176], [6.3639610306789285, 6.3639610306789285], [8.051703224294176, 4.676218837063681], [9.0, 2.3868279], [9.0, 0.0], [9.0, -2.3868279], [8.051703224294176, -4.676218837063681], [6.3639610306789285, -6.3639610306789285], [4.676218837063681, -8.051703224294176], [2.3868279, -9.0], [0.0, -9.0], [-2.3868279, -9.0], [-4.676218837063681, -8.051703224294176], [-6.3639610306789285, -6.3639610306789285], [-8.051703224294176, -4.676218837063681], [-9.0, -2.3868279], [-9.0, 0.0], [-9.0, 2.3868279], [-8.051703224294176, 4.676218837063681], [-6.3639610306789285, 6.3639610306789285], [-4.676218837063681, 8.051703224294176], [-2.3868279, 9.0], [0.0, 9.0]], [\"M\", \"C\", \"C\", \"C\", \"C\", \"C\", \"C\", \"C\", \"C\", \"Z\"]]}, {\"data\": \"data06\", \"xindex\": 0, \"yindex\": 2, \"coordinates\": \"axes\", \"id\": \"el202002127222859424pts\", \"facecolor\": \"#D95F02\", \"edgecolor\": \"none\", \"edgewidth\": 1.0, \"alpha\": 1, \"zorder\": 1000002.0, \"markerpath\": [[[0.0, 9.0], [2.3868279, 9.0], [4.676218837063681, 8.051703224294176], [6.3639610306789285, 6.3639610306789285], [8.051703224294176, 4.676218837063681], [9.0, 2.3868279], [9.0, 0.0], [9.0, -2.3868279], [8.051703224294176, -4.676218837063681], [6.3639610306789285, -6.3639610306789285], [4.676218837063681, -8.051703224294176], [2.3868279, -9.0], [0.0, -9.0], [-2.3868279, -9.0], [-4.676218837063681, -8.051703224294176], [-6.3639610306789285, -6.3639610306789285], [-8.051703224294176, -4.676218837063681], [-9.0, -2.3868279], [-9.0, 0.0], [-9.0, 2.3868279], [-8.051703224294176, 4.676218837063681], [-6.3639610306789285, 6.3639610306789285], [-4.676218837063681, 8.051703224294176], [-2.3868279, 9.0], [0.0, 9.0]], [\"M\", \"C\", \"C\", \"C\", \"C\", \"C\", \"C\", \"C\", \"C\", \"Z\"]]}, {\"data\": \"data06\", \"xindex\": 0, \"yindex\": 3, \"coordinates\": \"axes\", \"id\": \"el202002127222859872pts\", \"facecolor\": \"#7570B3\", \"edgecolor\": \"none\", \"edgewidth\": 1.0, \"alpha\": 1, \"zorder\": 1000002.0, \"markerpath\": [[[0.0, 9.0], [2.3868279, 9.0], [4.676218837063681, 8.051703224294176], [6.3639610306789285, 6.3639610306789285], [8.051703224294176, 4.676218837063681], [9.0, 2.3868279], [9.0, 0.0], [9.0, -2.3868279], [8.051703224294176, -4.676218837063681], [6.3639610306789285, -6.3639610306789285], [4.676218837063681, -8.051703224294176], [2.3868279, -9.0], [0.0, -9.0], [-2.3868279, -9.0], [-4.676218837063681, -8.051703224294176], [-6.3639610306789285, -6.3639610306789285], [-8.051703224294176, -4.676218837063681], [-9.0, -2.3868279], [-9.0, 0.0], [-9.0, 2.3868279], [-8.051703224294176, 4.676218837063681], [-6.3639610306789285, 6.3639610306789285], [-4.676218837063681, 8.051703224294176], [-2.3868279, 9.0], [0.0, 9.0]], [\"M\", \"C\", \"C\", \"C\", \"C\", \"C\", \"C\", \"C\", \"C\", \"Z\"]]}, {\"data\": \"data06\", \"xindex\": 0, \"yindex\": 4, \"coordinates\": \"axes\", \"id\": \"el202002127222859480pts\", \"facecolor\": \"#E7298A\", \"edgecolor\": \"none\", \"edgewidth\": 1.0, \"alpha\": 1, \"zorder\": 1000002.0, \"markerpath\": [[[0.0, 9.0], [2.3868279, 9.0], [4.676218837063681, 8.051703224294176], [6.3639610306789285, 6.3639610306789285], [8.051703224294176, 4.676218837063681], [9.0, 2.3868279], [9.0, 0.0], [9.0, -2.3868279], [8.051703224294176, -4.676218837063681], [6.3639610306789285, -6.3639610306789285], [4.676218837063681, -8.051703224294176], [2.3868279, -9.0], [0.0, -9.0], [-2.3868279, -9.0], [-4.676218837063681, -8.051703224294176], [-6.3639610306789285, -6.3639610306789285], [-8.051703224294176, -4.676218837063681], [-9.0, -2.3868279], [-9.0, 0.0], [-9.0, 2.3868279], [-8.051703224294176, 4.676218837063681], [-6.3639610306789285, 6.3639610306789285], [-4.676218837063681, 8.051703224294176], [-2.3868279, 9.0], [0.0, 9.0]], [\"M\", \"C\", \"C\", \"C\", \"C\", \"C\", \"C\", \"C\", \"C\", \"Z\"]]}, {\"data\": \"data06\", \"xindex\": 0, \"yindex\": 5, \"coordinates\": \"axes\", \"id\": \"el202002127186228112pts\", \"facecolor\": \"#66A61E\", \"edgecolor\": \"none\", \"edgewidth\": 1.0, \"alpha\": 1, \"zorder\": 1000002.0, \"markerpath\": [[[0.0, 9.0], [2.3868279, 9.0], [4.676218837063681, 8.051703224294176], [6.3639610306789285, 6.3639610306789285], [8.051703224294176, 4.676218837063681], [9.0, 2.3868279], [9.0, 0.0], [9.0, -2.3868279], [8.051703224294176, -4.676218837063681], [6.3639610306789285, -6.3639610306789285], [4.676218837063681, -8.051703224294176], [2.3868279, -9.0], [0.0, -9.0], [-2.3868279, -9.0], [-4.676218837063681, -8.051703224294176], [-6.3639610306789285, -6.3639610306789285], [-8.051703224294176, -4.676218837063681], [-9.0, -2.3868279], [-9.0, 0.0], [-9.0, 2.3868279], [-8.051703224294176, 4.676218837063681], [-6.3639610306789285, 6.3639610306789285], [-4.676218837063681, 8.051703224294176], [-2.3868279, 9.0], [0.0, 9.0]], [\"M\", \"C\", \"C\", \"C\", \"C\", \"C\", \"C\", \"C\", \"C\", \"Z\"]]}], \"texts\": [{\"text\": \"cluster1\", \"position\": [0.04736303123399899, 0.21768457198920774], \"coordinates\": \"axes\", \"h_anchor\": \"start\", \"v_baseline\": \"auto\", \"rotation\": -0.0, \"fontsize\": 10.0, \"color\": \"#000000\", \"alpha\": 1, \"zorder\": 1000003.0, \"id\": \"el202002127222911384\"}, {\"text\": \"cluster2\", \"position\": [0.04736303123399899, 0.17169487368162864], \"coordinates\": \"axes\", \"h_anchor\": \"start\", \"v_baseline\": \"auto\", \"rotation\": -0.0, \"fontsize\": 10.0, \"color\": \"#000000\", \"alpha\": 1, \"zorder\": 1000003.0, \"id\": \"el202002127222914744\"}, {\"text\": \"cluster3\", \"position\": [0.04736303123399899, 0.12570517537404954], \"coordinates\": \"axes\", \"h_anchor\": \"start\", \"v_baseline\": \"auto\", \"rotation\": -0.0, \"fontsize\": 10.0, \"color\": \"#000000\", \"alpha\": 1, \"zorder\": 1000003.0, \"id\": \"el202002127222860376\"}, {\"text\": \"cluster4\", \"position\": [0.04736303123399899, 0.07971547706647045], \"coordinates\": \"axes\", \"h_anchor\": \"start\", \"v_baseline\": \"auto\", \"rotation\": -0.0, \"fontsize\": 10.0, \"color\": \"#000000\", \"alpha\": 1, \"zorder\": 1000003.0, \"id\": \"el202002127222861216\"}, {\"text\": \"cluster5\", \"position\": [0.04736303123399899, 0.03372577875889135], \"coordinates\": \"axes\", \"h_anchor\": \"start\", \"v_baseline\": \"auto\", \"rotation\": -0.0, \"fontsize\": 10.0, \"color\": \"#000000\", \"alpha\": 1, \"zorder\": 1000003.0, \"id\": \"el202002127186229288\"}], \"collections\": [], \"images\": [], \"sharex\": [], \"sharey\": []}], \"data\": {\"data01\": [[-0.4503663480451138, 0.2891604179709615], [-0.18865166158655028, 0.46223113167937635], [-0.18865166158655028, 0.46223113167937635], [-0.1886516615865502, 0.46223113167937624], [-0.014311793808632317, 0.6176355221999209], [-0.014311793808632282, 0.6176355221999208], [-0.1886516615865502, 0.46223113167937624], [-0.18865166158654983, 0.46223113167937663], [-0.014311793808632324, 0.6176355221999211], [-0.014311793808632324, 0.6176355221999211], [-0.18865166158654983, 0.4622311316793765], [-0.450366348045114, 0.2891604179709615], [-0.44947173730719986, 0.2894037760896513], [-0.18865166158654992, 0.46223113167937646], [-0.1886516615865502, 0.4622311316793762], [-0.014311793808632279, 0.6176355221999208], [-0.014311793808632317, 0.6176355221999212], [-0.01431179380863232, 0.6176355221999212], [-0.18865166158654992, 0.46223113167937635], [-0.014311793808632279, 0.6176355221999209], [0.11801416501244671, 0.3779168017116807], [-0.450366348045114, 0.2891604179709618], [-0.014311793808632286, 0.6176355221999209], [-0.014311793808632298, 0.6176355221999211], [-0.1886516615865501, 0.46223113167937663], [-0.450366348045114, 0.2891604179709616], [-0.01431179380863232, 0.6176355221999211], [-0.449471737307595, 0.28940377608966883], [-0.014311793808632286, 0.6176355221999211], [-0.014311793808632277, 0.6176355221999211], [-0.014311793808632286, 0.6176355221999212], [-0.014311793808632286, 0.6176355221999212], [-0.014311793808632286, 0.6176355221999211]], \"data02\": [[-0.11179909734119428, -0.5683513492590087], [-0.7034777702290625, 0.4571321935700938], [-0.7432998571912363, 0.3769344678772638], [-0.7942727502233394, 0.2284333005518299], [0.14806597702319574, 0.22928613188575125], [0.7958919844358142, 0.35514075750787116], [-0.11179909734119454, -0.5683513492590085], [0.14806597702319574, 0.22928613188575153], [-0.07210408877484664, 0.20677791233204684], [-0.07210408877484667, 0.20677791233204684], [-0.11179909734119459, -0.5683513492590084], [-0.11179909734119421, -0.5683513492590085], [-0.11179909734119421, -0.5683513492590083], [-0.07210408877484667, 0.20677791233204684], [-0.11179909734119424, -0.5683513492590087], [-0.07210408877484653, 0.2067779123320467], [-0.07210408877484654, 0.2067779123320468], [0.08335848475324716, -0.4999454660119626], [0.1804747540573458, -0.8285458491585581], [-0.8123790008219149, 0.1573749131167425], [0.07964814275084313, -0.8439365932215578], [-0.03785057178080281, -0.8523254263098188], [-0.07210408877484656, 0.20677791233204673], [-0.8282490914779608, 0.0836323813146997], [-0.26046362781400323, -0.4776312552550925], [-0.7723279716981885, 0.30079586207805453], [-0.11179909734119421, -0.5683513492590081], [-0.07210408877484659, 0.20677791233204687], [0.549755634382782, 0.6576888584935211], [-0.6507392802242289, 0.5393143263146514], [0.6419977736513661, 0.5689111225742763]], \"data03\": [[0.5178288265620347, -0.39017855187624895], [0.5178288265620347, -0.39017855187624895], [0.5178288265620344, -0.39017855187624956], [0.5178288265620344, -0.3901785518762496], [0.5178288265620347, -0.39017855187624895], [0.5178288265620344, -0.3901785518762495], [0.5178288265620344, -0.3901785518762496], [0.2154911658673927, -0.4684466171483016], [0.5178288265620344, -0.39017855187624945], [0.5178288265620347, -0.39017855187624906], [0.29688901816961505, -0.21732388625685722], [0.5178288265620347, -0.3901785518762495], [0.21549116586739256, -0.4684466171483017], [0.21549116586739256, -0.4684466171483017], [0.29688901816961494, -0.21732388625685736], [0.2968890181696149, -0.21732388625685756], [0.29688901816961494, -0.21732388625685736], [0.21549116586739261, -0.4684466171483017], [0.21549116586739236, -0.4684466171483015], [0.2968890181696148, -0.21732388625685747], [0.2968890181696148, -0.21732388625685747], [0.21549116586739256, -0.4684466171483017], [0.5178288265620351, -0.3901785518762496], [0.517828826562035, -0.3901785518762496], [0.5178288265620351, -0.3901785518762496], [0.517828826562035, -0.39017855187624945], [0.517828826562035, -0.3901785518762496], [0.29688901816961477, -0.21732388625685747]], \"data04\": [[-0.4942619857921802, -0.08159236887460217], [-0.5704078902574724, -0.33475691560383153], [-0.49426198579218017, -0.08159236887460222], [-0.3505565542264379, -0.4297396277879645], [-0.35055655422643794, -0.4297396277879644], [-0.350556554226438, -0.4297396277879644], [-0.3505565542264379, -0.42973962778796465], [-0.24420368420499552, -0.04047156618155197], [-0.570407890257473, -0.33475691560383175], [-0.5704078902574736, -0.3347569156038316], [-0.3505565542264379, -0.4297396277879646], [-0.5704078902574735, -0.3347569156038316], [-0.5704078902574728, -0.33475691560383175], [-0.2182729701879877, -0.16847461664708974], [-0.570407890257473, -0.3347569156038318], [-0.5704078902574735, -0.33475691560383153], [-0.49426198579218006, -0.08159236887460214], [-0.49426198579218017, -0.08159236887460218], [-0.5704078902574732, -0.33475691560383164], [-0.35055655422643783, -0.4297396277879644], [-0.5704078902574732, -0.33475691560383164], [-0.49426198579217995, -0.08159236887460218], [-0.35055655422643783, -0.4297396277879645], [-0.3505565542264378, -0.4297396277879644], [-0.3505565542264379, -0.4297396277879646], [-0.35055655422643783, -0.4297396277879643], [-0.21827297018798925, -0.16847461664708954], [-0.5704078902574735, -0.33475691560383153], [-0.5704078902574737, -0.33475691560383153], [-0.21827297018798925, -0.16847461664708957], [-0.49426198579217995, -0.08159236887460217], [-0.5704078902574736, -0.33475691560383153], [-0.5704078902574737, -0.33475691560383153]], \"data05\": [[0.5654575019332616, 0.2509517764631414], [0.5654575019332866, 0.2509517764630974], [0.5654575019332647, 0.25095177646313505], [0.31981822116717934, 0.21451894653902828], [0.5654575019332618, 0.25095177646314093], [0.5654575019332615, 0.25095177646314126], [0.5529052709758581, -0.0777216672767098], [0.26115600235523073, 0.44268448235308333], [0.2611560023552308, 0.4426844823530836], [0.2611560023552308, 0.4426844823530836], [0.37906171462367283, -0.030917175359891035], [0.26115600235523084, 0.44268448235308316], [0.2611560023552308, 0.4426844823530833], [0.26115600235523073, 0.4426844823530837], [0.5654575019332854, 0.2509517764630984], [0.5607286262926203, 0.05201301677869673], [0.26115600235523084, 0.4426844823530836], [0.5529052709758583, -0.0777216672767098], [0.5529052709758585, -0.07772166727670987], [0.5654575019332646, 0.25095177646313527], [0.5529052709758585, -0.07772166727670987], [0.5654575019332614, 0.2509517764631411], [0.5654575019332614, 0.2509517764631411], [0.5529052709758584, -0.07772166727670984], [0.5529052709758585, -0.07772166727670983], [0.5529052709758587, -0.07772166727670984], [0.5607286262926199, 0.05201301677869673]], \"data06\": [[0.024321556579621102, 0.22841550159430954, 0.18242580328673044, 0.13643610497915135, 0.09044640667157224, 0.04445670836399314]], \"data07\": [[0.00896057347670251, 0.015329899435859717], [0.10176651305683562, 0.015329899435859717], [0.10432667690732209, 0.015329899435859717], [0.10432667690732209, 0.021461859210203577], [0.10432667690732209, 0.24834437086092717], [0.10432667690732209, 0.254476330635271], [0.10176651305683562, 0.254476330635271], [0.00896057347670251, 0.254476330635271], [0.006400409626216075, 0.254476330635271], [0.006400409626216075, 0.24834437086092717], [0.006400409626216075, 0.021461859210203577], [0.006400409626216075, 0.015329899435859717], [0.00896057347670251, 0.015329899435859717]]}, \"id\": \"el202002127224632992\", \"plugins\": [{\"type\": \"reset\"}, {\"type\": \"zoom\", \"button\": true, \"enabled\": false}, {\"type\": \"boxzoom\", \"button\": true, \"enabled\": false}, {\"type\": \"htmltooltip\", \"id\": \"el202002127224635176pts\", \"labels\": [\"8 Bill is either in the school or the office.\\n\", \"11 Julie is either in the school or the office.\\n\", \"13 Julie is either in the park or the school.\\n\", \"4 Julie is either in the school or the office.\\n\", \"5 Julie moved to the cinema.\\n\", \"6 Is Julie in the cinema? \\tyes\\t5\\n\", \"8 Julie journeyed to the school.\\n\", \"9 Is Julie in the school? \\tyes\\t8\\n\", \"13 Julie journeyed to the park.\\n\", \"15 Is Julie in the park? \\tyes\\t13\\n\", \"2 Julie is either in the school or the cinema.\\n\", \"5 Bill is in the school.\\n\", \"12 Is Bill in the school? \\tyes\\t5\\n\", \"14 Julie is in the school.\\n\", \"15 Is Julie in the school? \\tyes\\t14\\n\", \"2 Julie travelled to the park.\\n\", \"7 Julie moved to the office.\\n\", \"1 Julie journeyed to the cinema.\\n\", \"3 Is Julie in the school? \\tno\\t1\\n\", \"10 Julie is either in the cinema or the park.\\n\", \"14 Julie is either in the bedroom or the school.\\n\", \"6 Is Bill in the school? \\tno\\t5\\n\", \"7 Julie travelled to the park.\\n\", \"8 Julie is in the office.\\n\", \"12 Is Julie in the school? \\tno\\t8\\n\", \"14 Bill is in the school.\\n\", \"1 Julie moved to the cinema.\\n\", \"14 Bill went to the school.\\n\", \"10 Julie went to the office.\\n\", \"11 Julie moved to the cinema.\\n\", \"1 Julie went back to the cinema.\\n\", \"3 Is Julie in the cinema? \\tyes\\t1\\n\", \"6 Is Julie in the park? \\tno\\t5\\n\"], \"hoffset\": 10, \"voffset\": 10}, {\"type\": \"toptoolbar\"}, {\"type\": \"htmltooltip\", \"id\": \"el202002127224674456pts\", \"labels\": [\"2 Bill is in the kitchen.\\n\", \"9 Is Bill in the park? \\tno\\t8\\n\", \"14 Bill went back to the office.\\n\", \"15 Is Bill in the office? \\tyes\\t14\\n\", \"7 Julie is either in the kitchen or the bedroom.\\n\", \"12 Is Bill in the office? \\tno\\t11\\n\", \"1 Bill is in the kitchen.\\n\", \"13 Julie is either in the kitchen or the bedroom.\\n\", \"3 Is Julie in the kitchen? \\tno\\t2\\n\", \"9 Is Julie in the kitchen? \\tno\\t7\\n\", \"10 Bill is in the kitchen.\\n\", \"1 Bill went to the kitchen.\\n\", \"7 Bill is either in the office or the kitchen.\\n\", \"8 Julie is either in the kitchen or the park.\\n\", \"13 Bill went back to the kitchen.\\n\", \"4 Julie moved to the kitchen.\\n\", \"6 Is Julie in the kitchen? \\tyes\\t4\\n\", \"8 Fred is either in the kitchen or the kitchen.\\n\", \"11 Bill is either in the office or the office.\\n\", \"13 Bill is either in the park or the park.\\n\", \"5 Bill went to the cinema.\\n\", \"9 Is Bill in the cinema? \\tyes\\t5\\n\", \"10 Julie journeyed to the kitchen.\\n\", \"\\n\", \"8 Mary is either in the kitchen or the kitchen.\\n\", \"13 Bill went back to the office.\\n\", \"2 Bill travelled to the kitchen.\\n\", \"5 Julie went back to the kitchen.\\n\", \"8 Bill went back to the park.\\n\", \"\\n\", \"\\n\"], \"hoffset\": 10, \"voffset\": 10}, {\"type\": \"toptoolbar\"}, {\"type\": \"htmltooltip\", \"id\": \"el202002127202434464pts\", \"labels\": [\"5 Fred travelled to the cinema.\\n\", \"7 Fred went back to the park.\\n\", \"12 Is Fred in the park? \\tyes\\t7\\n\", \"1 Fred journeyed to the office.\\n\", \"2 Fred went back to the cinema.\\n\", \"3 Is Fred in the office? \\tno\\t2\\n\", \"8 Fred is in the park.\\n\", \"4 Fred is either in the office or the kitchen.\\n\", \"2 Fred is either in the office or the park.\\n\", \"3 Is Fred in the park? \\tmaybe\\t2\\n\", \"6 Is Fred in the school? \\tno\\t4\\n\", \"15 Is Fred in the cinema? \\tno\\t8\\n\", \"1 Fred is in the kitchen.\\n\", \"3 Is Fred in the kitchen? \\tyes\\t1\\n\", \"4 Fred is in the school.\\n\", \"15 Is Fred in the school? \\tno\\t10\\n\", \"1 Fred went to the school.\\n\", \"2 Fred travelled to the kitchen.\\n\", \"3 Is Fred in the kitchen? \\tyes\\t2\\n\", \"4 Fred went back to the school.\\n\", \"6 Is Fred in the school? \\tno\\t5\\n\", \"14 Fred is in the kitchen.\\n\", \"11 Fred is either in the park or the office.\\n\", \"12 Is Fred in the office? \\tmaybe\\t11\\n\", \"13 Fred is in the park.\\n\", \"15 Is Fred in the park? \\tyes\\t13\\n\", \"1 Fred is in the office.\\n\", \"7 Fred went back to the school.\\n\"], \"hoffset\": 10, \"voffset\": 10}, {\"type\": \"toptoolbar\"}, {\"type\": \"htmltooltip\", \"id\": \"el202002127223120280pts\", \"labels\": [\"1 Mary is in the school.\\n\", \"10 Mary went to the cinema.\\n\", \"14 Mary travelled to the school.\\n\", \"11 Mary went to the kitchen.\\n\", \"8 Mary is either in the office or the kitchen.\\n\", \"12 Is Mary in the kitchen? \\tmaybe\\t8\\n\", \"15 Is Mary in the kitchen? \\tmaybe\\t8\\n\", \"5 Mary is either in the school or the bedroom.\\n\", \"10 Mary is in the park.\\n\", \"11 Mary went back to the office.\\n\", \"12 Is Mary in the kitchen? \\tno\\t11\\n\", \"15 Is Mary in the office? \\tyes\\t11\\n\", \"5 Mary travelled to the park.\\n\", \"7 Mary is in the bedroom.\\n\", \"9 Is Mary in the office? \\tno\\t7\\n\", \"12 Is Mary in the office? \\tno\\t7\\n\", \"15 Is Mary in the school? \\tmaybe\\t11\\n\", \"11 Mary journeyed to the school.\\n\", \"12 Is Mary in the park? \\tno\\t11\\n\", \"13 Mary is either in the kitchen or the office.\\n\", \"7 Mary is in the office.\\n\", \"9 Is Mary in the school? \\tno\\t8\\n\", \"12 Is Mary in the kitchen? \\tmaybe\\t8\\n\", \"15 Is Mary in the kitchen? \\tmaybe\\t8\\n\", \"7 Mary is in the kitchen.\\n\", \"9 Is Mary in the kitchen? \\tyes\\t7\\n\", \"10 Mary is in the bedroom.\\n\", \"14 Mary is either in the cinema or the cinema.\\n\", \"2 Mary is in the park.\\n\", \"3 Is Mary in the bedroom? \\tno\\t2\\n\", \"5 Mary is either in the office or the school.\\n\", \"6 Is Mary in the office? \\tmaybe\\t5\\n\", \"9 Is Mary in the office? \\tmaybe\\t5\\n\"], \"hoffset\": 10, \"voffset\": 10}, {\"type\": \"toptoolbar\"}, {\"type\": \"htmltooltip\", \"id\": \"el202002127223256456pts\", \"labels\": [\"3 Is Bill in the bedroom? \\tno\\t2\\n\", \"4 Bill journeyed to the bedroom.\\n\", \"6 Is Bill in the bedroom? \\tyes\\t4\\n\", \"10 Bill is either in the bedroom or the school.\\n\", \"11 Bill went to the bedroom.\\n\", \"3 Is Bill in the bedroom? \\tno\\t1\\n\", \"4 Fred is in the bedroom.\\n\", \"6 Is Julie in the bedroom? \\tno\\t2\\n\", \"7 Julie is either in the bedroom or the office.\\n\", \"9 Is Julie in the bedroom? \\tmaybe\\t7\\n\", \"10 Fred is either in the school or the bedroom.\\n\", \"1 Julie journeyed to the bedroom.\\n\", \"5 Julie travelled to the bedroom.\\n\", \"6 Is Julie in the bedroom? \\tyes\\t5\\n\", \"11 Bill is either in the bedroom or the park.\\n\", \"13 Fred is either in the bedroom or the bedroom.\\n\", \"14 Julie went to the bedroom.\\n\", \"4 Fred went to the bedroom.\\n\", \"9 Is Fred in the bedroom? \\tyes\\t4\\n\", \"14 Bill journeyed to the bedroom.\\n\", \"2 Fred is in the bedroom.\\n\", \"2 Bill moved to the bedroom.\\n\", \"13 Bill is either in the park or the bedroom.\\n\", \"5 Fred moved to the bedroom.\\n\", \"4 Fred moved to the bedroom.\\n\", \"4 Fred went back to the bedroom.\\n\", \"8 Fred is either in the bedroom or the bedroom.\\n\"], \"hoffset\": 10, \"voffset\": 10}, {\"type\": \"toptoolbar\"}]});\n",
       "            })\n",
       "         });\n",
       "}\n",
       "</script>"
      ],
      "text/plain": [
       "<IPython.core.display.HTML object>"
      ]
     },
     "execution_count": 39,
     "metadata": {},
     "output_type": "execute_result"
    }
   ],
   "source": [
    "#create data frame that has the result of the MDS plus the cluster numbers and titles\n",
    "df = pd.DataFrame(dict(x=xs, y=ys, label=clusters, title=lines)) \n",
    "\n",
    "#group by cluster\n",
    "groups = df.groupby('label')\n",
    "\n",
    "#define custom css to format the font and to remove the axis labeling\n",
    "css = \"\"\"\n",
    "text.mpld3-text, div.mpld3-tooltip {\n",
    "  font-family:Arial, Helvetica, sans-serif;\n",
    "}\n",
    "\n",
    "g.mpld3-xaxis, g.mpld3-yaxis {\n",
    "display: none; }\n",
    "\n",
    "svg.mpld3-figure {\n",
    "margin-left: -200px;}\n",
    "\"\"\"\n",
    "\n",
    "# Plot \n",
    "fig, ax = plt.subplots(figsize=(14,6)) #set plot size\n",
    "ax.margins(0.03) # Optional, just adds 5% padding to the autoscaling\n",
    "\n",
    "#iterate through groups to layer the plot\n",
    "#note that I use the cluster_name and cluster_color dicts with the 'name' lookup to return the appropriate color/label\n",
    "for name, group in groups:\n",
    "    points = ax.plot(group.x, group.y, marker='o', linestyle='', ms=18, \n",
    "                     label=cluster_names[name], mec='none', \n",
    "                     color=cluster_colors[name])\n",
    "    ax.set_aspect('auto')\n",
    "    labels = [i for i in group.title]\n",
    "    \n",
    "    #set tooltip using points, labels and the already defined 'css'\n",
    "    tooltip = mpld3.plugins.PointHTMLTooltip(points[0], labels,\n",
    "                                       voffset=10, hoffset=10, css=css)\n",
    "    #connect tooltip to fig\n",
    "    mpld3.plugins.connect(fig, tooltip, TopToolbar())    \n",
    "    \n",
    "    #set tick marks as blank\n",
    "    ax.axes.get_xaxis().set_ticks([])\n",
    "    ax.axes.get_yaxis().set_ticks([])\n",
    "    \n",
    "    #set axis as blank\n",
    "    ax.axes.get_xaxis().set_visible(False)\n",
    "    ax.axes.get_yaxis().set_visible(False)\n",
    "\n",
    "    \n",
    "ax.legend(numpoints=1) #show legend with only one dot\n",
    "\n",
    "mpld3.display() #show the plot\n",
    "\n",
    "#uncomment the below to export to html\n",
    "#html = mpld3.fig_to_html(fig)\n",
    "#print(html)"
   ]
  },
  {
   "cell_type": "markdown",
   "metadata": {},
   "source": [
    "Hierarchical clustering\n",
    "Now that I was successfuly able to cluster and plot the documents using k-means, I wanted to try another clustering algorithm. I chose the Ward clustering algorithm because it offers hierarchical clustering. Ward clustering is an agglomerative clustering method, meaning that at each stage, the pair of clusters with minimum between-cluster distance are merged. I used the precomputed cosine distance matrix (dist) to calclate a linkage_matrix, which I then plot as a dendrogram.\n",
    "\n",
    "Note that this method returned 3 primary clusters, with the largest cluster being split into about 4 major subclusters."
   ]
  },
  {
   "cell_type": "code",
   "execution_count": 143,
   "metadata": {
    "scrolled": true
   },
   "outputs": [
    {
     "data": {
      "image/png": "[encoded data removed]",
      "text/plain": [
       "<matplotlib.figure.Figure at 0x2255512af60>"
      ]
     },
     "metadata": {},
     "output_type": "display_data"
    }
   ],
   "source": [
    "from scipy.cluster.hierarchy import ward, dendrogram\n",
    "\n",
    "linkage_matrix = ward(dist) #define the linkage_matrix using ward clustering pre-computed distances\n",
    "\n",
    "fig, ax = plt.subplots(figsize=(15, 20)) # set size\n",
    "ax = dendrogram(linkage_matrix, orientation=\"right\", labels=lines);\n",
    "\n",
    "plt.tick_params(\\\n",
    "    axis= 'x',          # changes apply to the x-axis\n",
    "    which='both',      # both major and minor ticks are affected\n",
    "    bottom='off',      # ticks along the bottom edge are off\n",
    "    top='off',         # ticks along the top edge are off\n",
    "    labelbottom='off')\n",
    "\n",
    "plt.tight_layout() #show plot with tight layout\n",
    "\n",
    "#uncomment below to save figure\n",
    "plt.savefig('ward_clusters.png', dpi=200) #save figure as ward_clusters"
   ]
  },
  {
   "cell_type": "code",
   "execution_count": 63,
   "metadata": {
    "collapsed": true
   },
   "outputs": [],
   "source": [
    "plt.close()"
   ]
  },
  {
   "cell_type": "markdown",
   "metadata": {},
   "source": [
    "Latent Dirichlet Allocation\n",
    "This section focuses on using Latent Dirichlet Allocation (LDA) to learn yet more about the hidden structure within the top 100 lines. LDA is a probabilistic topic model that assumes documents are a mixture of topics and that each word in the document is attributable to the document's topics. There is quite a good high-level overview of probabilistic topic models"
   ]
  },
  {
   "cell_type": "code",
   "execution_count": 40,
   "metadata": {
    "collapsed": true
   },
   "outputs": [],
   "source": [
    "with open(\"MemN2N-tensorflow-master/data/ptb.test1.txt\") as f:\n",
    "    text = f.readlines()"
   ]
  },
  {
   "cell_type": "code",
   "execution_count": 41,
   "metadata": {
    "collapsed": true
   },
   "outputs": [],
   "source": [
    "\n",
    "#strip any proper names from a text...unfortunately right now this is yanking the first word from a sentence too.\n",
    "import string\n",
    "def strip_proppers(text):\n",
    "    # first tokenize by sentence, then by word to ensure that punctuation is caught as it's own token\n",
    "    tokens = [word for sent in nltk.sent_tokenize(text) for word in nltk.word_tokenize(sent) if word.islower()]\n",
    "    return \"\".join([\" \"+i if not i.startswith(\"'\") and i not in string.punctuation else i for i in tokens]).strip()"
   ]
  },
  {
   "cell_type": "code",
   "execution_count": 42,
   "metadata": {
    "collapsed": true
   },
   "outputs": [],
   "source": [
    "#strip any proper nouns (NNP) or plural proper nouns (NNPS) from a text\n",
    "from nltk.tag import pos_tag\n",
    "\n",
    "def strip_proppers_POS(text):\n",
    "    tagged = pos_tag(text.split()) #use NLTK's part of speech tagger\n",
    "    non_propernouns = [word for word,pos in tagged if pos != 'NNP' and pos != 'NNPS']\n",
    "    return non_propernouns"
   ]
  },
  {
   "cell_type": "code",
   "execution_count": 43,
   "metadata": {},
   "outputs": [
    {
     "name": "stdout",
     "output_type": "stream",
     "text": [
      "Wall time: 263 ms\n",
      "Wall time: 381 ms\n",
      "Wall time: 11 ms\n"
     ]
    }
   ],
   "source": [
    "from gensim import corpora, models, similarities \n",
    "\n",
    "#remove proper names\n",
    "%time preprocess = [strip_proppers(doc) for doc in lines]\n",
    "\n",
    "#tokenize\n",
    "%time tokenized_text = [tokenize_and_stem(text) for text in preprocess]\n",
    "\n",
    "#remove stop words\n",
    "%time texts = [[word for word in text if word not in stopwords] for text in tokenized_text]"
   ]
  },
  {
   "cell_type": "code",
   "execution_count": 44,
   "metadata": {
    "collapsed": true
   },
   "outputs": [],
   "source": [
    "\n",
    "#create a Gensim dictionary from the texts\n",
    "dictionary = corpora.Dictionary(texts)\n",
    "\n",
    "#remove extremes (similar to the min/max df step used when creating the tf-idf matrix)\n",
    "dictionary.filter_extremes(no_below=1, no_above=0.8)\n",
    "\n",
    "#convert the dictionary to a bag of words corpus for reference\n",
    "corpus = [dictionary.doc2bow(text) for text in texts]"
   ]
  },
  {
   "cell_type": "code",
   "execution_count": 45,
   "metadata": {
    "scrolled": false
   },
   "outputs": [
    {
     "name": "stdout",
     "output_type": "stream",
     "text": [
      "Wall time: 20.4 s\n"
     ]
    }
   ],
   "source": [
    "%time lda = models.LdaModel(corpus, num_topics=5,id2word=dictionary, update_every=5, chunksize=10000, passes=100)"
   ]
  },
  {
   "cell_type": "code",
   "execution_count": 46,
   "metadata": {},
   "outputs": [
    {
     "data": {
      "text/plain": [
       "[(0,\n",
       "  '0.432*\"kitchen\" + 0.241*\"offic\" + 0.181*\"yes\" + 0.122*\"mayb\" + 0.002*\"either\" + 0.002*\"bedroom\" + 0.002*\"travel\" + 0.002*\"journey\" + 0.002*\"went\" + 0.002*\"move\"'),\n",
       " (1,\n",
       "  '0.460*\"park\" + 0.161*\"journey\" + 0.144*\"travel\" + 0.108*\"bedroom\" + 0.095*\"either\" + 0.004*\"yes\" + 0.004*\"offic\" + 0.004*\"kitchen\" + 0.004*\"school\" + 0.004*\"mayb\"'),\n",
       " (2,\n",
       "  '0.360*\"school\" + 0.256*\"either\" + 0.154*\"bedroom\" + 0.121*\"offic\" + 0.089*\"move\" + 0.002*\"kitchen\" + 0.002*\"yes\" + 0.002*\"journey\" + 0.002*\"park\" + 0.002*\"mayb\"'),\n",
       " (3,\n",
       "  '0.711*\"cinema\" + 0.134*\"yes\" + 0.064*\"either\" + 0.009*\"move\" + 0.008*\"travel\" + 0.008*\"went\" + 0.008*\"journey\" + 0.008*\"back\" + 0.008*\"school\" + 0.008*\"park\"'),\n",
       " (4,\n",
       "  '0.420*\"went\" + 0.307*\"bedroom\" + 0.231*\"back\" + 0.004*\"offic\" + 0.004*\"school\" + 0.004*\"yes\" + 0.004*\"kitchen\" + 0.004*\"park\" + 0.004*\"cinema\" + 0.004*\"mayb\"')]"
      ]
     },
     "execution_count": 46,
     "metadata": {},
     "output_type": "execute_result"
    }
   ],
   "source": [
    "lda.show_topics()"
   ]
  },
  {
   "cell_type": "code",
   "execution_count": 49,
   "metadata": {
    "scrolled": false
   },
   "outputs": [
    {
     "name": "stdout",
     "output_type": "stream",
     "text": [
      "['0', \"[('kitchen', 0.43207747), ('offic', 0.24131805), ('yes', 0.18088028), ('mayb', 0.1217329), ('either', 0.002427548), ('bedroom', 0.0024020707), ('travel', 0.0023984732), ('journey', 0.0023971726), ('went', 0.0023967344), ('move', 0.0023965328), ('school', 0.002395984), ('park', 0.0023947465), ('back', 0.002394627), ('cinema', 0.0023875413)]\"]\n",
      "\n",
      "['1', \"[('park', 0.45965144), ('journey', 0.16136666), ('travel', 0.14382131), ('bedroom', 0.10821888), ('either', 0.09523649), ('yes', 0.0035377543), ('offic', 0.0035332043), ('kitchen', 0.0035296518), ('school', 0.0035260054), ('mayb', 0.003523372), ('cinema', 0.0035170764), ('back', 0.003515497), ('went', 0.003512771), ('move', 0.0035098803)]\"]\n",
      "\n",
      "['2', \"[('school', 0.36014536), ('either', 0.25631395), ('bedroom', 0.15381919), ('offic', 0.12128526), ('move', 0.08884631), ('kitchen', 0.0021847466), ('yes', 0.0021805342), ('journey', 0.0021778545), ('park', 0.0021767856), ('mayb', 0.002175191), ('travel', 0.0021743868), ('cinema', 0.0021741157), ('went', 0.0021740955), ('back', 0.0021722268)]\"]\n",
      "\n",
      "['3', \"[('cinema', 0.7106339), ('yes', 0.13400221), ('either', 0.06376819), ('move', 0.008671048), ('travel', 0.008333775), ('went', 0.008329108), ('journey', 0.008325851), ('back', 0.008300196), ('school', 0.008281037), ('park', 0.008279984), ('bedroom', 0.008270041), ('offic', 0.008269725), ('kitchen', 0.008267858), ('mayb', 0.008267126)]\"]\n",
      "\n",
      "['4', \"[('went', 0.4199248), ('bedroom', 0.3074697), ('back', 0.23076126), ('offic', 0.0038515383), ('school', 0.0038206002), ('yes', 0.0038167248), ('kitchen', 0.0038136486), ('park', 0.0038030397), ('cinema', 0.0038012706), ('mayb', 0.0038000508), ('move', 0.0037844921), ('either', 0.0037844814), ('journey', 0.0037841864), ('travel', 0.003784142)]\"]\n",
      "\n"
     ]
    }
   ],
   "source": [
    "topics_matrix = lda.show_topics(formatted=False, num_words=20)\n",
    "topic_words = topics_matrix\n",
    "for i in topic_words:\n",
    "    print([str(word) for word in i])\n",
    "    print()\n"
   ]
  },
  {
   "cell_type": "markdown",
   "metadata": {},
   "source": [
    "\n",
    "Here, I convert the topics into just a list of the top 20 words in each topic. You can see a similar breakdown of topics as I identified using k-means including a war/family topic and a more clearly war/epic topic."
   ]
  },
  {
   "cell_type": "code",
   "execution_count": 50,
   "metadata": {},
   "outputs": [
    {
     "data": {
      "text/plain": [
       "[(0,\n",
       "  [('kitchen', 0.43207747),\n",
       "   ('offic', 0.24131805),\n",
       "   ('yes', 0.18088028),\n",
       "   ('mayb', 0.1217329),\n",
       "   ('either', 0.002427548),\n",
       "   ('bedroom', 0.0024020707),\n",
       "   ('travel', 0.0023984732),\n",
       "   ('journey', 0.0023971726),\n",
       "   ('went', 0.0023967344),\n",
       "   ('move', 0.0023965328),\n",
       "   ('school', 0.002395984),\n",
       "   ('park', 0.0023947465),\n",
       "   ('back', 0.002394627),\n",
       "   ('cinema', 0.0023875413)]),\n",
       " (1,\n",
       "  [('park', 0.45965144),\n",
       "   ('journey', 0.16136666),\n",
       "   ('travel', 0.14382131),\n",
       "   ('bedroom', 0.10821888),\n",
       "   ('either', 0.09523649),\n",
       "   ('yes', 0.0035377543),\n",
       "   ('offic', 0.0035332043),\n",
       "   ('kitchen', 0.0035296518),\n",
       "   ('school', 0.0035260054),\n",
       "   ('mayb', 0.003523372),\n",
       "   ('cinema', 0.0035170764),\n",
       "   ('back', 0.003515497),\n",
       "   ('went', 0.003512771),\n",
       "   ('move', 0.0035098803)]),\n",
       " (2,\n",
       "  [('school', 0.36014536),\n",
       "   ('either', 0.25631395),\n",
       "   ('bedroom', 0.15381919),\n",
       "   ('offic', 0.12128526),\n",
       "   ('move', 0.08884631),\n",
       "   ('kitchen', 0.0021847466),\n",
       "   ('yes', 0.0021805342),\n",
       "   ('journey', 0.0021778545),\n",
       "   ('park', 0.0021767856),\n",
       "   ('mayb', 0.002175191),\n",
       "   ('travel', 0.0021743868),\n",
       "   ('cinema', 0.0021741157),\n",
       "   ('went', 0.0021740955),\n",
       "   ('back', 0.0021722268)]),\n",
       " (3,\n",
       "  [('cinema', 0.7106339),\n",
       "   ('yes', 0.13400221),\n",
       "   ('either', 0.06376819),\n",
       "   ('move', 0.008671048),\n",
       "   ('travel', 0.008333775),\n",
       "   ('went', 0.008329108),\n",
       "   ('journey', 0.008325851),\n",
       "   ('back', 0.008300196),\n",
       "   ('school', 0.008281037),\n",
       "   ('park', 0.008279984),\n",
       "   ('bedroom', 0.008270041),\n",
       "   ('offic', 0.008269725),\n",
       "   ('kitchen', 0.008267858),\n",
       "   ('mayb', 0.008267126)]),\n",
       " (4,\n",
       "  [('went', 0.4199248),\n",
       "   ('bedroom', 0.3074697),\n",
       "   ('back', 0.23076126),\n",
       "   ('offic', 0.0038515383),\n",
       "   ('school', 0.0038206002),\n",
       "   ('yes', 0.0038167248),\n",
       "   ('kitchen', 0.0038136486),\n",
       "   ('park', 0.0038030397),\n",
       "   ('cinema', 0.0038012706),\n",
       "   ('mayb', 0.0038000508),\n",
       "   ('move', 0.0037844921),\n",
       "   ('either', 0.0037844814),\n",
       "   ('journey', 0.0037841864),\n",
       "   ('travel', 0.003784142)])]"
      ]
     },
     "execution_count": 50,
     "metadata": {},
     "output_type": "execute_result"
    }
   ],
   "source": [
    "topic_words"
   ]
  },
  {
   "cell_type": "code",
   "execution_count": null,
   "metadata": {
    "collapsed": true
   },
   "outputs": [],
   "source": []
  }
 ],
 "metadata": {
  "kernelspec": {
   "display_name": "Python 3",
   "language": "python",
   "name": "python3"
  },
  "language_info": {
   "codemirror_mode": {
    "name": "ipython",
    "version": 2
   },
   "file_extension": ".py",
   "mimetype": "text/x-python",
   "name": "python",
   "nbconvert_exporter": "python",
   "pygments_lexer": "ipython2",
   "version": "2.7.13"
  }
 },
 "nbformat": 4,
 "nbformat_minor": 2
}
