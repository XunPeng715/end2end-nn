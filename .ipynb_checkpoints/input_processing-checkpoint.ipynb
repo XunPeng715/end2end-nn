{
 "cells": [
  {
   "cell_type": "code",
   "execution_count": 1,
   "metadata": {
    "collapsed": true
   },
   "outputs": [],
   "source": [
    "stories = dict()\n",
    "questions = dict()\n",
    "\n",
    "word2idx = {}"
   ]
  },
  {
   "cell_type": "code",
   "execution_count": 3,
   "metadata": {},
   "outputs": [],
   "source": [
    "if len(word2idx) == 0:\n",
    "    word2idx['<null>'] = 0"
   ]
  },
  {
   "cell_type": "code",
   "execution_count": 4,
   "metadata": {
    "collapsed": true
   },
   "outputs": [],
   "source": [
    "with open(\"data/qa1_train.txt\") as f:\n",
    "    lines = f.readlines()"
   ]
  },
  {
   "cell_type": "code",
   "execution_count": 7,
   "metadata": {},
   "outputs": [
    {
     "data": {
      "text/plain": [
       "'2 John went to the hallway.\\n'"
      ]
     },
     "execution_count": 7,
     "metadata": {},
     "output_type": "execute_result"
    }
   ],
   "source": [
    "lines[1]"
   ]
  },
  {
   "cell_type": "code",
   "execution_count": 8,
   "metadata": {
    "collapsed": true
   },
   "outputs": [],
   "source": [
    "max_words = 0\n",
    "max_sentences = 0"
   ]
  },
  {
   "cell_type": "code",
   "execution_count": 9,
   "metadata": {
    "collapsed": true
   },
   "outputs": [],
   "source": [
    "for line in lines:\n",
    "    words = line.split()\n",
    "    max_words = max(max_words, len(words))\n",
    "    \n",
    "    # Determine whether the line indicates the start of a new story\n",
    "    if words[0] == '1':\n",
    "        story_ind = len(stories)\n",
    "        sentence_ind = 0\n",
    "        stories[story_ind] = []\n",
    "    \n",
    "    # Determine whether the line is a question or not\n",
    "    if '?' in line:\n",
    "        is_question = True\n",
    "        question_ind = len(questions)\n",
    "        questions[question_ind] = {'question': [], 'answer': [], 'story_index': story_ind, 'sentence_index': sentence_ind}\n",
    "    else:\n",
    "        is_question = False\n",
    "        sentence_ind = len(stories[story_ind])\n",
    "    \n",
    "    # Parse and append the words to appropriate dictionary / Expand word2idx dictionary\n",
    "    sentence_list = []\n",
    "    for k in range(1, len(words)):\n",
    "        w = words[k].lower()\n",
    "        \n",
    "        # Remove punctuation\n",
    "        if ('.' in w) or ('?' in w):\n",
    "            w = w[:-1]\n",
    "        \n",
    "        # Add new word to dictionary\n",
    "        if w not in word2idx:\n",
    "            word2idx[w] = len(word2idx)\n",
    "        \n",
    "        # Append sentence to story dict if not question\n",
    "        if not is_question:\n",
    "            sentence_list.append(w)\n",
    "            \n",
    "            if '.' in words[k]:\n",
    "                stories[story_ind].append(sentence_list)\n",
    "                break\n",
    "        \n",
    "        # Append sentence and answer to question dict if question\n",
    "        else:\n",
    "            sentence_list.append(w)\n",
    "            \n",
    "            if '?' in words[k]:\n",
    "                answer = words[k + 1].lower()\n",
    "                \n",
    "                if answer not in word2idx:\n",
    "                    word2idx[answer] = len(word2idx)\n",
    "                \n",
    "                questions[question_ind]['question'].extend(sentence_list)\n",
    "                questions[question_ind]['answer'].append(answer)\n",
    "                break\n",
    "    \n",
    "    # Update max_sentences\n",
    "    max_sentences = max(max_sentences, sentence_ind+1)"
   ]
  },
  {
   "cell_type": "code",
   "execution_count": null,
   "metadata": {
    "collapsed": true
   },
   "outputs": [],
   "source": []
  },
  {
   "cell_type": "code",
   "execution_count": null,
   "metadata": {
    "collapsed": true
   },
   "outputs": [],
   "source": []
  }
 ],
 "metadata": {
  "kernelspec": {
   "display_name": "Python 3",
   "language": "python",
   "name": "python3"
  },
  "language_info": {
   "codemirror_mode": {
    "name": "ipython",
    "version": 2
   },
   "file_extension": ".py",
   "mimetype": "text/x-python",
   "name": "python",
   "nbconvert_exporter": "python",
   "pygments_lexer": "ipython2",
   "version": "2.7.13"
  }
 },
 "nbformat": 4,
 "nbformat_minor": 2
}
